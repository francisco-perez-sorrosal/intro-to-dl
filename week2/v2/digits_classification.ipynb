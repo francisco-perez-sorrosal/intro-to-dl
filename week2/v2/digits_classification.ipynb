{
 "cells": [
  {
   "cell_type": "markdown",
   "metadata": {
    "slideshow": {
     "slide_type": "slide"
    }
   },
   "source": [
    "# MNIST digits classification with TensorFlow"
   ]
  },
  {
   "cell_type": "markdown",
   "metadata": {},
   "source": [
    "<img src=\"images/mnist_sample.png\" style=\"width:30%\">"
   ]
  },
  {
   "cell_type": "code",
   "execution_count": 1,
   "metadata": {},
   "outputs": [
    {
     "name": "stdout",
     "output_type": "stream",
     "text": [
      "We're using TF 1.9.0\n"
     ]
    },
    {
     "name": "stderr",
     "output_type": "stream",
     "text": [
      "Using TensorFlow backend.\n"
     ]
    }
   ],
   "source": [
    "import numpy as np\n",
    "from sklearn.metrics import accuracy_score\n",
    "from matplotlib import pyplot as plt\n",
    "%matplotlib inline\n",
    "import tensorflow as tf\n",
    "print(\"We're using TF\", tf.__version__)\n",
    "\n",
    "import sys\n",
    "sys.path.append(\"../..\")\n",
    "import grading\n",
    "\n",
    "import matplotlib_utils\n",
    "from importlib import reload\n",
    "reload(matplotlib_utils)\n",
    "\n",
    "import grading_utils\n",
    "reload(grading_utils)\n",
    "\n",
    "import keras_utils\n",
    "from keras_utils import reset_tf_session"
   ]
  },
  {
   "cell_type": "markdown",
   "metadata": {},
   "source": [
    "# Fill in your Coursera token and email\n",
    "To successfully submit your answers to our grader, please fill in your Coursera submission token and email"
   ]
  },
  {
   "cell_type": "code",
   "execution_count": 2,
   "metadata": {},
   "outputs": [],
   "source": [
    "grader = grading.Grader(assignment_key=\"XtD7ho3TEeiHQBLWejjYAA\", \n",
    "                        all_parts=[\"9XaAS\", \"vmogZ\", \"RMv95\", \"i8bgs\", \"rE763\"])"
   ]
  },
  {
   "cell_type": "code",
   "execution_count": 111,
   "metadata": {},
   "outputs": [],
   "source": [
    "# token expires every 30 min\n",
    "COURSERA_TOKEN = \"\"\n",
    "COURSERA_EMAIL = \"\""
   ]
  },
  {
   "cell_type": "markdown",
   "metadata": {},
   "source": [
    "# Look at the data\n",
    "\n",
    "In this task we have 50000 28x28 images of digits from 0 to 9.\n",
    "We will train a classifier on this data."
   ]
  },
  {
   "cell_type": "code",
   "execution_count": 3,
   "metadata": {},
   "outputs": [
    {
     "name": "stdout",
     "output_type": "stream",
     "text": [
      "Downloading data from https://s3.amazonaws.com/img-datasets/mnist.npz\n",
      "11493376/11490434 [==============================] - 2s 0us/step\n"
     ]
    }
   ],
   "source": [
    "import preprocessed_mnist\n",
    "X_train, y_train, X_val, y_val, X_test, y_test = preprocessed_mnist.load_dataset()"
   ]
  },
  {
   "cell_type": "code",
   "execution_count": 7,
   "metadata": {},
   "outputs": [
    {
     "name": "stdout",
     "output_type": "stream",
     "text": [
      "X_train [shape (50000, 28, 28)] sample patch:\n",
      " [[ 0.          0.29803922  0.96470588  0.98823529  0.43921569]\n",
      " [ 0.          0.33333333  0.98823529  0.90196078  0.09803922]\n",
      " [ 0.          0.33333333  0.98823529  0.8745098   0.        ]\n",
      " [ 0.          0.33333333  0.98823529  0.56862745  0.        ]\n",
      " [ 0.          0.3372549   0.99215686  0.88235294  0.        ]]\n",
      "A closeup of a sample patch:\n"
     ]
    },
    {
     "data": {
      "image/png": "[encoded data removed]",
      "text/plain": [
       "<Figure size 432x288 with 1 Axes>"
      ]
     },
     "metadata": {},
     "output_type": "display_data"
    },
    {
     "name": "stdout",
     "output_type": "stream",
     "text": [
      "And the whole sample:\n"
     ]
    },
    {
     "data": {
      "image/png": "[encoded data removed]",
      "text/plain": [
       "<Figure size 432x288 with 1 Axes>"
      ]
     },
     "metadata": {},
     "output_type": "display_data"
    },
    {
     "name": "stdout",
     "output_type": "stream",
     "text": [
      "y_train [shape (50000,)] 10 samples:\n",
      " [5 0 4 1 9 2 1 3 1 4]\n"
     ]
    }
   ],
   "source": [
    "# X contains rgb values divided by 255\n",
    "print(\"X_train [shape %s] sample patch:\\n\" % (str(X_train.shape)), X_train[1, 15:20, 5:10])\n",
    "print(\"A closeup of a sample patch:\")\n",
    "plt.imshow(X_train[1, 10:20, 5:10], cmap=\"Greys\")\n",
    "plt.show()\n",
    "print(\"And the whole sample:\")\n",
    "plt.imshow(X_train[1], cmap=\"Greys\")\n",
    "plt.show()\n",
    "print(\"y_train [shape %s] 10 samples:\\n\" % (str(y_train.shape)), y_train[:10])"
   ]
  },
  {
   "cell_type": "markdown",
   "metadata": {},
   "source": [
    "# Linear model\n",
    "\n",
    "Your task is to train a linear classifier $\\vec{x} \\rightarrow y$ with SGD using TensorFlow.\n",
    "\n",
    "You will need to calculate a logit (a linear transformation) $z_k$ for each class: \n",
    "$$z_k = \\vec{x} \\cdot \\vec{w_k} + b_k \\quad k = 0..9$$\n",
    "\n",
    "And transform logits $z_k$ to valid probabilities $p_k$ with softmax: \n",
    "$$p_k = \\frac{e^{z_k}}{\\sum_{i=0}^{9}{e^{z_i}}} \\quad k = 0..9$$\n",
    "\n",
    "We will use a cross-entropy loss to train our multi-class classifier:\n",
    "$$\\text{cross-entropy}(y, p) = -\\sum_{k=0}^{9}{\\log(p_k)[y = k]}$$ \n",
    "\n",
    "where \n",
    "$$\n",
    "[x]=\\begin{cases}\n",
    "       1, \\quad \\text{if $x$ is true} \\\\\n",
    "       0, \\quad \\text{otherwise}\n",
    "    \\end{cases}\n",
    "$$\n",
    "\n",
    "Cross-entropy minimization pushes $p_k$ close to 1 when $y = k$, which is what we want.\n",
    "\n",
    "Here's the plan:\n",
    "* Flatten the images (28x28 -> 784) with `X_train.reshape((X_train.shape[0], -1))` to simplify our linear model implementation\n",
    "* Use a matrix placeholder for flattened `X_train`\n",
    "* Convert `y_train` to one-hot encoded vectors that are needed for cross-entropy\n",
    "* Use a shared variable `W` for all weights (a column $\\vec{w_k}$ per class) and `b` for all biases.\n",
    "* Aim for ~0.93 validation accuracy"
   ]
  },
  {
   "cell_type": "code",
   "execution_count": 8,
   "metadata": {},
   "outputs": [
    {
     "name": "stdout",
     "output_type": "stream",
     "text": [
      "(50000, 28, 28)\n",
      "(50000, 784)\n",
      "(10000, 28, 28)\n",
      "(10000, 784)\n"
     ]
    }
   ],
   "source": [
    "print(X_train.shape)\n",
    "X_train_flat = X_train.reshape((X_train.shape[0], -1))\n",
    "print(X_train_flat.shape)\n",
    "\n",
    "print(X_val.shape)\n",
    "X_val_flat = X_val.reshape((X_val.shape[0], -1))\n",
    "print(X_val_flat.shape)"
   ]
  },
  {
   "cell_type": "code",
   "execution_count": 12,
   "metadata": {},
   "outputs": [
    {
     "name": "stdout",
     "output_type": "stream",
     "text": [
      "(50000, 10)\n",
      "[[ 0.  0.  0.  0.  0.  1.  0.  0.  0.  0.]\n",
      " [ 1.  0.  0.  0.  0.  0.  0.  0.  0.  0.]\n",
      " [ 0.  0.  0.  0.  1.  0.  0.  0.  0.  0.]] [5 0 4]\n"
     ]
    },
    {
     "data": {
      "text/plain": [
       "array([[ 0.,  0.,  0., ...,  0.,  0.,  0.],\n",
       "       [ 1.,  0.,  0., ...,  0.,  0.,  0.],\n",
       "       [ 0.,  0.,  0., ...,  0.,  0.,  0.],\n",
       "       ..., \n",
       "       [ 0.,  0.,  0., ...,  0.,  1.,  0.],\n",
       "       [ 0.,  0.,  0., ...,  0.,  0.,  0.],\n",
       "       [ 0.,  0.,  0., ...,  0.,  1.,  0.]], dtype=float32)"
      ]
     },
     "execution_count": 12,
     "metadata": {},
     "output_type": "execute_result"
    }
   ],
   "source": [
    "import keras\n",
    "\n",
    "y_train_oh = keras.utils.to_categorical(y_train, 10)\n",
    "y_val_oh = keras.utils.to_categorical(y_val, 10)\n",
    "\n",
    "print(y_train_oh.shape)\n",
    "print(y_train_oh[:3], y_train[:3])\n",
    "y_train_oh"
   ]
  },
  {
   "cell_type": "code",
   "execution_count": 100,
   "metadata": {},
   "outputs": [],
   "source": [
    "# run this again if you remake your graph\n",
    "s = reset_tf_session()"
   ]
  },
  {
   "cell_type": "code",
   "execution_count": 101,
   "metadata": {},
   "outputs": [],
   "source": [
    "# Model parameters: W and b\n",
    "W = tf.get_variable(\"weights\", shape=(784,10), dtype=tf.float32, initializer = tf.contrib.layers.xavier_initializer()) # tf.get_variable(...) with shape[0] = 784\n",
    "b = tf.get_variable(\"bias\", shape=(10,), dtype=tf.float32, initializer = tf.contrib.layers.xavier_initializer()) # tf.get_variable(...)"
   ]
  },
  {
   "cell_type": "code",
   "execution_count": 102,
   "metadata": {},
   "outputs": [],
   "source": [
    "# Placeholders for the input data\n",
    "input_X = tf.placeholder(\"float32\", shape=(None, 784), name=\"input_x\") ### YOUR CODE HERE ### tf.placeholder(...) for flat X with shape[0] = None for any batch size\n",
    "input_y = tf.placeholder(\"float32\", shape=(None, 10), name=\"y_true\") ### YOUR CODE HERE ### tf.placeholder(...) for one-hot encoded true labels"
   ]
  },
  {
   "cell_type": "code",
   "execution_count": 84,
   "metadata": {},
   "outputs": [
    {
     "data": {
      "text/plain": [
       "Dimension(None)"
      ]
     },
     "execution_count": 84,
     "metadata": {},
     "output_type": "execute_result"
    }
   ],
   "source": [
    "input_X.shape[0]"
   ]
  },
  {
   "cell_type": "code",
   "execution_count": 85,
   "metadata": {},
   "outputs": [],
   "source": [
    "# Compute predictions\n",
    "logits = input_X @ W + b # logits for input_X, resulting shape should be [input_X.shape[0], 10]\n",
    "probas = tf.nn.softmax(logits) ### YOUR CODE HERE ### apply tf.nn.softmax to logits\n",
    "classes = tf.argmax(probas,1) ### YOUR CODE HERE ### apply tf.argmax to find a class index with highest probability\n",
    "\n",
    "# Loss should be a scalar number: average loss over all the objects with tf.reduce_mean().\n",
    "# Use tf.nn.softmax_cross_entropy_with_logits on top of one-hot encoded input_y and logits.\n",
    "# It is identical to calculating cross-entropy on top of probas, but is more numerically friendly (read the docs).\n",
    "loss = tf.reduce_mean(tf.nn.softmax_cross_entropy_with_logits(labels=input_y, logits=logits)) ### YOUR CODE HERE ### cross-entropy loss\n",
    "\n",
    "# Use a default tf.train.AdamOptimizer to get an SGD step\n",
    "optimizer = tf.train.AdamOptimizer()\n",
    "step = optimizer.minimize(loss) ### YOUR CODE HERE ### optimizer step that minimizes the loss"
   ]
  },
  {
   "cell_type": "code",
   "execution_count": 86,
   "metadata": {},
   "outputs": [
    {
     "name": "stdout",
     "output_type": "stream",
     "text": [
      "(?, 10)\n",
      "(?, 10)\n",
      "(?,)\n",
      "()\n"
     ]
    },
    {
     "data": {
      "text/plain": [
       "[<tf.Variable 'weights:0' shape=(784, 10) dtype=float32_ref>,\n",
       " <tf.Variable 'bias:0' shape=(10,) dtype=float32_ref>]"
      ]
     },
     "execution_count": 86,
     "metadata": {},
     "output_type": "execute_result"
    }
   ],
   "source": [
    "print(logits.shape)\n",
    "print(probas.shape)\n",
    "print(classes.shape)\n",
    "print(loss.shape)\n",
    "tf.trainable_variables()"
   ]
  },
  {
   "cell_type": "code",
   "execution_count": 149,
   "metadata": {
    "scrolled": false
   },
   "outputs": [
    {
     "data": {
      "text/html": [
       "<img src=\"data:image/jpeg;base64,/9j/4AAQSkZJRgABAQEASABIAAD/2wBDAAIBAQEBAQIBAQECAgICAgQDAgICAgUEBAMEBgUGBgYFBgYGBwkIBgcJBwYGCAsICQoKCgoKBggLDAsKDAkKCgr/2wBDAQICAgICAgUDAwUKBwYHCgoKCgoKCgoKCgoKCgoKCgoKCgoKCgoKCgoKCgoKCgoKCgoKCgoKCgoKCgoKCgoKCgr/wAARCAEgA2ADASIAAhEBAxEB/8QAHwAAAQUBAQEBAQEAAAAAAAAAAAECAwQFBgcICQoL/8QAtRAAAgEDAwIEAwUFBAQAAAF9AQIDAAQRBRIhMUEGE1FhByJxFDKBkaEII0KxwRVS0fAkM2JyggkKFhcYGRolJicoKSo0NTY3ODk6Q0RFRkdISUpTVFVWV1hZWmNkZWZnaGlqc3R1dnd4eXqDhIWGh4iJipKTlJWWl5iZmqKjpKWmp6ipqrKztLW2t7i5usLDxMXGx8jJytLT1NXW19jZ2uHi4%2BTl5ufo6erx8vP09fb3%2BPn6/8QAHwEAAwEBAQEBAQEBAQAAAAAAAAECAwQFBgcICQoL/8QAtREAAgECBAQDBAcFBAQAAQJ3AAECAxEEBSExBhJBUQdhcRMiMoEIFEKRobHBCSMzUvAVYnLRChYkNOEl8RcYGRomJygpKjU2Nzg5OkNERUZHSElKU1RVVldYWVpjZGVmZ2hpanN0dXZ3eHl6goOEhYaHiImKkpOUlZaXmJmaoqOkpaanqKmqsrO0tba3uLm6wsPExcbHyMnK0tPU1dbX2Nna4uPk5ebn6Onq8vP09fb3%2BPn6/9oADAMBAAIRAxEAPwD9/KKKKACiiigAooooAKKKKACiiigAooooAKKKKACiiigAooooAKKKKACiiigAooooAKKKKACiiigAooooAKKKKACiiigAooooAKKKKACiiigAooooAKKKKACiiigAooooAKKKKACiiigAooooAKKKKACiiigAooooAKKKKACiiigAooooAKKKKACiiigAooooAKKKKACiiigAooooAKKKKACiiigAooooAKKKKACiiigAooooAKKKKACiiigAooooAKKKKACiiigAooooAKKKKACiiigAooooAKKKKACiiigAooooAKKKKACiiigAooooAKKKKACiiigAooooAKKKKACiiigAooooAKKKKACvPfjt%2B1J8FP2b5NGsfil4g1Maj4ilnTQNB8OeF9R1zVNR8lVed4bHTbee5kjiVkMkixlI96biu5c%2BhV4N%2B0P8D/j5/wANJ%2BDv2tv2bLLwfrWueH/B2seFNX8KeOdcutLtLywv7mwuxcQXtraXj288U2noCpt3WVJSCUKK1ABpf/BTL9izWLvxNb2nxXv0h8FWsk/jLUrvwXrEFjoIS0iu9l5dy2iwWsrQzRskMjrJIWKorMrKL2n/APBQ/wDZK1HwBrXxFTx/q9vB4f1ay0vVdE1DwNrNrrkV5ebfscC6PNaLqEr3AYGER27eaAxTcFYjy2b9gH4y%2BMf2a/jn8NfGHinwppHin4o/FS38daHc6U1xeWFpeW0OiywQ3IkihkkiN3pRRwoyYHGDuJVaPi79i/8AaV%2BLmr/Ef45fG34S/CjWvFnjWx8KaPp/gKy%2BI2s2Wm6fY6Hcaldw3qa7b6al5DqDXOqTOksVoPJSKNFZiWcgHsviH9vv9mzwv4a8OeI9XvvG3meK0v5NE8P2vwm8SXGuSRWUscV3NJpMWntf28MLzQq8s0CIpmiy37xM%2Bmaz8RPBHhv4e3XxX8T%2BJbbSvDljo76rf6vqrfZYbSySIzPPMZdvlKsYLNvxtAOcYNfGHin9hH9s/WPgV4X8Nay3hfxV470a58RHRfGd/wDHbxNpGr%2BCLW%2BuUktLO11q1sJLzXIYkjhWZb1YftJtovMBCjHqPxo/4J0Wvx6/Zu8T/Dj4hfHPxrd%2BO/GHwvj8M694pbxtrQ0ea%2BW0hibUE0Jb5bC3Z5oFlbyIopCHkAkVpGcgHRwf8FKP2Mv%2BFc%2BK/itrHxWvdE0bwRZWV94ofxP4O1fSbmysryYw2t79lvLWK4ktJZFZUuY42hby3IfCMRyHxu/4Kyfs7/DP4Iap8Y/Aei%2BKvFU2g/EHwv4X13wx/wAILrtjqdgdZ1K1tY7p7OTTmuvK8i4eeBvJ8u8eNLeGQyTxg%2BV6p/wTE%2BMnjv4VePtI8ReBvDejeMfEeh6Po9h4h1X9ovxn43W7tLXWLfUJo5P7dgP2CM%2BSxSKJZjvfDSYyT3/7UP7Bnxp%2BMHxB%2BL/xB8C%2BIfC8cni%2BD4W3nhKz1a%2BuYle/8J%2BI7nWpYbxo7eTyIbgNbwrLGJnXLsY/kVXAPULD/goJ%2By3qPxNsvgzD4n8TR%2BK7zRdP1iXQLv4b69Bc6dp9606QXd%2Bklkp06Hdbyq8l15SxEKJChdN1Hw1/wUw/Yp8W%2BDPFnxC0j4wXCaP4L8EXXjLWL3UPCWq2guPD1ujPNq1is9qjapZqqHE9mJ42LIFYl0DYOh/sh/FD4h/Ez43fEH44L4e0GL40fB3w74QurHwnrtxqMul3Fomupdss89na%2BZGBqsRifYrMUk3Rx4G75u/bG/ZU/ah0f9hj4pfE39pi78AWkPwh/Yp%2BIPgjwvH4C1C8uG15r3SLYz6jdLc20AsVCaRbhLONrgK00hM7bUFAH1n4e/4KS/sZeJtD1jxHp/xauoLPQ00qa%2Bk1TwlqtkzWmpXa2djqEK3FqjXNhLOwUX0Ie1UBnaVUVmHp%2BifF34eeI/ilr/wX0PxD9p8SeFtL0/UNfsI7SbbZwXzXAtd0xTyi7/ZZj5SuZFUIzKqyRlvknUP2Z/EHivQPFPxt/wCCkXi/4Z%2BE/Alv%2Bz3c/DqS48P%2BIJltZtNvZIZLzVbya9gt0sHJgthDbIZxATJ/pEhZcdh/wR88B/F2y/ZHtfj/APtIagb74k/F68j8T%2BK9Qeze3aSEWkFlpq%2BVJ88P/EutLSRomwUlmmyAxbIB9VUUUUAFFFFABRRRQAUUUUAFFFFABRRRQAUUUUAFFFFABRRRQAUUUUAFFFFABRRRQAUUUUAFFFFABRRRQAUUUUAFFFFABRRRQAV4jpH/AAUY/Y91K716z1P4pXnh5vDnhy58QahJ418I6roMc2k27pHPf2smpWsC31ujyRK0tsZUBljGcuufab2K5ms5YbO6EEzxMsUxj3%2BWxHDbT1wecd6/MTV/%2BCOX7cvxf1bwvrnxu%2BOOhvrfhrwfqFnqHijUPit4m8TjxDrf2zSr611E6XfRQ2Wk20lzpi%2BfYWQCiOTassgVAoB9sv8At/8A7MNr8NG%2BLGseIPFWlaW2uQaNY2eufDLX7DVNTv5kMkMFlptxYpe37SIGdfs8MgZUdgSEYjovAf7VnwP%2BI%2Bv2XhPw54h1SHV7/wAKT%2BJIdI1rwrqWmXaabDd/ZJZZYby3ikgdZ/kMMirL32bea8m%2BJ3wc/bd%2BMTfD342654N%2BFWh/EP4UeOptY8P%2BGbXxxqV/ouuWdxpN3plzHcXz6VDNYzFL2SSN0tbgRmIKfMEjYq/En4Dftwa/8ZfDv7TXgfRvhXaeLL74Yar4L8Y6FqXivUpLDSFuL%2BG6tb%2ByuE04SagYhG6yW8sVoJS4xLFjkA7jSf8Ago3%2ByB4j17wL4W8K/EbVdZ1P4k%2BDdK8W%2BDdO0TwPrN7PeaHqL7LXUZEgtGa1t92PMknEa24ZTN5QYE7Hw1/bc/Zu%2BK/xGufhP4Z8X6tZ6/b6Xc6nDZeJ/BmraIt/Y28iRz3dlLqNrBHfwRvLEHltmkRfMQkgMpPlH7Cn7CXxY/Zh1/4caz488QeGrs%2BDv2UvCPwxv30i5nlZtW0t5muZovMgj3Wrb02MxV22/NGmBXjXw0/4JV/tjeJ/ij4X8TftTfGGz1SLT/AHivwv408TQfF/xJrV54il1exS2/tO10y%2Bhj0/QjlSxtLRSi5UCZxGq0AfUvhP/gov%2ByP410WPxVoPjvXP7DuNV0vT9P8AEt78P9btdK1GXUr2OyspLS%2Bns0tryCW5mijFxBI8IMqFnCsCfS/C3xd%2BHnjX4geKfhd4X8Q/a9c8FyWcfie0S0mC2Ml1B9ogjMrII3doSshRGZkWSMsFEibvmHxx4E%2BIvhX/AIJ7eNPgR/wUM8T/AAq8EeAtB%2BGkWgW3xM8O%2BLbsM06RpbWupPaXVnAmmzLMLeSGCO4umM5REcnaG7X/AIJX/D74seG/2RNK%2BKv7RVglv8TvixfS%2BOviJClu0X2e/v1jMNpsb5k%2By2MdlZ7TkgWuDQB9G0UUUAFFFFABRRRQAUUUUAFFFFABRRRQAUUUUAFFFFABRRRQAUUUUAFFFFABRRRQAUUUUAFFFFABRRRQAUUUUAFFFFABRRRQAUVgfFL4m%2BEvg34C1H4l%2BOn1JdK0qNHuzpGhXep3JDOsaiO1s4pZ5mLMo2xxsec4wCazLP4%2B/C3VPgXp37SWi6zfaj4Q1fQLTWtKvtM0G9uri8srqOOS3eKziha5d3WWPEQiMmWxtzkUAdlXi/x68f8A7Rf/AA0X4F%2BBHwF8Z%2BCvD6a/4K8S69q%2Bp%2BL/AAXd60SdOu9Dt4YYY7fUrHyw39qSszMz58tAAvJPdfBr45fDP4%2B%2BG7vxR8MdZu7iHTtTk03VLTVNFu9NvdPvI1R2t7m0vYori2k2SRuEljUlJUcAq6k%2Bc/EXWls/%2BClXwh0WRRi9%2BCfxDZG77o9W8GnH5Mx/Ck2luXCEqjtHs392rL3/AAg//BQv/o6D4M/%2BGH1b/wCaij/hB/8AgoX/ANHQfBn/AMMPq3/zUV7NRTIPGf8AhB/%2BChf/AEdB8Gf/AAw%2Brf8AzUUf8IP/AMFC/wDo6D4M/wDhh9W/%2BaivZqKAPGf%2BEH/4KF/9HQfBn/ww%2Brf/ADUUf8IP/wAFC/8Ao6D4M/8Ahh9W/wDmor2aigDxn/hB/wDgoX/0dB8Gf/DD6t/81FH/AAg//BQv/o6D4M/%2BGH1b/wCaivZqKAPGf%2BEH/wCChf8A0dB8Gf8Aww%2Brf/NRR/wg/wDwUL/6Og%2BDP/hh9W/%2BaivZqKAPGf8AhB/%2BChf/AEdB8Gf/AAw%2Brf8AzUUf8IP/AMFC/wDo6D4M/wDhh9W/%2BaivZqKAPGf%2BEH/4KF/9HQfBn/ww%2Brf/ADUUf8IP/wAFC/8Ao6D4M/8Ahh9W/wDmor2auM%2BIfif4YeDJ9U8ZfGXxJoWk6BpOmWbTap4mvYbeytGmnliBaSciNC7%2BUgJIySqjk4pSlGEXKTskaUaNbEVY0qUXKUmkkk223okkk223skm30TOM/wCEH/4KF/8AR0HwZ/8ADD6t/wDNRR/wg/8AwUL/AOjoPgz/AOGH1b/5qKr/APDX/wDwTg/6Oi%2BCP/hbaP8A/HaP%2BGv/APgnB/0dF8Ef/C20f/47XL9fwH/P6H/gcP8A5I9z/VLiz/oXYj/wnr//ACgsf8IP/wAFC/8Ao6D4M/8Ahh9W/wDmoo/4Qf8A4KF/9HQfBn/ww%2Brf/NRXS/C74h/sqfHH7d/wpXxz8PvGH9l%2BV/af/CLanY6h9k8zf5fm%2BQzeXu8uTbuxu2NjODXHfFH9pL4CfCH9pfw1%2BzR4t%2BFOqPeeJfBupeIotb0vwJeX1laQ2d1Z27JPLbWsiRA/atzSOypEEUSFTNDv6IVKdWPNBprummvvTa/E8fFYTF4Gu6GJpypzW8ZxlCSurq8ZRjJXWqvFXWq01Ln/AAg//BQv/o6D4M/%2BGH1b/wCaij/hB/8AgoX/ANHQfBn/AMMPq3/zUVg2f7bf7D%2BofCTTfj3ZafrcngrVoXubPxUnwa142H2NLeC4a/km/s7bDY%2BVcRv9skK25Cy4kPky7LHjD9rP9k74a%2BKtZ8KfEG109Luy8dxeE9KsPDnhDUtZvr/UX0CHXPs4trTT2Yy/Y5HlAhM6GNFJkEjPBHZzmt/wg/8AwUL/AOjoPgz/AOGH1b/5qKP%2BEH/4KF/9HQfBn/ww%2Brf/ADUV1Hwy8a/s3/GPQNH8S/DW%2B8M6rb6/oUes6THFaxpcTWDnas5gdVlRd3yHeqlXBRgGBA8lsP2qtEvPj/D4Cf8AZu0RPAV58SLnwBZeOBqqG7k16DTpL2QNp/2TatnvgmtBP9pMhuEA8gRsJaAOy/4Qf/goX/0dB8Gf/DD6t/8ANRR/wg//AAUL/wCjoPgz/wCGH1b/AOaiuN/ab/aq0T4A%2BPdf0HQP2btE8Q6F8PfBmneLfinrc%2Bqx2Uuj6Pe3d5bxyWduLSUX8yJp1/PJE8luFjgXDs0irW7Y/G2y0j9pXx38FPij8AvDGh%2BH/CfgSDxZpniu01cXk1/YtNcQyme0%2Bxxi1ZGtnICzTblxnaeKANX/AIQf/goX/wBHQfBn/wAMPq3/AM1FH/CD/wDBQv8A6Og%2BDP8A4YfVv/morzv4TftqeDtW8Pav4j/aI/Zv0jwHFB8ONN8eaBb6fqKaxNqOj3zyxxW7oLSEx6ksqRRNaR%2BejSXcCxTTFmC8uP8Agov4Mt/gZ4F8ceLPgH8OvBvjLxrr/ifTpfD/AMQPiJa6Vo2jJoWqTabeTXOr/YpAczLbIiRW7s0l2ij5FeUAHtn/AAg//BQv/o6D4M/%2BGH1b/wCaij/hB/8AgoX/ANHQfBn/AMMPq3/zUVw/iH9rXwVY/tJ%2BHv2YtG%2BHvwlTXLrTdHu/En/CSfEaDTW33zP/AKLo0P2CWTWZ4oonmZSLZCstv84MrCPV0H9qT4YeI/20NS/ZZ034M6UNB0jwXqurXvxCnnhS2/tDTbnTYr2wSExYdIU1S3L3PmhVlSaErvikKgHR/wDCD/8ABQv/AKOg%2BDP/AIYfVv8A5qKP%2BEH/AOChf/R0HwZ/8MPq3/zUVwnwC/ad8QftT%2BEfiHr/AMEv2T/CMV14O8eQaPodv408TvpsOt6TPpGn6pb6qzw6ZcyWhlg1CJltmidguC7oxaNMPwz%2B2T4w1/8AZr%2BEH7TUv7GvgyPR/iX4203R9VSDxsZBplhqeuQaZpmpWbNpSHUFuI7mK88t1tdsbbd5bGQD1f8A4Qf/AIKF/wDR0HwZ/wDDD6t/81FH/CD/APBQv/o6D4M/%2BGH1b/5qK43x1%2B1VonhD446n4Ms/2bdEvfAvhjx/4e8D%2BMPGb6qkV3Y69rUdi1lFDYfZGW4gB1XSlkmNxGym9%2BWOQRsa4yH/AIKJeC9J8L3fxK8c/srabZeF9a8C674q%2BFl3pmrRXd54mtNNvLW18m4t3tYk0%2Be5a%2BspIFE1wpjmYyPE0ZQgHsv/AAg//BQv/o6D4M/%2BGH1b/wCaij/hB/8AgoX/ANHQfBn/AMMPq3/zUVww/ax07wv4D8eW/wAV/wBmbw9p3xI8F67ZaLZ%2BBvD2tpqNvr97f2kVzp62l7JZW7%2BXJ5rrLI9uv2cWl1IwaKISNz3jj9uvRfBf7P3wg/aSuvgB8OE0j4qeGND1ODwzf%2BPVt/EVxd6ilvIdO0ex/s1l1ieNbhSF823L4%2B6gOaAPWv8AhB/%2BChf/AEdB8Gf/AAw%2Brf8AzUUf8IP/AMFC/wDo6D4M/wDhh9W/%2BaisDxt8b9X%2BE/x50H4cfFP9mPwrb%2BGPF99qtp4V13QfEP2/VJGsdOuNQeW6002ESwQvFayoHjuZyJZLdGVTMNvK/s/ftcar%2B0HbHw7oX7Mvw6sfF2t/DTSPH3gPRJ/H3nWuo6HfzNGrXtzDpbNY3Ee0bkjhuomZ1EczgOyAHpP/AAg//BQv/o6D4M/%2BGH1b/wCaiqHgfxx%2B1Z4O/as8OfBH43fEf4e%2BJtG8TfD3xDrkM3hX4eX2i3VpdabfaJborPcavfJLG6apKSoRGDRIQ2Mg1v2Y/izqv7QvwN8WfE3xX8DfDPg%2B90PxVr2iaVN4Z19tUt77%2By55LSS9huZLGzkCm7guUUGLlYQ4Zg4xseOP%2BUhfwv8A%2ByM%2BPP8A07eEKAPZqKKKACvNv2sv2ldK/ZG%2BCOrfHrxH8L/FfivSdBhkudatPB8Nm9zZ2ccUk0124vLm3QxRpGchXLklQqMTivSa8Z/4KCfCf41fHz9j/wAefAb4CaN4Wu9e8b%2BG73QvO8X%2BI7nTLSyhuraWJrnzLeyu3kdCykReWoYE/vFwMgHYfHr46eH/AIA%2BDrTxPq/hrWNevdV1u00fw/4c8PRwNfatf3L7YreH7RLDCpwHkZ5ZY40jid2dQpNeT%2BI/%2BCmvwg0PwPp3jPTfhT4/1maTSde1TxPoOkaZZPf%2BFLLRLz7Dq01%2Bkl2iE211uh8q1e4lnMbm3SdVLVsfGz4YftL/ABm8FeEvFI8HeBdH8beAvGOmeJ9E0keNby60y/nSG4tryzmu/wCzI5YENvdTrHOtvId5R2iAUofGr39gP9q3wz4a1DX/AIc658P5/F3xA8M%2BNdI%2BIEer6tex2Gjvr%2BsyanFdWDpaO96LHz5oPJlS2%2B1jY5ltiCpAPtTTdS0/WdOt9X0m9iubW7gSa2uIXDJLGwDK6kcEEEEH3r54%2BE3ir9u/466Pr3jvwv8AG/4SaBpdv8QvFWh6XpV/8H9Uv7iK10vXr/TIWluE8RQLLI8dmrsyxRrucgKABXs1v8JPDEXwgs/gm9/rEekWeh2%2BlpcaZrl1p16IYY1jVkurOSKaF8IPnjdT155rx79hzw7p/hX9lK98H6Zc38tnafGnxxYpJqWq3F7cyw/8J5q0ZEtxcO807smQ0kjs7kksxJJoA6P/AIQf/goX/wBHQfBn/wAMPq3/AM1FH/CD/wDBQv8A6Og%2BDP8A4YfVv/mop%2Bv/ALUH/BP3wprt74W8U/tEfBzTdT027ktdR07UPF2lQz2s8bFJIpI3lDI6sCrKwBBBBGRVT/hr/wD4Jwf9HRfBH/wttH/%2BO1yvHYFOzqw/8Dj/APJHvQ4V4pqQU4ZfiGmk01QrtNPVNNUGmmmmmm00002mmWP%2BEH/4KF/9HQfBn/ww%2Brf/ADUUf8IP/wAFC/8Ao6D4M/8Ahh9W/wDmop%2BgftQf8E/fFeu2Xhbwt%2B0R8HNS1PUruO107TtP8W6VNPdTyMEjijjSUs7sxCqqgkkgAZNXv2q/iX8Kv2UP2b/Gv7SXin4XLq2n%2BCvD1xqt1pukaIJri5WJc7EWONiMnGXI2ouXcqqsw1pV6FdN05qVuzT/ACbPPx2V5nlc4wxuHqUnJXSqQnTbW10pwg2r6XSavpe%2Bhnf8IP8A8FC/%2BjoPgz/4YfVv/moo/wCEH/4KF/8AR0HwZ/8ADD6t/wDNRVHSf2sP2QNd8aS/DjS/DevS%2BILXw4uu6hoh%2BDmuLdafYPHdvFLdRNp4a1aUWN0sUcoSSZ4xHGrvJGrLpn7Tn7MHiaTw7/wiumWCHWfHU3hW9sPEvhLUdH1Gxvo9GutXMLWVzYCZJTa26zKtwtvG8MnmLKzGKObU4S7/AMIP/wAFC/8Ao6D4M/8Ahh9W/wDmoo/4Qf8A4KF/9HQfBn/ww%2Brf/NRVD4Kftf8A7C/7QWjTeI/ht4m0v%2BzovD%2Bn66l/4i8I3eiwXOl3zMtrewSajbQLc28jqUEsRdQ%2BEJDECrv7RvxEb4V6/wCD/hp8IPgB4a8XeM/G17eJpWl61qq6RYwWtnatcXNzPdJZ3ToB%2B5iVVhctJcR52IHdQB3/AAg//BQv/o6D4M/%2BGH1b/wCaij/hB/8AgoX/ANHQfBn/AMMPq3/zUVz2v/tSfC2D9i3w1%2B1/4T%2BCljeDxevh230bw7qhgs/Iv9Yv7TT4ILu5Eci28cVzeIs0qrJtWOQosh2q3FWn7bi%2BIr6y%2BFngn9mbwFefEpPF3iDQPEWjX3jlbbQtOn0e1t7u52aoNNeSdmgvLRkjNpG3zTeZ5Qgc0Aerf8IP/wAFC/8Ao6D4M/8Ahh9W/wDmoo/4Qf8A4KF/9HQfBn/ww%2Brf/NRXl3i39sbV7v4P/Cf9oz4F/steAfFPgn4uSeFoNBGreNZNO1kT6zNEpRbSLSLmCRbaCRriRvtK/Jbz4A2At0eu/tg/B/Q/2vdQ/Zvm%2BDmmnw3ofw%2B13xD4h%2BIRaMQWl5pTaW91pqWwhLTMltq1tNJMHCoWEQV3EgiAOu/4Qf8A4KF/9HQfBn/ww%2Brf/NRR/wAIP/wUL/6Og%2BDP/hh9W/8AmorF/Yr%2BPfhn9rvwrqXjn/hXHwxsdPiFq1lZeFvHVvr%2Bo2ZmR5DbatBFZxR6beRp5W6BJbgbmcCTCBn9r8GDZoZgUnZDfXcUQJztRLmRVX6BQAPYUAeXf8IP/wAFC/8Ao6D4M/8Ahh9W/wDmoo/4Qf8A4KF/9HQfBn/ww%2Brf/NRXs1FAHjP/AAg//BQv/o6D4M/%2BGH1b/wCaij/hB/8AgoX/ANHQfBn/AMMPq3/zUV7NRQB4z/wg/wDwUL/6Og%2BDP/hh9W/%2Baij/AIQf/goX/wBHQfBn/wAMPq3/AM1FezUUAeM/8IP/AMFC/wDo6D4M/wDhh9W/%2Baij/hB/%2BChf/R0HwZ/8MPq3/wA1FezUUAeM/wDCD/8ABQv/AKOg%2BDP/AIYfVv8A5qKP%2BEH/AOChf/R0HwZ/8MPq3/zUV7NRQB4z/wAIP/wUL/6Og%2BDP/hh9W/8Amoo/4Qf/AIKF/wDR0HwZ/wDDD6t/81FezUUAeM/8IP8A8FC/%2BjoPgz/4YfVv/moo/wCEH/4KF/8AR0HwZ/8ADD6t/wDNRXs1Y%2Bu/EPwB4XkMXibxzo%2BnMv3lvtTihI/77YUpSjFXk7GlKjWrz5aUXJ9km39yTf4HmP8Awg//AAUL/wCjoPgz/wCGH1b/AOaij/hB/wDgoX/0dB8Gf/DD6t/81FdLq37Wv7Kug5/tz9pn4fWW3732vxnYx4/76lFczq//AAUZ/YH0TP239sr4aNjqLXxlZzn8opGrmnjsDT%2BKrBeso/8AyR7WH4V4pxf8DL68/wDDQrP8qLX4i/8ACD/8FC/%2BjoPgz/4YfVv/AJqKP%2BEH/wCChf8A0dB8Gf8Aww%2Brf/NRXNXv/BWz/gnBYOY5/wBrfwuxHXyWmkH5pGQaxda/4LTf8E0dHKxRftKwahPIcRWuk%2BG9TupJD6Dy7YjP1IrnlnOTw3xFP/wOP%2BZ7FHw08RsQ0qeTYp/9y9b9aaX4o7//AIQf/goX/wBHQfBn/wAMPq3/AM1FH/CD/wDBQv8A6Og%2BDP8A4YfVv/morzEf8Fjv2c775/C3wW%2BNGuRH/Vz6T8L7t0kHqu/aaP8Ah6xda5%2B5%2BHn/AATt/aT1iQ/dln%2BG4s7fPoZZJ%2BPyrP8AtzKXtVT9FJ/lBnV/xCvxCj/Ey%2BUP8c6FO3rz4mFvmvkenf8ACD/8FC/%2BjoPgz/4YfVv/AJqKP%2BEH/wCChf8A0dB8Gf8Aww%2Brf/NRXmP/AA3l%2B3HqX7zw1/wSW8cyxt/qzqnjnTLJiPdXB20f8Ng/8FQbz/kG/wDBIWRFPSS8%2BO2jJj/gPlZo/trBPZTfpSqf/IB/xDPiePxzwsf8WOwS/wDdhnp3/CD/APBQv/o6D4M/%2BGH1b/5qKt/srfEb40%2BMNY%2BKHgT46a/4X1bVPAPxCi0Oz1Xwn4audJt7q1l0HR9TVnt7i9vGWRZNRlQsJdpWNDtU5z5N/wANGf8ABXHVuNP/AOCcXg/Sc9DqvxftZ8fXyY66H/gnZq/xl13XPjzqv7QPhHR9B8XzfGaD%2B1tJ0G/a6tLfHhHw2IgkrAF8wiNm9GZh2row2PpYqo4whNaXvKEor75W18jx874Sx2Q4VV8RiMPO75eWliaNaezd3Gk5WjprK9rtLqfSdFFFdx8uFFFFABRRRQAUUUUAFFFFABRRRQAUUUUAFFFFABRRRQAUUUUAc58XNa8QeH/hprWq%2BFfh5q/ivUUsWW08PaDcWUV3eM%2BE2xvfXFvbqQGLHzJUGFOCThT4H%2BzH4i/aj%2BBn/BOPwb4Hh/Yr8VT/ABG8AfCHTNKtvB2peKPD8MeqatZWkNoLdbuHUZoo43dDKJWIxEDkCTER%2Bn6KAPEf2DPAvjfwd8JtW1f4ueAPE%2Bi%2BOfE/imfWfHN54qbSxLrGpSW9vGbmCPTL69hgtI4YoLOCJpTKkNkgfef3snl3xW0TxH4L/wCCxvwH1PV/i34g1y08T/DX4jxafoWq2%2BnJa6KscvhqVo7Vra0hndX2At9plnYeWu0r8276/r42/bD1c6X/AMFjf2M4C2FvvDHxQt2P/bhozgfmgrmxk/Z0ebzj%2BMor9T3OHsP9bzP2X/Tus/8AwGhWl/7afZNFFFdJ4YUUUUAFFFFABRRRQAUUUUAFFFFABXKeLvAPgT4oXmteBviX4K0nxFol9pVh9t0fXdNiu7W42XFxIm%2BKVWR9rorjIOGUEcgV1deffGj45/Cz9mvQfEnxr%2BNfin%2BxfDOi6Vpn9p6n9hnufJ867mgj/dwI8jZlljX5VON2TgAkZ1pUo0pSq25Une9rW63vpbvfQaxTwL%2Bsqp7Nw97mTcXG2vNzJpxtvdNNb3Rj/wDDA/7Cv/Rlnwl/8Nzpn/xij/hgf9hX/oyz4S/%2BG50z/wCMV5J/w/N/4JZf9HRf%2BWTrn/yFR/w/N/4JZf8AR0X/AJZOuf8AyFXh/XuFf%2BflD/yn/kaf8RSxP/Q9n/4WVf8A5oPof4XfAP4FfA77d/wpX4LeEvB/9qeV/af/AAi3hy10/wC1%2BXv8vzfIjXzNvmSbd2du9sYya4743/s1eLfiX8bvDPxo8E/EzTtDl0nwbrvhXW9P1Tw3JqC3%2Bm6nNp08hhdLu3NtcRvp0e2RhMhWVwYydrCT9lz9uf8AZZ/bR/t3/hmj4o/8JL/wjX2X%2B2v%2BJJfWf2b7R5vk/wDH1BFv3eRL93ONvOMjNj45ftefCr9nbWdU0n4nW2q2qaX8NtX8bfbYbaN4ruw0x4FvYYf3gZ7lPtNsRGVAYXCbWJ3BfYws8LUoKWGcXDpy25d9bW03/Ezlmss6f1yVd13P7bm6jlbT45Sm3a1tZO1raWseB/tJ/wDBI/8A4aC%2BAXgP4DTfGHw4bTwb8HLnwC8vi34aprcCtLaWluutWFtJeRx2Goxi1OyZvtG1JWUAcsfRPCX7Av8Awi/xw074zP8AFj7SbD4oxeMf7OOhbfMKeBY/Cf2XzPPOM7PtfmbT97ydn/LWtGL/AIKGfBm1/au0L9jnxVomoaH4v8SRgaRBf69ocryXH9mvqTW8lnbajLf25WCGf97LbJAXhKrK2%2BLzPOf2f/8Agp6fGHwb8DeL/iT4MvtW8X%2BL/hN8Odft/B3gjQY42vtY8S21/MbazmvNQCGNf7PuJCtwYVt4YCzXE5ciLoEe6/sx/AnxF%2Bzl8MtF%2BEn/AAndlrOk6Ra3Y8z%2Bw3t7iW4mvZrjzN/2h1WNUl8vy9hJK7t4B2DhbD9hzW7L4/w%2BPX%2BMUD%2BArP4k3Pj%2By8Djw0Rdx69Pp0llJu1D7Ttez3zzXYg%2BzCQXDg%2BeY1EVbH7GP7VGuftJeBL3xH428EX%2Bhal/wn3izRrTTDodwv2O30nV5rFY7yVWmgiudqJu/e7JXEjQhkU44n4r/tjfGzwj8bvEk/hjTfCx%2BHngD4l%2BDvA3irT77Tbl9Y1G%2B1%2BTTE%2B121ytysNvFbDWtPcxPBM0wS4AeMhMgGj8eP2FfHvx017UtWvvjtpel2/j7wFpfhD4yWNr4Kkddf02yuru4A08tfZ0t5BqOoQs0n2z91OgA3xK52NW/ZU%2BMHiX9rzXvjr4q%2BMnhG88C%2BIvAg8I6h4FT4fXceoNp4NzKD/af9rGPzDPcuWb7HgxARhVb97VP9rz9on9oDwH8QIfhd%2Bzha%2BEV1PT/hrrvjfWbjxlptzdQ3UFhJaxQ6bCLe4gMElw9xJm6YyrAIB%2B4mMmF8rtf%2BCmHxW8TftQ%2BG/A/hfw7o9r4Q8Qa/4YsbKy1HwjqMklzZ6to0OoG7k1%2BO4Gm6fdRvM0SaVPE11cCFGjOLqEgA7LwF/wTF0fUdNi0v8Aal%2BL994%2BXRfDOgeHvB9x4cXUPCtzptlo9xJc2txLcWGoedNfvM0Uks8bwRFraIpbxYbdn%2BCP%2BCW5%2BDHhHwqPgt8akHi3wh4q8ZalpfiD4i6RqHii3%2BxeIrySe6tDBdamsyuqC1XzluVEjwzSyRs11MC/9nb9rv8Aad%2BOeq%2BErW%2Bu/Aek2vxo%2BFureOPhZcxeF724bw9bWd5pkaW2podQT%2B0Xlt9XtJd0JswjxTJhhsY8rbft1/tSaJ8Mm8VfET4j/CTSdJ1P48at4J0v4tah4Kv7Pw/pelabZXKzX97ayawx3TavYXVhC5vYYiHgfczOsUgB0EX/AASe0jw1omjfD/4c/GC3sPDDeDfBHhzxomq%2BE1vNW1aDwvN5thPa3q3MSWMzjCSFoJ1UKjQrC4LNr3v/AASL/ZiufjE3j2LUvGg8NX/gbxX4c1/wPcfEvxHNaX39vXVrPeSpv1MraofKud0EUaq8lyk2Vkt4mHmdv/wVu1Tx14e8BnQ/FvhbwLLf%2BArrxP458R%2BIPh5rev2NrFb6pNpblILKa3ews/Ps7uWS%2BvJVitoxAsis0pZPZvin%2B0x8bfhZ%2B2X4J%2BDaXGj6/wCGvHV3cx22lQ/DvVLCbT4ItKvLoSrr8122m31y09mE/s%2BOKO58q487HlwO7AFHwr/wTb0/4Y%2BBfj94S%2BEnx88Yabd/G91W11nX/Eer6/ceGoxolppe6M6lqExuLgGCWZZyUYB4IW3x2sQrpf2n/wBk34i/FH4Q%2BB/gx%2Bzn8UPCfw/0jwV4i0DVLeDXfAVzraMujX1neWFtEsOp2Xkxh7NEkyZC0bYUxkbj84eCP%2BCt/wAVdV%2BF/ibVbq8%2BHniLxZD8I7TxrBovhvSr2EeD7lr2C0vtE1SOW7eS8vrM3ULGGP7JcTsjRfZ4WliLemfDD9rP9pH4rfs9eN/iofi58MfB0Xw58XalZ694u8a/C/WbGGfTbbT7W68640S61OC90aUPcSKVupnZooY7hIzHcx4AOv8AFP7DPizxX8YbzxddfGyyh8IeJfHPhvxv468JQ%2BE28/UvEWiRWKWk9teG8ItLZn0rS3e3aGdz9jwsyiR65GH/AIJZyat4WvPhr45%2BPTXvhfRfAuu%2BFPhZaaZ4YFpeeGbTUry1uxPcTvcypqE9q1jZRwMIbdRHCwkSVpCw0PHv7Uv7WHhr4KfCj9o2bQ/B2gr42tPCNtqnwf1vw9eza/daxqs0IvLC1vVvIkge2ilkfD2c3FpM8hiRWZOp8SfHn44fC39rfw78LPH3jDwDqvhXxZaa3qLabpWg3VlqfhXSLGDzF1S9vJb2WGeAymK2f/R7bEl0m1nEb5AMi3/4Jv8Ahr4iT6146/ak%2BI%2Bo%2BJ/HeseIRq0XiXwDqWs%2BDYtMZNLXS4oraKw1Rpwgt/OLiW5l3vdz/dRljXNT/gnn8UNL/Y%2B8H/sI%2BGv2k9Ph%2BHuj%2BANO8NeJ7nVfCF7qGu6g0GPOu7G/n1UrpzOAPJR4bkWm1BEQsaKtP4R/8FE/G/iOb4ueM/iJ8O7W38PaCvh%2B4%2BE%2Bgafbyxazr0WriaLT4LjzpNgubyaOF402ReQl2qTfNFI9cZD/AMFKPjpafBz4Z6P47m8IaD8RvGniPxzaazq2kfD7XPEemWdr4a1ifT52tdKsZxfXUkn%2BitkzIsafaJmwsYiIB7f4F/Zd%2BOvh/wDbK8QftQeNfjx4T8R6Xq0Lado%2Bh3Xw7uotR8PaMIwV0%2ByvhqrQRh7lEubiY2ZkuCioxVYrcQ5f7P37COofBDxf42%2BL9v4l%2BH1h438UeHjpWl3/AIA%2BFKaBpenkvLM15NZC9ne9upZ3ieaR51DrawoqxYdnw/iT%2B3j4wtviP8HfBPwMuPCXi7SPEusaBH8RPGdvDM1ittq1vI9kmnBJyBNOsb3QLvMIbdYt6v8AaopBt/Cf9sbx98XP25L/AODOheHdHX4ZDwXq11oGvGOU6hq2paZqdlZXk8b%2BZ5YshLdy26Dy97yWckgcxPHkA9F%2BFvwU0D9nD9lHSPgL4Yvpbuz8I%2BCV0tL%2B4GJr14rba9zLycyyuGlckkl3YkknNYPjj/lIX8L/APsjPjz/ANO3hCvUvHP/ACJOsf8AYKuP/RbV5b44/wCUhfwv/wCyM%2BPP/Tt4QoA9mooooAKKKKACiiigArwX9j//AJN61f8A7L345/8AVgarXvVeC/sf/wDJvWr/APZe/HP/AKsDVaAOs1/9ib9jLxXrt74p8U/sj/DHUtT1K7kutR1HUPAOnTT3U8jF5JZJHhLO7MSzMxJJJJOTVT/hgf8AYV/6Ms%2BEv/hudM/%2BMV534/8A%2BCyn/BNz4X%2BO9b%2BGnjr9o77Drfh3V7nTNYsv%2BEQ1iX7PdW8rRSx747Rkfa6MNysVOMgkc1kf8Pzf%2BCWX/R0X/lk65/8AIVeDPG8MKbUp0b3d7%2BzvfrfTe97mn/ETcTQ/dLPJx5dLfW6qtbS1vrCta1rWVrWsrWXs2gfsTfsZeFNdsvFPhb9kf4Y6bqem3cd1p2o6f4B06Ge1njYPHLHIkIZHVgGVlIIIBByK1v2mvgnZftJ/s6eO/wBnvUNfl0mHxv4R1DQ31WCASvZ/ard4RMEJAcoXDbSQG24yM5rxrwD/AMFlP%2BCbnxQ8d6L8NPAv7R327W/EWr22maPZf8IhrEX2i6uJViij3yWiom53UbmYKM5JA5r3H46/GHw5%2Bz78HvEfxv8AGWmajdaN4V0qXUtZTSoUknis4hunmCu6BlijDysM52xttDNhT6GBrZbWhJ4OUGk9eTltfz5UtbdyZcSVOJP3s8a8TyaXdWVXlvra8qlS197Jq%2B9up5H4i/Ym%2BIXj/Qfi7L49%2BPtrF4k%2BLfw703wzfa14T8KzabDpslmNRC3MUUl9PIyOL8BojMDiJsSDzBs4f4Jf8EpoPhF4jh8TW/xI8I6eF%2BLi%2BOX0HwH8L49B0iBh4RvPDhs7e1S8l8oN9qF20rPIzOrIR84dPRPjP/wUQ%2BDvwW0vxdrmqeHNT1Cx8FeLbPw3rGojxBoOlWj39xpsWohIbnV9Ss4ZNkE8AYB9%2B%2BYKivskKcja/wDBR3SfFPj6O/8ABNxaXHgLXPBnwk13wjqsWhST3l1/wmHiDVtNKzI93CscYis7MqwBeBpJnZLnCwV3EnV/A39ijxD8Ao/Al34R%2BLllc3/gb4G6V8OreXUPC7tDd/Y5IGN80aXasu9YWAhDnYXB8xtu1us/aN%2BAXjj4qeIPB/xM%2BD/xP07wj4z8E3t4%2BlaprXhp9XsZ7W8tWt7m2ntUurV3B/cyqyzIVkt4870Lo3mPg7/goz/wsv8AaI8HeCfCHwh8S2fgLxJ4K8Wa/aeK9U0ITv4gh0m406GOfS47K5mnaN/tUreVPbpPMrQNEhBOfSP2pPjR8QPh7o3gXwt8HE0iHxR8SfG9v4c0LUPFGmT3FlpubK81Ge5ntY5reWbba2FwFiEsRMjICyjNAFPw7%2ByxrHgL9l61/ZW8GeKfC%2BoaHpngew0Kx/4TvwS2sR3k8W4XdzqEC3kEd3HcJtzAgh2OZG3urqied2f/AATXi8N/s8v8F/CN78JHvNW8ZTeJPEc/ib4Hw6joyXbwJbxHTNJF/FHpxt4IbaKAvJcbUg%2BcSs7Oeh0r9rr4pv8AsE%2BNf2j3%2BHdlq/jjwL/wlemX2iaPDcCz1DU9D1K%2B02WaGMGSdbeWSyM4iBklWN9mXcZPJ/BD9sz4j/Hrwf8AEzSPBP7TXwgur74YahZXd/8AFLSvA17feGdR0efTzdM0dsmsqySwyJPG8i3s0Y8g5UOzRxAHpHhX9ijwn4Kvfgbonh/xXc/8In8CdAubXw/oF5aiWa91A6fHptrqMtxuADw2cmooV8s%2BY9%2BX3J5e1%2BPvP%2BCVP7PX/DQtl8bdE13xhZ6efD3jLT9d8IzfEDXrqx1C48R3FpPd3CQz6g1vbJuhume3SDypZLmOUhXtYSPE/ij/AMFMf2y/hR%2Bzf8NviT4u8J%2BELPxJ4n%2BD2p%2BO9Vt4fhzrF9bTyRyW72mmTRW1%2BzeHozb3UYuNVvpZbOCQNuIC4Pu3iT9s/wAf3n7bPgD4B/Dnw5olx4K1DVL7RfG/iC582Wb%2B2F0S41WOzsXSRY/3EUEJnkdJFb7bGibXil2gGv8Asi/sYeIf2cPE8vizxl8VdL8R3Np8P9E8EaBHofg8aNFb6Ppb3T25uU%2B0z/abom6cNKvkxALiOCLc%2B72fwf8A8gmb/sK33/pXLWpWX4P/AOQTN/2Fb7/0rloA1KKKKACiiqHifxX4X8E6LP4l8ZeJLDSNOtl3XGoaneJbwRD1Z3IVR9TSbUVdvQunTqVZqEE3J6JJNtvskk235JN%2BRfor5d8b/wDBXz9j3SfEEngj4PX3if4t%2BIY%2Bui/Cjw1Nq7%2BgPnLtgYE91kasj/hpj/gqb8af3fwN/YP8P/D%2Bxl/499f%2BMHi7cxB7tYWQ8%2BMj0JNeXLOsv5nGlJ1H2hFz/GK5V85H3dLwz4vVKNbHUo4Om1dSxVWnhrruoVZe2kv8NB36XPrmuf8AiJ8Wfhb8IdFPiP4r/EjQfDNgAf8ATdf1eG0iOPRpWUE%2B1fM3/DEf7e3xj/eftLf8FKNe0mzl/wBb4f8Ag9oMOirEO4S%2BYNO47fMvH410Hw8/4JCfsG%2BCNaHizxJ8JJfHWukgz638RNXn1macju8c7GEn/tmKX1vNa38HD8q71JJf%2BSw5n/5MjT/V/gLLNcxzh15L7GEoSkvT22JdCn81TmuuqM3X/wDgsZ%2ByJNrE3hn4Iaf46%2BLWqW52y2Pww8FXWo7W7DzHEcbA%2BqswqmP2yP8Ago58TOPgn/wTIu9Gs5P9VrHxN8dWunlPTfZRgzfk1fVPh3wz4b8H6RD4e8JeH7HS7C3XbBY6daJBDGPRUQBV/AVeo%2Bp5nV/i4m3lCEY/jLnl%2BCE%2BJOB8v0y/JFUa%2B1isRVqt%2Bbp0Pq9Jel5Lo77nyT/wrj/gs58Tv%2BRq/aP%2BDnwxgk%2B7/wAIV4RudZuIl/2v7QIjLfQ4pV/4JnfGXxd/pPxk/wCCoXx51G5f/W/8Ifrdv4fgb28qGNwB7A19a0Uf2NhJfxZTn/iqTf4JwX4B/wARL4hoaZfSw2FX/TnCYeL/APA6lPETfzmfJR/4Iz/stazx8SfiP8WvGan/AFieKPiZeyh/r5RjrZ0H/gjX/wAEz/DsYjsv2VNJmxzu1DVr%2B6Yn1JmuGzX05RVRyPJ4u/1eDfnFN/fLmZlV8UfEirDk/tfERj2hVlTj/wCA0lSj%2BB4ZpX/BMz/gn1o2Psf7HXw/fHT7X4bhn/8ARobNdPpH7Ff7HGgYOh/sm/DSzI6G18CafGfzWEV6ZRXRDL8vp/DRgv8AtyP/AMieLiOMOLsX/HzLES9a9d/%2B5rfgctZfA34Kaagj074P%2BFrdV%2B6sPh%2B2QD8kra0bwr4Y8Obv%2BEe8OWFhv%2B99is0iz9doFX6K6Y0qUPhil8l/kePWx2OxCaq1ZyT7yk/zkwoooqzlCiiigArxn9l//kt/7R3/AGWax/8AUK8L17NXjP7L/wDyW/8AaO/7LNY/%2BoV4XoA9mooooAKKKKACiiigAooooAKKKKACiiigAooooAKKKKACiiigAooooAKKx/iB8RPh/wDCbwdf/ET4p%2BOtG8M%2BH9LiEmp674g1OKys7RCwUNLNMypGCzKMsQMkDvTrTx94E1DwJF8UbDxrpM/hmfSV1WHxFDqUTWElg0XnC7W4DeWYTERIJA20r82cc0Aa1fCf/BRjU/7E/wCCs/7EGp7sZuPHNrn/AK7RaLFj/wAer7O%2BGvxT%2BGPxn8IW/wAQfg98R9B8WaBdu62mueGtYgv7OZkYo4SaBmRirAqcHggg8ivhD/grrqR0X/gpH%2Bw5qgOB/wAJzq9sT6Ca/wDD0X/s1ebm8uTL5y7OP/pdM%2B18O6H1rjDD0f54119%2BFxf%2BR%2BhtFFFekfFBRRRQAUUUUAFFFFABRRRQAUUUUAFZVp/yO2of9gqz/wDRlzWrVLUvD2l6rcLeXKzpMqbBLbXcsLFc52kxspIzzg%2BtAF2isv8A4Q/Sf%2BfvVf8AweXf/wAdo/4Q/Sf%2BfvVf/B5d/wDx2gDUryn9qD9jz4Vftay%2BCpviXf6zanwP4vttesv7Fu44f7QER3Pp93vjfzbKZljMsI2l/Jj%2BYAEH0L/hD9J/5%2B9V/wDB5d//AB2j/hD9J/5%2B9V/8Hl3/APHaAPGB/wAE%2Bfhwn7QVj8fYfiv45jTTviLceObTwZHe2I0ga3PpE2kzXDf6J9qkDW88hEb3DIj4KBF%2BU43hz/gl38EPBng3QPDHg74j%2BOdMvvCfg3wZ4e8LeJbe/sWv9LXwzHfRWF5H5lo0D3EkWo3UU4lieGRJNoiQZz9Af8IfpP8Az96r/wCDy7/%2BO0f8IfpP/P3qv/g8u/8A47QBw37O37MWj/s1%2BGE8JeEvil4s1a1l1/XNb1ZvEM9nPJql/qt899PNM8dtGV2TSS%2BWkXloFlKsr7U243jv9iH4cePvjYfjHqHjnxVaW15reja34h8FWN1ajR9d1XSXSTTb65V7drgSwPDasBDPEjmzt/MSTyxXqX/CH6T/AM/eq/8Ag8u//jtH/CH6T/z96r/4PLv/AOO0AeVfHj9ifw7%2B0B9jvfEXxt8eaPqsGka1ol7rnhy5063utR0PVJo5brSZt1k6LABBbpHNEkd3GIAy3Ad5XkoT/wDBPf4S/wDCzG8aaT458W6b4fn8V6N4nv8A4cWFzZLod3rGlWtnbWF4wa1N2hiTT7AiKK5SFns42aNiXL%2Byf8IfpP8Az96r/wCDy7/%2BO0f8IfpP/P3qv/g8u/8A47QB5T8Dv2Gvh58BPGJ8X%2BF/iJ4u1AadoF9oXgjS9YubOS18HaXeXUV1cWeniO1RzG0tvac3T3DKlpAisETadXw/%2Byva/D39nDwr%2BzZ8F/jb408EWXhKwtrO08SaINLudUvI4omR2uW1CxuYJJJmYzSyCFWaU7gVyQfQf%2BEP0n/n71X/AMHl3/8AHaP%2BEP0n/n71X/weXf8A8doA8N8bf8E1vgl4n8C6X8OfDPjfxl4T0y18DXHg3XR4d1G1M3iTQ7h99xaX013bTyM0kjTSG5haG5D3M7LMpkJrrdS/ZM07xF8W9C%2BJXi/41%2BNdX0jwprX9r%2BFfAN0dMi0bSr0WktqkqGCxjvJgkc8xSOe5ljVpN23KR7PRf%2BEP0n/n71X/AMHl3/8AHaP%2BEP0n/n71X/weXf8A8doA8Y1r/gn94I8b6b4lb4tfG3x/4w13xBZadaWXizWbnTYL/QIrC/XUbMWK2VjBbxtHexxXBeSGV5XhiEzSpGiDE8Yf8EzvCnjXw4ml6p%2B1B8UV1O5%2BI0PjfxJ4gU6DJP4i1a3s7ezsze202lPZPDbRWdoYoY7eNFltopiGlUPX0F/wh%2Bk/8/eq/wDg8u//AI7R/wAIfpP/AD96r/4PLv8A%2BO0AeP8Ai79iO%2B8Y/HHwh%2B0De/tbfE6HXvBvhhdFsYktfDktrPufdd3rQz6RIILu6UJHNLbeR%2B7QJGsSlg0ng/8AYd0Lwv8AHXxz8bdW%2BO3jXxJB8RpXXxX4N8T2OhXelXVl9ne3h00MdMF4tlCkkhjtxc7N8kruJGmmMnrn/CH6T/z96r/4PLv/AOO0f8IfpP8Az96r/wCDy7/%2BO0AeH%2BEv%2BCVX/BPbwZ4q8YeIdK/ZD%2BHD2XjW202HVfDU/gDSTpcQsvMMRitxagKWd97li2WjRhtK1V8G/wDBML9n74Q%2BAdH8Ffs563rfwwu9B8Ta/rOmeI/AthpFveRnWLh5r21KTWEtq8G37PCgaAyRxWNoquDEGPvX/CH6T/z96r/4PLv/AOO0f8IfpP8Az96r/wCDy7/%2BO0AeDaz/AMEnP2BNasPh/BP%2Bzb4UF78OJ9EbRNek8NWFxqd1DpVsttZ213eXEEk1xEsUcQIZ9x8pDuGK6LwT/wAE7v2Nvhh%2B0nZftV/C39n3wj4X8WWWg3%2BlrN4c8KadZJL9smhlmunMNusrXOIjGJN4/dzzKQd%2BR6v/AMIfpP8Az96r/wCDy7/%2BO0f8IfpP/P3qv/g8u/8A47QAnjn/AJEnWP8AsF3H/otq8u8cf8pC/hf/ANkZ8ef%2BnbwhXqJ8GaG%2BFna%2BmTIJiuNWuZEb2ZWkKsPYgivLvHH/ACkL%2BF//AGRnx5/6dvCFAHs1FFFABXHfHj42eGv2fvh1L8RPE2kanqm7UrHTNM0XRIY5L3VNQvbqK0tLSBZZI4/MknmjXdI6RoCXd0RWYdjXl/7W/wAG/Gfxn%2BGFhY/DW80yLxN4a8YaL4l0CPW55IrK6uNPv4bk2s8kUcjxJNGkkPmrHIYjIJAkmzYwBmw/tsfDMfs8ar%2B0Lq3hPxNp66Jr7eH9V8H3VnbtrEGt/wBoJp0embIp3gaeW6lhjjdZjA4njkEvltvrDvf%2BCgvgy20uy023%2BB3jy58b3fjmfwlJ8Mov7HXWLXVIdL/td45ZpNRXTwv9nNFdBxdkMk0YXLkoMvwd%2BzD8V1%2BBPxF8D/Fz4Z%2BAvE%2Bp/EbXNQ8Taroo8Z39vp6ajPcJ5Fil0mn%2BfFHBb29oV1BIxN9oRpFt4sLjyM/8EuviBbeBRca18N/ht45k174t3fjTxt8JviF4v1PVNBvy%2BhQ6ParJq19Y3d1fT262kNz5tzasJJZZcLFshZAD7F%2BCHxg8H/tA/B7wx8cPh%2B10dE8WaHbarpf2638qYQTxiRQ6ZO1gDg4JGRwSME%2BW/sf/APJvWr/9l68c/wDqwNVrp/gH%2Bzxq/gP9kXwv%2BzZ8VfG%2Bo6pd6X4Xt9M1XV9B12%2BsJsoo%2BS3u4ZUuo0jAEaSeYspRFLHJNcz/AME9/B%2BiaL%2BzHqPgiE3tzYWXxa%2BIVrC2qapcXty6R%2BNNaCtJc3DvNNJwCZZHaRm%2BYsTzQB71RWV/wh%2Bk/wDP3qn/AIPLv/47S/8ACH6T/wA/eq/%2BDy7/APjtAGpVTXtC0fxRod74Z8RabDeafqNpJa31ncJujnhkUo8bDurKSCPQ1W/4Q/Sf%2BfvVf/B5d/8Ax2j/AIQ/Sf8An71X/wAHl3/8doA%2Bf/A//BML4UfDP4SeA/hj8PfjT8RtL1D4e63qeqaX45Gp6fc61ey6hHPFdC6kubKSGTdFN5SusKSxpDEEdNpJn8Df8ExPgH8P/DXh7wroni3xhJbeGvDXw80Owa71K2eR7bwbqt3qmltI32cbpJZ7yVbhuA6KgjELAu3vP/CH6T/z96r/AODy7/8AjtH/AAh%2Bk/8AP3qv/g8u/wD47QB4l8N/%2BCeHgT4VfEHSvH3hH45fENF8LeHNd0PwJolxe6bJY%2BFrLVZraaZLRDY75TE9pB5JunuNipsO5Plr0b45/APRPjv4N0vw5q/jTXdE1TQNatdY8PeLNAe1XUdM1CAMq3MQnglt2LRyTROkkLxvHNIpTB46f/hD9J/5%2B9V/8Hl3/wDHaP8AhD9J/wCfvVf/AAeXf/x2gDi/ht%2BzbYfCL4YQ/Cv4e/FXxVYWqadq63Gok2E15dapqV015ca1I8toym9%2B0y3EwAUWxe5k3QOBGE5m5/YV8Aa78FviD8HfHfxP8ZeI5viq23x/4u1S5sY9U1a38iK2Nofs1pFbQW5tYvs/lwwRjZJKwxLI8p9a/wCEP0n/AJ%2B9V/8AB5d//HaP%2BEP0n/n71X/weXf/AMdoA8r/AGi/2I/BH7ROvSeIZvij4y8Hzah4OufCfiNPB11ZRJrehzvvexnF1azmIAmTbNbGGdBNJtlGRinq/wDwTY/Yl1L43eDf2iNP/Zy8HaV4t8Fa1JqtlrOl%2BE9Pjub%2B5a0ktUa7nNuZpjGJBKjbwyyxRvuO3B9g/wCEP0n/AJ%2B9V/8AB5d//HaP%2BEP0n/n71X/weXf/AMdoA1KyvB//ACCZv%2Bwpff8ApXLXg37Rv7eP7If7N%2Buj4f6t431/xV42mcxWfgDwLf3mq6vPL/zzMMUuIm9pWQkdM1wumv8A8FT/ANqy2jtPDWlaH%2BzR4Hcfupb6NNb8U3MZ5z5ZxBbbhnO/EqMc5brXmVs1w0KjpUk6s1vGCvb/ABPSMf8At6V/I%2B4y7gDO8RgoY/MJQwWFkrxq4mTpqa70qdpV63l7Ki4/9PEfVPxH%2BKnwz%2BD/AIbk8Y/Ff4g6N4b0qH/WahrmpRWsIPoGkYAn0A5PavmjUf8AgrF4Z%2BJeqTeGf2Gv2b/HXxtvYZDHJq2j2J0vQ4nHBSTULtQqnPT5CpAJBNa3w5/4JI/sp6D4kj%2BIfxvTxD8YfFi8t4h%2BKmtSaoQc5KpbtiAJnorIxUADNfTGlaTpWhabBo2h6Zb2dnbRiO2tbSFY44kHRVVQAoHoKz5c5xXxONGPl78/vdoL5KR2e28Nsi/hU6uZVV1qN4XD38oQc8TUX%2BKpRT7I%2BTW0P/gsj8eh5Wr%2BL/hd8CtIn4I0e0k8R63Ap6gtKRaE44BUg5yfSrvhj/gkL%2Bzvq2tweNf2o/G3jX41%2BIIW3pefETxHLNaQP3ENnEUiRP8Apm28Cvq2imsmwc3zYjmqv%2B/JyX/gOkF/4CzOfiVxJQpullCpYCD0awtONKbXZ1v3mIl5/v436ox/A3w78AfDDQIvCnw18D6R4e0uH/U6dommxWsCfSOJVUflWxRRXqRjGEVGKsl2Pg61atiKsqtWTlKTu3Jttvu22235tt%2BYUV5x8SP2wf2Ufg/cPZfFH9pLwNoNymd1lqfii1in464iL7z%2BAryLxL/wWf8A%2BCb3h66/syz/AGiE1u%2BY4hsfDnh7UL55T6KYoCh/76FcdbM8tw7tVrQi/OUb/de/4HlYjOMowjtWxEIvs5xv917/AIH1JRXySv8AwVr0DXz5nwx/YT/aP8VWx%2B5qOmfDBktm9MPLMp/8dpf%2BHk/x6v8A/kAf8EsfjlJn7v8AaOn2tp%2Be6Q4rD%2B28sfwzb9Izf5Uzl/1jyZ/DUcvSFR/lSt%2BJ9a0V8lH9ub9v7Xf9H8Df8Ek/FUkzfdbxB8SNL06Nfcl1b8utA%2BK//BZvX/8AS9K/ZO%2BDmgRt0tNd8dXN1Kv1e2UKfwo/tjDP4IVJelOf6qIf2/g5fw6dWXpRqfqoo%2BtaK%2BSv%2BE2/4LY2n%2BkT/BH9n27T/n2tfEmqRyf99ONtH/DQ3/BXjRP%2BQn/wTu8Ea3jr/Y3xbt7bd9PtCHH40f2vSXxUqq/7hy/S4f27QXxUKy/7gz/RyPrWivkk/tX/APBVbXP%2BJXo3/BKjT9Guv47/AFv416ZPax%2BnywRh3/DpSrP/AMFwfE/%2BkRWX7NXheB/u29zJrd7dR/Vk/dH8KP7XpS/h0qsvSnJf%2Blcof27Ql/CoVpelKa/9LcD61or5K/4VJ/wWX1T5r/8Aa5%2BEGlE9V0zwFPOF%2BnnMM/jR/wAM1f8ABW27%2Ba4/4KYeFrQnqtp8GrKQD6b5KP7SrvbC1fugvzqB/a%2BJfw4Ks/lTX51T61or5K/4ZY/4KwRfOn/BVbSJT3ST4G6YoH4iTNH/AAz3/wAFedP5tP8Agob4H1Ajtf8AwlgiB/79PR/aWJW%2BEqf%2BU3/7kD%2B1sWt8FV/8pP8AKqfWtFfJX/Cn/wDgspJ%2B7f8AbD%2BEsYHAkj%2BH0xY%2B5BbFH/DPf/BXrUeLz/gob4G07PU6f8JoJiP%2B/r0f2lXe2Fq/dBfnUD%2B18Q9sFW%2B6C/OqfWteM/sv/wDJb/2jv%2ByzWP8A6hXhevMP%2BGLv%2BCkuvceM/wDgrfqaxnrBoHwg0qyKj2kDlv0rov8AgnX8OvFXwn1v48%2BAPG3xX1fxxqlh8ZoDd%2BKNdjRbq9MnhHw3KN4jG0BFcRqB/DGtdGGxWIrzanQlBW3k4fdaMpM6sJjMViajjUw0qatvJw%2B60ZSf6H0nRRRXaeiFFFFABRRRQAUUUUAFFFFABRRRQAUUUUAFFFFABRRRQAUUUUAcr8bvEXh7wl8J9d8ReKdC1TU7K1si0llovhq71i6kcsBH5VnZwzTzMHKnEcbFcbuApI%2BQ/CNt4o%2BJn/BGPwT8E9B%2BE3jseJvDvwn8Jx%2BI/B%2BvfD/VdKuryPSm0/8AtTTFS/toRLLLHbXMCxZPnBwV3I26vuaigDwT9ieDVdd8a/Gv4yQeDde0Hw347%2BJlvqXhaz8S%2BHrrSLy5hh8P6RYz3j2V5HFcWwkubSdQssaM4hEuMSKx%2BP8A/gsdpvxX0X9tj9njxx428aeHtQ0LSdfvdR8NWGleGJ7O705E13wskgubmS9mS7J8xMMkNuFwchtw2/p3X5y/8F6v9B1PwN4s6f2D4G1zUN393b4q8EJn/wAiV5Oe/wDImrvtFv7nF/ofoHhTr4k5VD%2BetGH/AIMjVp/%2B5D9GqKKK9Y/PwooooAKKKKACiiigAooooAKKKKACiiigAooooAKKKKACiiigAooooAKKKKACiiigAooooAKKKKACiiigAooooAKKKKACvGfHH/KQv4X/APZGfHn/AKdvCFezV4z44/5SF/C//sjPjz/07eEKAPZqKKKACiiigAooooAK8Z/YP/5Ihrn/AGWb4j/%2BprrdezV4z%2Bwf/wAkQ1z/ALLN8R//AFNdboA9mooooAKKKKACiiigAooooAKK574pfFf4a/BLwRe/En4t%2BN9O8PaFpybrvU9UuRFGnoozyzE8Ki5ZjwAScV8nTftG/tk/8FD3fQv2KtCuvhb8LZyUuvjN4s00jUdVhPBOkWLYIUjpPIRweDG64PBi8woYSSp2cqj2hHWT8%2ByXeUmku72Pq%2BH%2BD80z%2BhPGOUaGEpu1TEVXyUoPflTs5VKjWqpUo1Kkv5Yr3l63%2B1P/AMFA/g7%2BzRr9p8LNN0zU/HfxJ1bA0T4b%2BDoftOpTkjIeYDi2ix8xeTnaCyqwU48vH7PX/BQ/9tUi9/at%2BMI%2BDHge45/4Vt8L78SatcxH/lne6qQQpxkMsIKMpwQpr2X9l/8AYv8A2ev2LfDN9eeBdNeXV79Gn8VeO/Et2LjVNVf77y3N1Jztzlio2oDk4yST5/8AEr/grB%2Bz/p/i6X4V/s1eG/EXxt8ZRnEmi/DSwN3bWvON1xe/6iNMggsrPgjkCvLxKvFTzSsoRe1OLaT8m179R91FKPk1qelj%2BOuEuBoqnkFOLq7fW8RCM60pd8Ph37SnRX8rcK9fZylTekfVv2cv2O/2av2TNCOh/AP4SaXoTSptvNSSIy3153/fXMhaWTnnDNgE8AV6ZXyImu/8Fk/j2/m6R4M%2BGHwI0eTkHWb1/EmtIO2BDi16dQ2COPen/wDDu79q3x8P%2BL9/8FVfinqCyf66HwBptl4ZUjuoMAkOO3vXTRxjhTVPB4SXKttI04/dJ3/8lPzTMeKs6z7GTxlalXxFWbu6lWSi5erqzc/T3UktEktD6q8R%2BKPDXg/SpNd8W%2BIrHS7GEZmvNRu0giQe7uQB%2BJr56%2BJP/BXP/gn78ONT/wCEdi%2BP1n4o1d2KwaT4Gsp9ZlmYfwq1qjxZ%2Brisjw9/wRj/AGDrTVI/EXxE8Da/4/1aM5GqePfF99qEjHvuTzFibPuhr6D%2BGnwV%2BDvwZ0z%2BxvhF8KvDnhe1KhWg8P6LBZqw/wBoRKu4%2B5rS%2Bd1tlTpr1lUf4ckfxZw34jxGypUV5uVWX3JU4/iz5sf/AIKO/tI/FBfs37L3/BMv4pav5vy2%2BqfENrfwzZkH/lqDOztIg68YJ6cGiL4Sf8FiPjO/9p%2BOf2sPh38HLZvmi0jwF4JGvT7f7k02oMFDerRHHHFfXVFH9mVqv%2B8YicvKLVNf%2BSa/%2BTB/Y9ev/vWKqT8otUo/%2BU1zffM%2BSj/wT8/bF139345/4Kx/Eq4jb/WjQPDen6WxH%2By0YbbTW/4I7fBPxQNnxw/aQ%2BOXxHhf/j4sfGPxOuJLeUf3dkCxEL7A/jX1vRT/ALEyx/HBy/xSnL8HNr8B/wCrmTy/iU3P/HOpP8JVGvvTPDvhr/wTS/YE%2BEsCQ%2BDP2SvBAaMDZc6toqajOuO4lu/NkB991eveG/Bfg7wZa/YfB/hPTNKhxjydNsI4Fx9EAFadFdtHCYXDK1GnGPpFL8kj0cPgcFhFahSjBf3YxX5JBRRRXQdQUUUUAFFFFABRRRQAUUUUAFFFFABRRRQAV4z%2By/8A8lv/AGjv%2ByzWP/qFeF69mrxn9l//AJLf%2B0d/2Wax/wDUK8L0AezUUUUAFFFFABRRRQAUUUUAFFFFABRRRQAUUUUAFFFFABRRRQAUUUUAFFR3t7Z6dZy6hqF3FBbwRNJPPNIFSNFGWZmPAAAJJPSue%2BGXxm%2BD/wAavCH/AAsH4N/Fbw14t0ATSRHXPDOu29/Z%2BZH99POgdk3LkZGcjvQB0tfnx/wXY0f%2B3PCctls3bPgP4uuMf9cvFHgWXP8A45X258KPjt8EPjxpl3rXwO%2BMnhTxnZ6fdfZr%2B78KeIrbUYrabaG8uRrd3CPtIO0kHBBr5N/4K7aP/bh1Gy252fsu/Eu4x/1y1LwhL/7JXnZvD2mU4iPeE/8A0mR9l4dYn6n4g5PX/lxWHf8A5Wpf5n2V4K1f/hIPBuk69u3fbtMt7jPrvjVv61p1wX7K%2Bsf8JD%2BzD8ONf37vt3gLR7jd677KFs/rXe12UJ%2B0oQn3Sf3pP9T5vNMP9TzTEYf%2BSpUj/wCAznH/ANtCiiitThCiiigAooooAKKKKACiiigAooooAKKKKACiiigAooooAKKKKACiiigAooooAKKKKACiiigAooooAKKKKACiiigArxnxx/ykL%2BF//ZGfHn/p28IV7NXjPjj/AJSF/C//ALIz48/9O3hCgD2aiiigArz/APaX%2BONz8AfhrF4s0XwiviDWtV8Q6XoPhvQ5NR%2Bxx3uo6hexWkCyz%2BXIYIVaXzJZBHIyxRuVSRgqN6BXn37THwOuvj98NYvCei%2BL18P63pXiHS9e8N65Jp32yOy1HT72K7gaW38yMzws0XlSxiSNmilcK8bFXUA8%2Buf26LrQv2XvFPxu8W/CmKz8T%2BDvGJ8I634St/EQktI9YfUoLCDGoPBHiykN1a3BuWgVo4JS7xBkaOuQ8Wf8FQdJ8B%2BEtR0nxt4X8EaP4%2B0f4oSeBdY07Vvietr4asL6PR4taa5m1qWyVkthY3EALG08z7TKtv5ecuO/%2BH/7K3xG8EfCPxj4B1T4meD/ABDqnjq61LVfEV9r3w7kn0%2B71W9mYyGSxOo4ewW2ENstoZfM2Q7nuXZia4Hwh/wTCsfhr4Y0LX/hn4w8FaJ8QtB%2BJlx42tNWs/hkIvDkN3Pop0N7WDRoL2Nre2XTxEiKl35gmhErSPvkRwD6W%2BHPiPU/GHgDRfFmswaRFdanpcF1OmgaydRsQ0iBv9HujFEbmHnKS%2BWm9cNtXOB5n%2Bwf/wAkQ1z/ALLN8R//AFNdbrY%2BC/7K/wAPfhh%2By/o/7LHjCxsPGWg2WltaarBrujwvaakZJGmlDWjBokhMjtsh%2BZY0CICdoNcz/wAE6fDHhrwV%2BzdfeD/Bvh6x0jSNL%2BLfxDtNM0vTLRLe2tII/GetLHFFEgCxoqgKFUAAAACgD3SiiigAooooAKKKbNNFbxNcXEqpGilnd2wFA5JJPQUAOr5r/b0/4KW/CL9iuxi8HWwtfEnxD1SINo/hFNTitkgRuBdX1xIQlnbDrvcgtg44DMvl3xu/4KKfGD9qf4n3f7JH/BKuytNZ1e1YJ4w%2BL97GH0Tw3ESVzAxVluJSQ21sMp2ny1l%2BZo974Cf8ESP2Svh3rrfEv49vqvxi8cXs32nVvEPjy4aeC4uT95xa7ijA%2Bk5mI/vV87icwx2Yc1HKknZ2dWXwLuo6Pnku691Pq3oaZPnGAoYpYieCeKgvhUqnsqM5L%2BecVKrOmmveVFRc7OCrRXNJfLXgf4tR/tSfE6H4rfEX4eeK/wBrD4g6fcFtD8G%2BEdLk074d%2BEJT/wAs2ubxRHPKOAZpEdG9X2q9fVdv8A/%2BCo/7SwST47ftLaJ8FPDbgbfCPwhtPtGqeX2SXUp/9S49YAyHjj0%2Bt9E0LRPDOkwaD4b0e10%2BxtYxHa2VjbrFFCg6KqKAFHsBVqjCZB7KL9vVlJy1lytx5n/ekm6kvnNLoopaBxDmXEXGNeFTO8W5U6a5adCilh8PSjvyU6dN3Ue7c%2Bab96cpybZ8l2//AARj/ZL12dLv44eL/if8UZkcO0nxA%2BI17db2HOWEDQg89iMV9J/DH4S/C/4LeFYfA/wj%2BH2j%2BGtIg/1enaJp8dtFnHLEIBuY92OSepJroaK9XDZdgMHJyo0oxb6pa/e7v8Ty8JlOWYCbnh6MYye7S95%2BsneT/wDAgooortPQCiiigAooooAKKKKACiiigAooooAKKKKACiiigAooooAKKKKACiiigAooooAK8Z/Zf/5Lf%2B0d/wBlmsf/AFCvC9ezV4z%2By/8A8lv/AGjv%2ByzWP/qFeF6APZqKKKACiiigAooooAKKKKACiiigAooooAKKKKACiiigAooooAKKKKAPIv2%2B/h941%2BK37FHxT%2BHHw70aXU9Z1nwNqNrZaRA4V9TLQNus1LEKDOm6EbiFzJyQMmvFPDlxrnxFsv2lfGvgH4A%2BK5NN%2BJPhcWngvwl4q8IapoB8Q39l4f8As9wZ1nhhksEmMlrYrLN5LSfY2MW5EVz9kUUAfHH/AAS/8C%2BMvDfxJ8c%2BINVufiNrukT/AA/8F6VZ%2BMfir4Dfw3qr3VkuqrPpEVobS0WS0tFmgkSfyWZpL%2BZGubnyx5VH9ufwr8V9V%2BNnibTvGvjLw9qWh6p%2Byl8VYvDGm6V4Yns7uwUzeGQ4ubmS9mS7YkptaOG327TkNkbftWvnX9p3R/8AhIf2rPDWgbN3279nX4lW%2B31333hNcfrWGKh7TC1Id4yX3xa/U9TIsR9TzzCYj%2BSrSl/4DVpy/wDbTpP%2BCdWr/wBufsE/Bq%2B3bivwz0WEnPUxWcUZ/wDQK9mr5w/4JEax/bn/AATb%2BEt7vzs8Ntb5/wCuVzNFj/xyvo%2BufKp%2B0yuhLvCH/pMT2OPcP9U46zWh/LisQv8AyvV/zCiiiu8%2BTCiiigAooooAKKKKACiiigAooooAKKKKACiiigAooooAKKKKACiiigAooooAKKKKACiiigAooooAKKKKACiiigArxnxx/wApC/hf/wBkZ8ef%2BnbwhXs1eM%2BOP%2BUhfwv/AOyM%2BPP/AE7eEKAPZqKKKACiiigAooooAK8Z/YP/AOSIa5/2Wb4j/wDqa63Xs1eM/sH/APJENc/7LN8R/wD1NdboA9mooooAKKK8e/bU/bA8J/se/C2PxPdaPNr/AIq128XTPAvg2wJN3r2pyYWOGNQCQgLKXfB2ggDLMitjiK9HC0ZVartGOrf9fcktW2ktWYYrE0MHh5V60uWMVdv%2Bt29EkrttpJNs3f2mv2pvgr%2ByL8NJ/il8bfFa6fZK/lWFlCvmXmp3BHy29tCDullb0HAHzMVUFh%2Bb0fxV/bk/4Lj/ABWvvhT4QkvPhZ8CNJuhF4tmsZd1xdJwfss0wwLi5ZeTbp%2B6hDAy72Vd2P4L/Zz%2BPX/BTL9pi8/4WF8Tjrd3o8v2f4kfEHSedH8JRNhm8OeHVJZJLnHyz3nzY5wWGXuf1X%2BD/wAHvht8A/hxpXwl%2BEfhO10TQNGthDY2FomAo6l2J5d2OWZ2JZmJJJJr5OH17ias%2BdunhE7WTtKo10bW0f5knb7N5Pma%2BrqcOUcky2OJ4ip3xVaKlSwb2pU5JONbHWd3UmmpUsFdRjFxqYty5oYd5v7PP7OXwc/ZY%2BGFj8IPgd4LttF0WxG4pEMy3UpADTzyH5pZWwMuxJ4AGAAB3FFFfX06VOjTVOmkorRJaJI%2BenOdSTlJ3f8AXokkkkkkkkkkkkkiiiirICiiigAooooAKKKKACiiigAooooAKKKKACiiigAooooAKKKKACiiigAooooAKKKKACiiigArxn9l/wD5Lf8AtHf9lmsf/UK8L17NXjP7L/8AyW/9o7/ss1j/AOoV4XoA9mooooAKKKKACiiigAooooAKKKKACiiigAooooAKKKKACiiigAooooAKKjvb2z06zl1DULuKC3giaSeeaQKkaKMszMeAAASSelYHwt%2BMPwk%2BOPhVfHfwU%2BKXhzxhobXDwLrPhbW7fULQypjfGJoHdNy5GVzkZ5oA6OvFviBBFdf8FA/hlazruST4LePVdfUHVfCANd/8Nvjt8EPjLe6xpvwg%2BMnhXxXc%2BHrsWuv2/hrxDbXz6ZOS4EVwsDsYXzG42vg5RuODXB%2BOP%2BUhfwv/AOyM%2BPP/AE7eEKBptO6PNP8AgiHPKP8Agmr4D0W5fM2k32t2UxPqmr3hA/JhX1jXyX/wRr/0H9mHxR4T6f2D8XvE%2Bn7f7u29L4/8iV9aV5WRf8iXDrtBL7rr9D77xWS/4iXnE19vEVJ/%2BDHGp/7kCiiivVPgAooooAKKKKACiiigAooooAKKKKACiiigAooooAKKKKACiiigAooooAKKKKACiiigAooooAKKKKACiiigAooooAK8Z8cf8pC/hf8A9kZ8ef8Ap28IV7NXjPjj/lIX8L/%2ByM%2BPP/Tt4QoA9mooooAK8/8A2l/jjc/AH4axeLNF8Ir4g1rVfEOl6D4b0OTUfscd7qOoXsVpAss/lyGCFWl8yWQRyMsUblUkYKjegV59%2B0x8Drr4/fDWLwnovi9fD%2Bt6V4h0vXvDeuSad9sjstR0%2B9iu4Glt/MjM8LNF5UsYkjZopXCvGxV1APPrn9ui60L9l7xT8bvFvwpis/E/g7xifCOt%2BErfxEJLSPWH1KCwgxqDwR4spDdWtwbloFaOCUu8QZGjrI1f/gomvhb4IfEPxT4j%2BF%2Bn3PxE%2BHvjOTwfP4C8OeLDe22p66dNt9Uhgt797WJzD9iuo555Wtg1ukF0Wjb7Od3T/D/9lb4jeCPhH4x8A6p8TPB/iHVPHV1qWq%2BIr7Xvh3JPp93qt7MxkMlidRw9gtsIbZbQy%2BZsh3PcuzE15/oH/BIz4Df8Kl1Twf4uvJLTxHqmr6nqy6z8MrjUvBmn6bd3mm22mbLTT9Kv02WqWdlax/Z5ZpQ%2ByRmYtM5IB9G/Bj4h/wDC3fg94T%2BLH9j/ANn/APCT%2BGrDVvsH2jzfs32m3Sbyt%2B1d%2B3ft3bVzjOB0rz79g/8A5Ihrn/ZZviP/AOprrddB8Jv2Zfh78Pf2XvDn7Kfi6xi8Z%2BHtF8LWui38XitH1GPVEijVWMyXkk5dGZciN3cINqA7VGOR/wCCdPhjw14K/ZuvvB/g3w9Y6RpGl/Fv4h2mmaXplolvbWkEfjPWljiiiQBY0VQFCqAAAABQB7pRRTZporeJri4lVI0Us7u2AoHJJJ6CgDj/ANoL48/Df9mT4Pa78cPizrQsdD0CzM9ywwZJn6RwRKSN0kjlUVc8sw5Aya/LyPR/2k/2%2Bf2qja6pPLpHxG8UaOG1SSImSD4O%2BC5xxbJnA/tm%2Bif5jw6JKRhPMfyOg/bP/aj139rvxvbfFbwXpB1rwF4Y8WDw58BfCzxh4/iB41Y%2BWdVeNuJbCyyWXd8jsFUkCWRF%2B8f2IP2RtB/ZC%2BDqeFZNSfWfF2uXB1Xx/wCLLpzJca3q0vzTTM7fMUDFlRT0Xk5ZmY/GVpVOJMx9jB2w9PVtfa31X%2BKzUe0eaa1lBr6bhHD4TA4KPGeYQVSMZyhl9GSTjVr09J42pF6SoYaTUaEWnGribSd4Unft/gZ8Dvhl%2Bzh8LNH%2BDXwh8Mw6VoOiWohtLaIfM56tLI3WSR2yzOeWYk11tFFfYU6cKUFCCskrJLZJdDwcXi8Vj8VUxOJm51JtylKTblKUm2227tttttsKKKKs5wooooAKKKKACiiigAooooAKKKKACiiigAooooAKKKKACiiigAooooAKKKKACiiigAooooAKKKKACvGf2X/%2BS3/tHf8AZZrH/wBQrwvXs1eM/sv/APJb/wBo7/ss1j/6hXhegD2aiiigAooooAKKKKACiiigAooooAKKKKACiiigAooooAKKKKACiiigDyL9vv4feNfit%2BxR8U/hx8O9Gl1PWdZ8Daja2WkQOFfUy0DbrNSxCgzpuhG4hcyckDJrxzwND42%2BLFx%2B0Z4j%2BDng3xj4OHxR8Px2Hw7l8ReCtT0SV9WtNAFtJqEkdzbxvZDfLaW6POI2l/s9jFvRFY/YFFAHyd/wTI1H426fYXPw08T2fi9/BXhz4feGrfSpfG3w3XwzPpetKt3HqGkWcItbf7TYW8cVkY5dswBmcC6ueTH1V/pvxXtP%2BCm3gu88beNPD2oaFcfB7xwfDWnaV4Yns7uwQat4S8xbm5kvZkuycpgpDbhdpyG3Db9D14z44/5SF/C//sjPjz/07eEKAPMf%2BCT/APxLov2ifCbcf2Z%2B094qWFfSF/szp/M19aV8l/8ABOf/AIlX7Sv7VXhPp5PxjXUNv/X1Zo%2Bfx219aV5OR6ZZCPZzX3VKh%2BgeKPvccYmr/wA/IYef/geEwj/zCiiivWPz8KKKKACiiigAooooAKKKKACiiigAooooAKKKKACiiigAooooAKKKKACiiigAooooAKKKKACiiigAooooAKKKKACvGfHH/KQv4X/9kZ8ef%2BnbwhXs1eM%2BOP8AlIX8L/8AsjPjz/07eEKAPZqKKKACiiigAooooAK8Z/YP/wCSIa5/2Wb4j/8Aqa63Xs1eM/sH/wDJENc/7LN8R/8A1NdboA9mr5I/4Kg/GLxL4htNA/YI%2BDniRNN8V/FaOU%2BJda8wKvhvwrECdQ1CVs4QNGrxLuIDfvACGC19NfFD4k%2BEPg78Odc%2BKvj/AFVbLRfDulz6hqd038EMSF2wP4mIGAo5JIA5Nfllb6Z8XP2ovEcOlX0k2nfFT9rVxe6y8R3SeBfhbbONkIJ4RrpUHosvAYK7ZPzvEONdKgsLT1lU3S35b2suznJqCfROcvsmuWZFX4wz%2Bhw/SqeyjVUp16vShhaS5q9V/wDbicILRynJRWrR75/wTZ%2BDfhn48/FOP9sLTvDL6f8ADL4f6ZJ4O/Z10K4jI2afETFea0wIGZrlw67yAxBkDZKq1fd1ZHgHwL4U%2BGHgfSPhx4F0eLT9G0LTYbDS7KEfLBBEgRFHrgAcnk9TWvXpZZgVgMIqb1k9ZNdZO17dkrKMV0jFLufQ8WZ7Qz3NE8JT9lhKMY0cPS/590KelOOmnM9alRr4qtScv5bFFFFegfMhRRRQAUUUUAFFFFABRRRQAUUUUAFFFFABRRRQAUUUUAFFFFABRRRQAUUUUAFFFFABRRRQAUUUUAFFFFABXjP7L/8AyW/9o7/ss1j/AOoV4Xr2avGf2X/%2BS3/tHf8AZZrH/wBQrwvQB7NRRRQAUUUUAFFFFABRRRQAUUUUAFFFFABRRRQAUUUUAFFFFABRRRQAUVHe3tnp1nLqGoXcUFvBE0k880gVI0UZZmY8AAAkk9KwPhb8YfhJ8cfCq%2BO/gp8UvDnjDQ2uHgXWfC2t2%2BoWhlTG%2BMTQO6blyMrnIzzQB0deJ%2BPtQsoP%2BCjHwp06a4VZrj4L%2BP2hjPVwureD92PpuHH%2BBr1Twx8RPh/421TWtD8GeOtH1e98N6l/Z3iKz0vU4riXS7zykm%2Bz3KRsTBL5UscnluA22RGxhgT8Vf8ABSv4tX3wJ/4KcfsdfEwyumlOPGWh68w%2B4lrqM3h60Ekh7IkrxPn1Va58XiI4Sg6stla/o2l%2BF7nLjcVDBYZ157K1/RyjG/y5rnc/sZf8Sn/gpV%2B114ZPCnUPBmoRD%2B95%2BkSFyPxAFfWlfJfwH/4k3/BX/wCPWm9P7a%2BHnhbUMf3vJSSDP64r60rhybTCzj2qVV/5Uk/1P0rxJ9/PcNW/nweBl/5aUov8abCiiivWPz8KKKKACiiigAooooAKKKKACiiigAooooAKKKKACiiigAooooAKKKKACiiigAooooAKKKKACiiigAooooAKKKKACvGfHH/KQv4X/wDZGfHn/p28IV7NXjPjj/lIX8L/APsjPjz/ANO3hCgD2aiiigArz/8AaX%2BONz8AfhrF4s0XwiviDWtV8Q6XoPhvQ5NR%2Bxx3uo6hexWkCyz%2BXIYIVaXzJZBHIyxRuVSRgqN6BXn37THwOuvj98NYvCei%2BL18P63pXiHS9e8N65Jp32yOy1HT72K7gaW38yMzws0XlSxiSNmilcK8bFXUA8%2Buf26LrQv2XvFPxu8W/CmKz8T%2BDvGJ8I634St/EQktI9YfUoLCDGoPBHiykN1a3BuWgVo4JS7xBkaOjwh%2B1j8d/iV4Y8Waf8Ovgd4Eu/Gvw68bzeG/iDpOo/Fae30fT5U0611FZINRTSZJLjdb31rlXtYdjmVGI8rLaHw//ZW%2BI3gj4R%2BMfAOqfEzwf4h1Tx1dalqviK%2B174dyT6fd6rezMZDJYnUcPYLbCG2W0MvmbIdz3LsxNeYan/wS%2B8Z6f%2Bz5efA34V/GvwT4Wh8XePh4j%2BKFhYfCd4tB8Q2y2UFnHo0GnWmqW72Gn%2BTZ2aSxrcyNOsMiyMy3EwYA%2Bj/2dvjLpX7RfwC8E/H7QtDvNMsvG3hTT9dtNO1Db59tHd26TrG5UlSyhwMqSpxkEgiuL/YP/wCSIa5/2Wb4j/8Aqa63Xfp8N9O8W/CiL4YfG7Q/DHim3udLjtNfsR4aEWk3%2BAAyrY3EtwEhJAxE8ku0ADc2M15L%2BwZbeCfhB%2Bybrltouh2OieHfDPxO%2BJAttO0y0S3trGzt/GOt4jiiQBI0REwFUAAAAYFJtJXYm1FNvY8h/wCCmvxE0b45fFnQv2HrnV3t/BehaW/xA%2BPeowuQLbw9YHzYbFiDw1xKgJXIYBYmGQTXU/8ABLL4Y6/4v0DxD%2B378V9IjtvFfxikjuNE05V%2BTQvDMXy6dYRcYVTGqykrgODESNwNfJWi6b4r%2BN/7MvhvTNQv3/4Wj%2B3D8Tjd%2BKbqH/WaV4T0%2BdmeGI9fJhtok2g/eSd1JO0V%2BsGgaDo/hbQbLwx4e0%2BO0sNNtI7WxtYRhIYY1CIijsAoAH0r5LKYvM80ljamySaXZyT5F6xp%2B8%2B0qr6o%2BqyPnyPw2eYv3cTnc2/70cBh5JU4eSr4i85/zeys7pFuiiivrj5YKKKKACiiigAooooAKKKKACiiigAooooAKKKKACiiigAooooAKKKKACiiigAooooAKKKKACiiigAooooAKKKKACvGf2X/APkt/wC0d/2Wax/9QrwvXs1eM/sv/wDJb/2jv%2ByzWP8A6hXhegD2aiiigAooooAKKKKACiiigAooooAKKKKACiiigAooooAKKKKACiiigDyL9vv4feNfit%2BxR8U/hx8O9Gl1PWdZ8Daja2WkQOFfUy0DbrNSxCgzpuhG4hcyckDJryz4Ma78S/FHjT47/FH4A/DzV/DV349sbOP4Yw/EXwPq%2BjWdzrOn6KkL3t9DLaia0tzI9nbbpY0eZbB/JWRURj9YUUAfH3/BLb4LfH/4E%2BP/AI4eEvjB8HNJ8OWN14t0i8sda0/xbeaudfvG0HT1vb0z3Gl2IuWlnV5ZZ1Xm5luIyg8oO/A/8FRPgD8X/jl8TdS8IeIfF%2Bg6lb/8KA8dav8AD7T9F8MXFlf6fdWOseELtUmunvZlupJGiRFaOG32hmBDbvl%2B/wCvGPHaJJ/wUI%2BGEciBlb4MePAysMgj%2B1vCHFYYrDwxeGnQntJNP5pr%2BvQ5sbhaeOwdTD1PhnFxfzTX4Xv8j5i%2BDvx9ig/bP%2BCf7Z/iUxnwz%2B0V8HbTwnNqMfypp3ia3l8/yJD0/ePvgQdS4PZTX6CV%2BcfwL/ZlT4w/ssfH7/gmcLz7D4h%2BEHxLur74aXnmFJNMjuGbUdHnVuse5zOrMOiStivrT9gL9p2X9rH9mTQ/iPr1t9k8T2DSaN440t02PY6zakR3MbJ/BuYCUL2WVQea%2BfyHEVIy9lV3qJzX%2BNPkqx%2BU4qS/uy8j7yriJcXeHGW59/y/wkYYLEpdOT2n1er5KaVWjJ7e0px6zse0UUUV9OfGBRRRQAUUUUAFFFFABRRRQAUUUUAFFFFABRRRQAUUUUAFFFFABRRRQAUUUUAFFFFABRRRQAUUUUAFFFFABRRRQAV4z44/5SF/C/8A7Iz48/8ATt4Qr2avGfHH/KQv4X/9kZ8ef%2BnbwhQB7NRRRQAUUUUAFFFFABXxF8TfiQPhR/wSN%2BO/jBbjypD4y%2BKOnwS5wUlvPGmtWcZHuHnXHvivt2vzG/bi8Z2ekf8ABOS0%2BHd788HjH9rTxfZalB62MHjfX72d2H91fsyE/UV5mdVnh8or1E9eRperXKvxkebnCryyutToK9Sa5IrvOo1TivnKpFHcf8EsvhsfiL%2B0DqXxWvLffoHwO8A6V8KvBxI%2BR9Sgto5NZuQOgk88%2BXvH3kk9q/QGvmb/AII8%2BBz4H/4Jz/Db7VETe65p1xreo3L8yXUt5dS3AlcnlmKPGMnso9K%2BmaxyCh7DKaTe81zv1kk0vlHlj8j9L8RZ4ejxVVyvC/7vgFHB0v8Ar3hV7Hm9ak41asv71TyCiiivZPhgooooAKKKKACiiigAooooAKKKKACiiigAooooAKKKKACiiigAooooAKKKKACiiigAooooAKKKKACiiigAooooAK8Z/Zf/AOS3/tHf9lmsf/UK8L17NXjP7L//ACW/9o7/ALLNY/8AqFeF6APZqKKKACiiigAooooAKKKKACiiigAooooAKKKKACiiigAooooAKKKKACio729s9Os5dQ1C7igt4ImknnmkCpGijLMzHgAAEknpXM%2BAfjp8Efit4Cn%2BKnwu%2BMfhXxJ4XtjMLnxJoHiG2vLCLyRmXdcQu0a7By2W%2BUdcUAdVXjPjj/lIX8L/APsjPjz/ANO3hCu%2B%2BE/xw%2BC3x60CbxX8DPi/4X8aaXb3RtrjUvCfiC21G3imCqxiaS3d1VwrKdpOcMD3FcD44/5SF/C//sjPjz/07eEKAPI/2u/Bnxj/AGQv2j7r/go/8C/DEvirw/qGhW2l/GbwPaQj7ZNYWxPlaraH%2BOaBDhkPBRT0BZk4qf4g6p%2BzR491f/gpP%2ByRp6fEf4C/FhLfU/iVoHh9CdQ0O7jUpLq9tESNx%2B99phYK4dWLYC7o/vcgEYIr498d/sZ/tF/sl/EPXPjt/wAE3NX0iXSdfu/t/i74G%2BIcRaXqVxjEk%2BnzggWM7j%2BHiMnGTtVYx8zmOX1qFT21Dm5eZz93WUJtayin8UZLSpT67x10NeHc/wAZwNmVetDD/WsBik44nDu/vRclJyptNSjJSiqkXH36dRKcFJSqUp/T3wi%2BL/w1%2BPPw80z4rfCLxhZ67oGrwCWx1GykyrDoVYHBR1OVZGAZWBBAIIrpK/L74ZeN9G0/4v6v4l/YM8fp8DfizeXol8cfswfFqH7JpGuXePmayJ2iOSTHyPARvAUlYkzn6m%2BBP/BT34S%2BMfFyfBD9pfw7e/Br4nxER3HhHxrIIoLtycB7K9IEN1Gx4U5VmP3VYcnfA57h6yUcQ1GT0Tv7kn2TduWX9yajNbe9ufaVOFcFn%2BBnm3B1f69hY6zgv96w66xr0F7zUdnWpRnTdryVFtxX03RQCCMg5B6GivfPhgooooAKKKKACiiigAooooAKKKKACiiigAooooAKKKKACiiigAooooAKKKKACiiigAooooAKKKKACiiigArxnxx/ykL%2BF/8A2Rnx5/6dvCFezV4z44/5SF/C/wD7Iz48/wDTt4QoA9mooooAK8w/a2%2BMnjL4MfDCwvvhrZ6ZL4m8S%2BMNF8NaBJrcEktla3GoX8NsbqeOKSN5Y4Y3km8pZIzKYhGHj3719Prjfjx8EvDX7QPw6l%2BHfibWNT0vbqVjqel61ok0cd7peoWV1Fd2l3A0scke%2BOeGNtsiPG4BR0dGZSAeJ3/7Y/xn8M/sh/ET4ka74e8PXvjn4b%2BN5vC%2BtX1jpt0mjALf20X9tNbedJOlrDZXcd9PAJmZBDNGJjgS1xXwy/4KEfGD486hB8DPgh4/%2BGet%2BL/%2BFp6h4Yk%2BJtp4bvLjwzeWFp4dtNba/tbGPURLKW%2B32tntF8U3rNMJGVVjb334c/ssD4U/D3VvA3gv49eOILrXJLy91LxNKuky6hNq11dPcT6qS9gYfPJcRiLyvsqRRRokCha5y4/YC8FHw1ZnS/jX490/xta%2BM7jxVL8VLWfTG1271SewOnTSTLJYvYtG1iI7YQi0ESR28BREeJHUA6T4B/tP%2BHPiH%2ByV4d/af%2BLeoaN4OtrrQVuvE82oaqkOn6XcoxiuR9omKr5KzI4V325XaSATivyq/bk%2BMPhrx18I/DEPgrxNYavoFjq3xv8AFDahpl2lxbXcN/4r1bTNPuIpYyVdDLcEq6khtwwa/Yb4O/Cjwd8CvhV4e%2BDfw%2BtJodF8M6RBp2mrczmWZo4kCh5ZG5kkbBZ3PLMzMeSa/FL4mI/xq/aB%2BKvgqRTJGvxpf4YxRkcM%2BqfEfW9aKj1JFrzXy/F9SSyZ047zkl%2Bb/RHt8I4SlmXH%2BRYOr8E8bh5T/wAFGbxNT7oYZs/Zv9mnwP8A8Kx/Zy8A/Dgw%2BWdA8F6XpzJjGDDaRRnPvla7ajp0or6WlTjSpRhHZJL7kl%2Bh52OxdXH42riqvxVJSm/WcpSf4yYUUUVZyhRRRQAUUUUAFFFFABRRRQAUUUUAFFFFABRRRQAUUUUAFFFFABRRRQAUUUUAFFFFABRRRQAUUUUAFFFFABRRRQAV4z%2By/wD8lv8A2jv%2ByzWP/qFeF69mrxn9l/8A5Lf%2B0d/2Wax/9QrwvQB7NRRRQAUUUUAFFFFABRRRQAUUUUAFFFFABRRRQAUUUUAFFFFABRRRQB5F%2B338PvGvxW/Yo%2BKfw4%2BHejS6nrOs%2BBtRtbLSIHCvqZaBt1mpYhQZ03QjcQuZOSBk15x%2Bzv410qb4pfGv44TfCHx3pvg3xfHYS6Po2qfDHVrW71V9M0eOO%2BnNhLarMjSI1vZxJKiPcmxKwrIqoT9SUUAfMf8AwTy8R6h8Y/EnxD/ah8b%2BA/FvhPxT44l0uO58IeJfh/q2h/2FpVpHcJp9o0moWsC395iW4kuZYDJHG8yQqzRxRSS6t/pvxXtP%2BCm3gu88beNPD2oaFcfB7xwfDWnaV4Yns7uwQat4S8xbm5kvZkuycpgpDbhdpyG3Db9D14z44/5SF/C//sjPjz/07eEKAPZqKKKAPOv2h/2S/wBnL9q3w3/wi/7QHwj0jxHCiFbW5uoNl1aZ6mG4jKywn/cYZ75r5P8AjR/wSw/aH0fwbJ4F%2BDXxu0T4oeB4stZ/DH4/ac2oLZjGMWerQbbu1IX5UCFAvGWPJr71orzcZlGAxzcqkLSatzLRtdnbSS8pKSORYOFLHwx%2BFnOhiYNONWlOVKrFrZqcHF6efMvyPx%2BtvjF%2B33/wTj/0Wz8LeP8AwP4csW%2Bfwt8QLGTxf4PijHa21ix/0qyTGdkGx8Z%2BdyQTX0J%2Bz/8A8HAv7N3jKKHSv2ifCN/4IvAqefrWkTjWtH%2BY4VmltgZoCx52SRZUH5m4r79IBGCMg9RXh/xs/wCCbP7C/wC0JNNffE/9mfwzPfTsWl1XS7Q6deO395p7QxyOf94mvEWS53l3/IvxKcf5Kiuvk09Plb0PsZ8Z5vmC5c/w1DMH/wA/WnhMX6yr4eDpVn54jCSk3rKb1b9H%2BFPxv%2BDvx18PL4q%2BDXxQ0HxRp5A3XWh6pFcrGT/C4RiUb1VgCO4rqa/PDxj/AMG7vwT0rxCfG37Mn7TfxC%2BHWtq5e2u0ukvFt2P9xozBOB9ZSfetfQPgX/wXa/ZsiMfgH9pr4dfGLSLVMW%2Bm%2BOrWaC9lH/XUKjkn1e6PP412U80zehpjMHL/ABU5Ka/8BbjJfifP4zGZLfmoU8RT/uzhTqpelTDzV/WVGOm6voffFFfEw/4KV/tv/B94LL9qf/glP49hjjh332t/DTUotfh46uIoQViX2eckdzVjwf8A8F8/%2BCdev3J07xl4w8U%2BDLtH2TWfijwjciSFv7r/AGUThT9TxXQuIMoT5alXkfaalB/%2BTRS/FnkyzTA06bqVJOMVu5QqRivWUqaivnJH2jRXh3gr/gph/wAE/wDx%2BE/4R39r/wABK0mNkWp%2BIIrF29gtyY2z7YzXq3hT4mfDjx3GJfA/xA0TWVYZDaVqsNwCPX92xr0aOLwmI/hVIy9JJ/k2bUMfgcV/Bqxn/hlF/lJ/kbdFFFdB1BRRRQAUUUUAFFFFABRRRQAUUUUAFFFFABRRRQAUUUUAFFFFABRRRQAUUUUAFeM%2BOP8AlIX8L/8AsjPjz/07eEK9mrxnxx/ykL%2BF/wD2Rnx5/wCnbwhQB7NRRRQAUUUUAFFFFABX44fsyeAJNd/bdsNIu4P33i39vP4l64q4zutvDtzdPE5%2Bkt1OB7g1%2Bx9fmz%2Bxjoml%2BIv%2BCnem6FploFj8HR/FvxJdOCSBeX/xE1iyYnPRjGi8f3QK8LPqCr06Cf8Az9gvvev4RZ9v4eYZf6x1Mxf/ADB4XG1l/ieFnQg/lLEr7z9JqKKK90%2BICiiigAooooAKKKKACiiigAooooAKKKKACiiigAooooAKKKKACiiigAooooAKKKKACiiigAooooAKKKKACiiigAooooAK8Z/Zf/5Lf%2B0d/wBlmsf/AFCvC9ezV4z%2By/8A8lv/AGjv%2ByzWP/qFeF6APZqKKKACiiigAooooAKKKKACiiigAooooAKKKKACiiigAooooAKKKKACiiigArxnxx/ykL%2BF/wD2Rnx5/wCnbwhXs1eM%2BOP%2BUhfwv/7Iz48/9O3hCgD2aiiigAooooAKKKKACiiigArlviV8Dvgv8ZrH%2Bzfi78JPDXiiDbtEXiDQ4LwKPbzUbb9R0rqaKmcIVI8s0muzSa%2B5pm%2BGxWJwdZVsPUlCa2lGTi16OLi18mfIPxU/4IW/8E3fid5s9p8G7zwvdTZLXXhXXbi3x9IZGkhXHtHXz98Qf%2BDafwDIyy/CH9pi%2BtI4H3Q2PijwvBdGTHRWuLR7aQf7wGa/T%2BivDxPC/D%2BKd54eKfePu/8ApLX5Htx4pzWemLjRxK7YjDYbEfjWw8p/%2BVL9mtz8lp/%2BCRX/AAUW%2BEMhbwB4o0/VLKIfuF%2BH3xh1zQr5sev23zoFPpjIpv8AwjP/AAUh%2BEgx4xsf2ytKEX3pNE8Y6T48GB3CrHCW%2BlfrXRXF/qlg6f8Au9WcPndfnF/iWsx4KxKtjeHMI/OhLFYSX/lDFSpp/wDcL5LY/JeH9uL41eB5Vt/Gn/BV74ieBWyFGn/Ff9laJWDdg81v5hHp6V6F4K/bZ/ae8R7B4G/4K0/su66zf6qLxfo0ujySH02F0bPsBmv0kmhhuImguIlkRxh0dchh6EHrXnnjX9kL9lH4kb28ffs0eAtZd87ptR8I2csmfUO0ZYH3BzR/YWZ0v4eJv6yqx/Kc1%2BAf2f4R4nfDZjhn/wBOsdGtFekcTRT%2B%2BbPnbwr8VP8AgsN4gh%2B0eEda/ZL8aQBcrJ4e17WQ7D1J3Mg/Ditn/hdP/BY3R/8AkI/sU/C3WMdf7J%2BI72%2B76eehxWz4q/4I2/8ABNfxbN9ruf2YNO0%2B4Dbo59D1e%2BsDG3qot50X9MVjf8OfPgzofPwr/aa%2BPPgjb/q08L/FK4jVPbEySZHtR9Tz2n9qT9Ky/KpR/UP9UfDfEf7vxDj6PlWw0KiXzo1G3/4Cg/4a4/4Km6VxrH/BJWC9Ufem0v45aT%2BiPHuNL/w3v%2B25p3/Ixf8ABJfx7Fj739m%2BNNNvPy24zR/w72/a28M/8ky/4Ku/FG02/wCr/wCEq0Ww1vH%2B95oTdQP2f/8Agr14W/5AX/BQXwJ4p2/dHib4Uw2O/wCv2Nzj8KL5xD4vb/L6vP8ALlf4B/xDrLKv%2B6cXUX5VaVWk/wDybCTiv/AhP%2BHmHxp0/wD5GD/glt8fI8fe/s7Q7e7/AC2yjNH/AA9hFnxrv/BOL9qazx96T/hUvmRj/gS3P9KX7V/wW98M/wCu0v8AZs8TQr0%2Bzz63ZXD/AF3ZjFH/AA0R/wAFdPDv/IZ/4J1eC/Ee3r/wj/xct7Pd9PtSHH40fW8fH4qtZeuHi/8A0mTD/iFnEs/91z/A1fSvhV/6djQE/wCHwfwctv8AkN/sufH/AE31%2B3fCm4XH/fLmj/h9B%2ByHb/8AIY8L/E/TvX7b8Nb9cf8AfKGl/wCG8/24tE/5Hj/gkt45t9v3/wCwfHOm6n%2BXlhc0f8PTfFGj8eNP%2BCaX7S1nj78mm/D1L6Nfcsk4498Uf2lWjvi7f4sPNfoH/EJPFGX8CtQq/wCCpgp/%2Bk46In/D7n/gnrB/yFfiJ4lsfX7X4A1YY/K3NOj/AOC5H/BLxn8qf9pd4H/uT%2BCtaU/%2BkeKT/h8X%2Bz7p/wDyN/wJ%2BNvh/H3v7Z%2BF12m367C9I3/Bbb/gm/HiDxX8W9X0Yk48vWPAWrLg%2Bh22rCj%2B12t8fRXrBr85xD/iEPjZ/wAu8DOf%2BDDOp/6axFQvQf8ABa//AIJgXH%2Br/apsh/v%2BG9VX/wBCtRVqL/gsx/wTLm%2B5%2B1fpA/3tI1Bf529VbH/grR/wSt8R42/tH%2BFzu/5/tCu4f/RtutbVh%2B3z/wAEudex5X7Rnwq5/wCfy9tYf/RoWto5lWn8ONw7%2BX/3U8%2Bv4beMWF/jZdVj64LFL8rlVf8AgsV/wTRbp%2B1loX42F6P/AGhS/wDD4b/gmn/0dnoP/gHef/Ga6TT/ANpv/gmvrWP7O%2BP3wRuCf4E8UaQW/LzM1t6f8Rf2HdXwdK8d/Ci6z0%2Bz6ppj5/JjW8cRmE/hxNB%2Bif8A8tPIrcL%2BI2H/AIuHcf8AFhcUvzSPPm/4LF/8E0V6/tZaH%2BFhen/2hUb/APBZX/gmbHy37V%2Bj/wDAdKvz/K3r2LTh%2BzRqWDpI8C3Gen2f7E//AKDW5ZeCfhjdL5mneEdBkX%2B9DYQEfotbxWcy2rUn/wBuSf8A7kPMq4Hiyj/ElTj60qq/OaPnuX/gtJ/wTFi%2B9%2B1Zpp/3dB1Jv5W1Vpv%2BC3H/AAS8g%2B/%2B1PbH/c8K6u38rSvpmPwZ4Ph/1XhTTV/3bCMf0qxDomjW5Bt9ItUx02W6j%2BQqvZZ3/wA/af8A4Ll/8sMfY8R/8/6X/gqf/wAtPlVv%2BC5X/BL5jttf2kprhv7sHgjWj/OzFJ/w%2B7/4J4S/8g/4l%2BIrv0%2BzeAdWOfzthX1oqqo2qoAHQAUtHsc6f/L%2BH/gt/wDywPq/ET3xNP8A8Ey/WqfJX/D6r9iST/jzk8fXI7GD4dakc/nEKqfBP9tH4Qfte/8ABQvwYfhRpvie3Hh74M%2BMvtzeI/DVxpwfz9W8K7PL84DzMeS%2B7H3crnqK%2BwK8Z8cf8pC/hf8A9kZ8ef8Ap28IVrQo5nGqnVrRlHqlC3487t9xvhsPnEKylXxEZR6pU%2BVv588ra%2BR7NRRRXoHqBXmH7W3xk8ZfBj4YWF98NbPTJfE3iXxhovhrQJNbgklsrW41C/htjdTxxSRvLHDG8k3lLJGZTEIw8e/evp9cb8ePgl4a/aB%2BHUvw78Taxqel7dSsdT0vWtEmjjvdL1Cyuoru0u4Gljkj3xzwxttkR43AKOjozKQDxLVf2yPjN4U/Y1%2BKHxT1zw/4cv8Ax78LfE2oeH9Sewsp4tMvZYbiER30Vq1w87A2tzDP9iWd5XlDW8crsyOfLbj/AIKVftEf8KytL2OPREvX%2BLmpeFJ/FEHwU8R3d39lttEXUkkfwbFdjWrad5GaEpJIdkMaXjKIbiPH0BH%2Bwd4Bk%2BC2sfBHV/ir41v7TXtT/trU9aubmwTUZdfGprqaa0JYrRFW6S5jgKRhBaoltFGtuEUqcpP%2BCdnhS1u18b6V%2B0V8SbP4gt4qu9evPidBNo7ateT3Gm22mSwyQPpraf5H2Sys4xGlou02qOCJC7sAdv8AAz9ovS/GH7IPg39qL416x4a8Jwa14H07XfEV2fEMDaVpr3FtHJIBeM/lGJXcqH3kEY%2BY9T8Vf8EWda0T4wftn/tO/GTw1rdlq2i6X411XSPDusaddpcW17a3fifXNQMkMqEq8Z3IwZSQwYEZBr79%2BC/wj8G/AT4TeHfgv8PoLhNF8M6TDp%2BnfbLkzTPHGoXfJI3LyMcszHqzE96%2BUP8AgjJ4NfTZP2nvHt1Ftm1v9rXx5BG2PvwW2rzoh/77eUfhXnY2m6uKwy6Kbk/lCVvxZ9nwxjYYHI86k/iqYeFJf9xMVQ5vvjTafkz7Wooor0T4wKKKKACiiigAooooAKKKKACiiigAooooAKKKKACiiigAooooAKKKKACiiigAooooAKKKKACiiigAooooAKKKKACiiigArxn9l/8A5Lf%2B0d/2Wax/9QrwvXs1eM/sv/8AJb/2jv8Ass1j/wCoV4XoA9mooooAKKKKACiiigAooooAKKKKACiiigAooooAKKKKACiiigAooooA8d/4KDnxyP2HPiwfhv8A2n/bH/CBan9n/sTf9u2fZ3837N5fz%2Bf5XmeXs%2Bfft2/Nivm34ReJfh5p3wx/ae8Nf8E5Nf8ADUHh3UvC0z/BXT/At1brYXXiWLw7m8OkpCfLcJK%2BmmUwAqty0u/Eplr70ooA%2BN/%2BCZZ/Z8Pxj8e/8MWnSP8AhU//AArfwV5n/CObfsP/AAlW/Wf7S8zZx/aP2P8Asj7Xu/e7vJ8z95ur0G/1L4r3f/BTbwXZ%2BNvBfh7T9Ct/g944HhrUdK8Tz3l3fodW8JeY1zbSWUKWhGEwEmuA245K7Ru%2Bh6%2BcP2j9X%2BNej/t4fCef4HfD/wALeItSb4R%2BO1u7TxX4wudFgjg/tTwkS6S2%2Bn3rO%2B7aNhjUYJO/ICkA%2Bj6K8Z/4Tj/goX/0a/8ABn/w/Grf/MvR/wAJx/wUL/6Nf%2BDP/h%2BNW/8AmXoA9morxn/hOP8AgoX/ANGv/Bn/AMPxq3/zL0f8Jx/wUL/6Nf8Agz/4fjVv/mXoA9mor5x0n9o79u3WPjPr/wADrf8AZQ%2BEi6p4d8L6Rrt5cv8AHXVPIkg1G51K3hRCPDG4uraXOWBUAB48FiWC9R/wnH/BQv8A6Nf%2BDP8A4fjVv/mXoA9morxn/hOP%2BChf/Rr/AMGf/D8at/8AMvR/wnH/AAUL/wCjX/gz/wCH41b/AOZegD2aivGf%2BE4/4KF/9Gv/AAZ/8Pxq3/zL1y/gH9o79u34ieK/G/hDR/2UPhJDceA/FEWharJc/HXVAk88mlafqYeLb4YJKeTqMKksFO9HGMAMwB9HUV4z/wAJx/wUL/6Nf%2BDP/h%2BNW/8AmXo/4Tj/AIKF/wDRr/wZ/wDD8at/8y9AHs1FeM/8Jx/wUL/6Nf8Agz/4fjVv/mXo/wCE4/4KF/8ARr/wZ/8AD8at/wDMvQB7NRXzj8Iv2jv27fjL4Uu/F/hz9lD4SW1vZ%2BKNb0KSO9%2BOuqK5n0vVbrTJ3G3www2NNaSMhzkoykhTlR1H/Ccf8FC/%2BjX/AIM/%2BH41b/5l6APZqK8Z/wCE4/4KF/8ARr/wZ/8AD8at/wDMvR/wnH/BQv8A6Nf%2BDP8A4fjVv/mXoA9morxn/hOP%2BChf/Rr/AMGf/D8at/8AMvXL/BH9o79u348fBjwh8cfCv7KHwktdL8Z%2BF9P13TbbUPjrqizwwXdtHcRpIE8MMocLIAwVmGQcEjmgD6Oorxn/AITj/goX/wBGv/Bn/wAPxq3/AMy9H/Ccf8FC/wDo1/4M/wDh%2BNW/%2BZegD2aivGf%2BE4/4KF/9Gv8AwZ/8Pxq3/wAy9cv8bv2jv27fgP8ABjxf8cfFX7KHwkutL8GeF9Q13UrbT/jrqjTzQWltJcSJGH8MKpcrGQoZlGSMkDmgD6OpGVXUo6ggjkEcGvGv%2BE4/4KF/9Gv/AAZ/8Pxq3/zL0f8ACcf8FC/%2BjX/gz/4fjVv/AJl6APTNV%2BG3w613P9ueAdFvN3X7XpUMmf8AvpTXN6p%2Byn%2By7ref7a/Zt8A3mev2rwdZSZ/76iNcv/wnH/BQv/o1/wCDP/h%2BNW/%2BZej/AITj/goX/wBGv/Bn/wAPxq3/AMy9ZSw9Cp8UE/VJ/mmehQzbNsL/AAMTUh/hqVI/%2BkziWNS/4J%2BfsJ6tk3v7GvwuJPV4/Aenox/FYgawdR/4Jbf8E8NTz9p/Y/8ABC5/599IEP8A6LIrN%2BLv7R37dvwa8KWni/xH%2Byh8JLm3vPFGiaFHHZfHXVGcT6pqtrpkDnd4YUbFmu42c5yEViAxwp6j/hOP%2BChf/Rr/AMGf/D8at/8AMvXPLLctn8VCD/7cj/8AInr0eNuNMP8Aws0xMfTEV/8A5czjr/8A4I7f8E09Rz9o/ZO0Nc/88L%2B9i/8AQJxWRdf8EQf%2BCX10/mj9mJYX7Pb%2BMNYjI/75vAK9I/4Tj/goX/0a/wDBn/w/Grf/ADL0f8Jx/wAFC/8Ao1/4M/8Ah%2BNW/wDmXrCWSZNLfDU//AI/5Hp0vFDxLo/w86xa/wC5mt/8mzzL/hyT/wAE%2BIP%2BQT8PPEth6fY/H%2BrLj/vq4NJ/w5h/ZCgP/Eq8S/E2x9BafEm/GPzc16d/wnH/AAUL/wCjX/gz/wCH41b/AOZeuX8fftHft2/DvxX4I8Iax%2Byh8JJrjx54ol0LSpLb466oUgnj0rUNTLy7vDAITydOmUFQx3ugxglln%2Bwsl6YeHyVvyaNv%2BIreJj%2BLOMQ/8VRy/wDSoyOa/wCHO/wEh/5Bv7QHxxsvT7L8UroY/NTR/wAOi/h/F/yD/wBtH9pG09Ps3xblGPzhNem/8Jx/wUL/AOjX/gz/AOH41b/5l6P%2BE4/4KF/9Gv8AwZ/8Pxq3/wAy9H9hZR0or75L8poP%2BIqeIj3zKb9Y0Zf%2BlYeR5l/w6ctIv%2BPH/goz%2B1Xbegi%2BMBx%2BtsapfBX9lW8/Zk/4KF%2BC1uv2mPin8RV1v4M%2BMtg%2BJnioamdP8nVvCufs5EaeX5nmjf13eVH028%2Btf8Jx/wAFC/8Ao1/4M/8Ah%2BNW/wDmXqh4H8D/ALVnjH9qzw58bvjd8OPh74Z0bwz8PfEOhww%2BFfiHfa1dXd1qV9olwjMlxpFikUaJpcoLB3YtKgC4yRtQyrL8NVVSlC0l/em/wc2vwPPzTj7i/O8DPB47Fc9Odrr2eHV7NNe9DDU5rVLaa7O6un7rRRRXoHx4UUUUAFFFFABXg/8AwTs8K6X4Y%2BCvi6bTg2/Vfjz8Sr67ZsfNK3jPWE7dgqKPwr3ivkr9krxZ%2B2dp/wAPfFFn8MfgH8MNX0JPjT8Rf7P1HXvi7qOm3cy/8JnrJYyW0WgXKRENuAAmfIAOQTtCcU2m%2BhcalSEJQT0la672d19z1PrWivGf%2BE4/4KF/9Gv/AAZ/8Pxq3/zL0f8ACcf8FC/%2BjX/gz/4fjVv/AJl6ZB7NRXjP/Ccf8FC/%2BjX/AIM/%2BH41b/5l6P8AhOP%2BChf/AEa/8Gf/AA/Grf8AzL0AezUV84/BH9o79u348fBjwh8cfCv7KHwktdL8Z%2BF9P13TbbUPjrqizwwXdtHcRpIE8MMocLIAwVmGQcEjmuo/4Tj/AIKF/wDRr/wZ/wDD8at/8y9AHs1FeM/8Jx/wUL/6Nf8Agz/4fjVv/mXo/wCE4/4KF/8ARr/wZ/8AD8at/wDMvQB7NRXzj8bv2jv27fgP8GPF/wAcfFX7KHwkutL8GeF9Q13UrbT/AI66o080FpbSXEiRh/DCqXKxkKGZRkjJA5rqP%2BE4/wCChf8A0a/8Gf8Aw/Grf/MvQB7NRXjP/Ccf8FC/%2BjX/AIM/%2BH41b/5l6P8AhOP%2BChf/AEa/8Gf/AA/Grf8AzL0AezUV4z/wnH/BQv8A6Nf%2BDP8A4fjVv/mXrl/i7%2B0d%2B3b8GvClp4v8R/sofCS5t7zxRomhRx2Xx11RnE%2Bqara6ZA53eGFGxZruNnOchFYgMcKQD6Oorxn/AITj/goX/wBGv/Bn/wAPxq3/AMy9H/Ccf8FC/wDo1/4M/wDh%2BNW/%2BZegD2aivGf%2BE4/4KF/9Gv8AwZ/8Pxq3/wAy9H/Ccf8ABQv/AKNf%2BDP/AIfjVv8A5l6APZqK%2BcfH37R37dvw78V%2BCPCGsfsofCSa48eeKJdC0qS2%2BOuqFIJ49K1DUy8u7wwCE8nTplBUMd7oMYJZeo/4Tj/goX/0a/8ABn/w/Grf/MvQB7NRXjP/AAnH/BQv/o1/4M/%2BH41b/wCZej/hOP8AgoX/ANGv/Bn/AMPxq3/zL0AezUV4z/wnH/BQv/o1/wCDP/h%2BNW/%2BZeuX1b9o79u3R/jPoHwOuP2UPhI2qeIvC%2Br67Z3KfHXVPIjg065023mRyfDG4OzapAVAUghJMlSFDAH0dRXjP/Ccf8FC/wDo1/4M/wDh%2BNW/%2BZej/hOP%2BChf/Rr/AMGf/D8at/8AMvQB7NRXjP8AwnH/AAUL/wCjX/gz/wCH41b/AOZej/hOP%2BChf/Rr/wAGf/D8at/8y9AHs1FfOOk/tHft26x8Z9f%2BB1v%2Byh8JF1Tw74X0jXby5f466p5EkGo3OpW8KIR4Y3F1bS5ywKgAPHgsSwXqP%2BE4/wCChf8A0a/8Gf8Aw/Grf/MvQB7NRXjP/Ccf8FC/%2BjX/AIM/%2BH41b/5l6P8AhOP%2BChf/AEa/8Gf/AA/Grf8AzL0AezUV4z/wnH/BQv8A6Nf%2BDP8A4fjVv/mXrl/AP7R37dvxE8V%2BN/CGj/sofCSG48B%2BKItC1WS5%2BOuqBJ55NK0/Uw8W3wwSU8nUYVJYKd6OMYAZgD6Oorxn/hOP%2BChf/Rr/AMGf/D8at/8AMvR/wnH/AAUL/wCjX/gz/wCH41b/AOZegD2avGf2X/8Akt/7R3/ZZrH/ANQrwvR/wnH/AAUL/wCjX/gz/wCH41b/AOZerf7K3w5%2BNPg/WPih47%2BOmgeF9J1Tx98Qotcs9K8J%2BJbnVre1tYtB0fTFV7i4srNmkaTTpXKiLaFkQbmOcAHrdFFFABRRRQAUUUUAFFFFABRRRQAUUUUAFFFFABRRRQAUUUUAFFFFABRRRQAV8r/tPftafFz4Y/GTxZrPgHw74Pk8MfB/w/4fvfGp1rSLibVtUt9Xv5UuYLC4juI0svItrOO4/eRTi5kKRkQ%2BX5p%2BqK8Z%2BM/7EPw4%2BN3xSPxM1zxz4q0uLUbXSLXxf4a0a6tU07xTBpd7Je2MV8stvJMFjmmlz9nlgMschimMsYVAAezUUUUAFFFFAHzH4c/aV%2BJkP7f/AIo%2BD/xG1jw94T8Nr4gtNE8GRaj8ItZS68YwDQINRxB4ja7XTmlju7nUALQQvJ5dpMAoLNIv05Xlfiz9lqDx/wDGTSPin49%2BN/jXV9K8Pa7HrWgeALg6ZFo1jqEdu8Ec4aGyS9l2eZJIqTXUkYkfds%2BRAvqlABRRRQB4v/wUF%2BLvxw/Z%2B/ZH8afHr4BXvhSPWPBOhXeuXUHjDRbm%2Btru0tbaWZ7dEtrq2ZJXZEUSFyqAsSj8CvP/AB5%2B1n8XPBfx48W6n4U8O%2BD4vh54P%2BMfhH4feMrObSJzreq6rrsGipHqEN2lwsMccH9uaTGYpLeV5EhnxLHtQV7D%2B1j%2BzjZftafAjXv2fda%2BKvinwjpPieylsdcv/CC6d9rubKWJ4prbdf2l1GiOr8siLICo2uvOeLg/YB8HT/EWz%2BIvir44%2BPtdY6zpOueJtG1CXSorHxPrmmIiWOrX0dtYRMtxEILQhbZoIGNjbF4mMeSAe90UUUAFeL/tk/F344fBK18A%2BMfhZe%2BFP7G1D4meHPD3i%2Bx8QaLc3N1c2uq6zY6aDZyw3UKW0ka3Msm%2BRJ1JRF2ck17RXlX7V37Lb/tVeG9C8Lz/AB98b%2BBrfQvElhrqN4Lh0dnu72xvILyzaU6lp94NsVxbxuFjCBuVk3qdoAPOP2ef2lfiZrf7VXi34I/FDV/D3hPTofFOt2/gnwlJ8ItZ0y5162hdJTf2%2BtXF39g1B2Mk0ssVtAX5LsVwxP05Xkuk/soh/jJovxl%2BI/7QHjvxrN4Xu7y78J6F4hGkw2Gj3VzbyWslxEthp9tLK/2eaeFfPklVFnfaASCPWqACiiigDw/9u74ufHj9n74Nav8AHX4UeMfAtjp/hbRbm8vdF8WeGb2/ufEN7lFs9Ms5La9g%2BzTXEpFujeVdM0s8QWFj8ref/BH9r74z658S/Bf9reDPCWkfDTxv8T/FHw28K%2BGtO0uaPV9Ev9Ah1bfPPci4a3mgkbw/qaLDHbxGNWtj5kmWA9P/AGlf2QYP2kvHngj4gTftA%2BO/CFz4Bu7m90Wx8MRaNPZyXsqCNbyaDU9OvEeeGPzFhkAUxieUj5myKvgP9hn4e%2BA/jLb/ABdh%2BIvi7UoNO1zU9e0TwhqVzZf2TpWt6lG8eoapAkVqk/nzie7LK8zwo19cmOKPzOAD2uiiigAr5f8A2ufjx%2B0x8FviJp/hXSofAHjXR/HMOtW2i/DmLwffSawlraaHdXcl/cXAvniurYXUVvbSQi1iB%2B3woJjIyJJ9QV4dN%2BxNcR/tH%2BK/2mtE/ar%2BJenav4t02HTrnS4YPD89pp9nDA0cNtZtc6TLc28Syu91sWba87l3Dg7aAGfsIftB%2BN/j38Pby6%2BK/j7Rr7xdpws21/w3ZfC7V/CN5oDz2yyiC5stXup7hwW3%2BXcAJHIqHaG2k17pXm/wO/Zu074M%2BJ/EnxD1j4peKfHHirxXFY2%2BseJ/FzWC3L2lmJvstqkWn2trbRxRtc3LjbCGZriQszZGPSKACiiigD45/wCCgn7cfxU/Yv8AHP8Aaeu6LoHjHwi%2Bjajrdv4Vl%2BHOp2Utumm6Nfakkn/CRTXT6ZPd/a9NGyxWBLoRzLKBthaRvXv2aPi78c9W%2BKnjf9nr9o658KX/AIn8I6ToetR614K0i5sLG5sdTF5GkRgubm5dZYrjTrtS/m4kQxNsjJKit8dv2EvBH7TutXVr8f8A4t%2BNfFHgu5kuJF%2BGV5JpsOjRSTWM1kzB7eyjvpAI7iZgkt06B33bfkQL0/7Pn7M2kfAO817xFd/FDxZ448R%2BJDZx6t4q8a3Fm99LbWkRitbUfY7a3hWKIPKwxHvZ55XdnZyaAPSqKKKACviP9qf9sr9rP4N/GrxB8KPB3hvw5411Ow0W413wwE%2BB/iCOTRQNR0y1Qwt9uceJpBY6pced/ZflPC0JWURiYR19uV4fr37Fmp%2BJvHx%2BJ2tftc/FGbW9PgvIfBt4U0ADwqt1NDJP9kjGk7J2aOBbfderdMsTOFKu7OQDqv2WPiw/xk%2BEcHiy9%2BJmjeKr%2BHUbqy1S%2B0bwZfeHRbXEUrK1rNpuoXE91ZzxjCvHM4fPzbVDAV6NXDfAP4C%2BHvgB4Z1PRtK8U634g1HX9euNb8SeJPEc0DXuq38wRGnlFvFDAmI4oYlSGKONUiQBRgk9zQAUUUUAFFFFABRRRQAUUUUAUfFHiGw8I%2BGtR8V6qH%2By6ZYzXdz5S5by40LtgdzhTXzn%2BxN%2B0n8a/H/inR/Bnxs8PeDLNfHXwtsviN4Zh8GaVcWg0yO8uCbvT7szXEou5o3ubZ/tiCATtLMTBHtBf6Wu7S1v7WWxvbdJoZo2jmilUMrqRgqQeCCOMV5D%2BzN%2BxX4C/Zg1V9X0D4g%2BLfEstt4YsfDPh0eLL21mGgaFZvI9vptqbe3hLRqZPmlnM1xII4vMmfy1wAexUUUUAFcL%2B1B47%2BIvwt/Zp%2BInxO%2BD/hRde8W%2BHPAur6p4W0NrGa6Go6jb2csttbGGBllm8yVETy42DtuwpBINd1Wd4t0S/wDEvhjUPD%2Bl%2BK9R0K5vbSSG31rSFga6sXZSBNELiKWIup5AkjdMj5lYZBAPLv2Kfi1P8UPhnfWWrfELw/rOp%2BHdVXTrzTNE%2BGGp%2BDn0NBbQSRWdxpWqXM9zC4RxIrt5aPFLFsTA3v7FXnnwH/Z20n4HXniXxHc/ETxJ4x8SeL9RhvPEXinxW9mLu6MNulvBEI7G2traKKONAFWOFMlnZizMzH0OgAooooA%2BXP2qP2sfih%2Bzh8XvHFl8StG8JeIvhfYfs7%2BL/HttoVvolwmqu2iDS1ntri5kuXt5op1vpwEFshUImXfLCu3/AGZ/i/8AHzVPi54y/Z2/aWk8JXnijwx4Y8PeJY9V8FaTc2NlJZas%2BpW62xhubm5cyw3GkXYMokCyI8TeXGdy1B8Y/wBhXw78dPjq3xl8efHbxzLps3grU/CN98PYYNF/sS70bUltvt9pIX01r0idrSB2cXQdShCMiMyHpP2d/wBl3Q/2fb7W/Ec/xQ8W%2BN/EOv2thZX/AIn8bXNpJe/YLFJFs7Nfsltbx%2BVEZ7hwShkd7mV3d2bNAHp9FFFABXyJ8a/2l/2tvBmu/tAeBLfwr4M8WXvgLw/4U8SfDax0n4f6nfzrHqOq6lCEvLWK8eXUZ4F02OdTbC3JckKvyq1fXdeFy/sUeIYvjp42%2BP8AoX7aHxW0rVvG%2BkWOmXNjZWfhhrTTbayuLmezS2EuivJ%2B6N5dKDM8pdZyJPMKoVAOr/ZU%2BLc3xl%2BFI8Taj8TtG8U6ja6rc2OrXWj%2BCL/w2bO4ib5rWfTNRuJ7q0nRSu5JmDEMrbVVhXpNcJ8A/gHoHwB0LWbHT/FuueI9V8TeIJdc8T%2BJvEktu17qt/JDDB5sgtoYYIwsFvbwqkUUaKkKALnJPd0AFFFFAHxt%2B0t%2B13%2B0t%2Bzx8ZoPhtrSfDPxrfa3BBN4Rh07wte2kvgu81LxDpnh7SJtTle%2BnF1FO2rzgtEtnI4sbpYwy%2BYYvcv2Vfi/8SPiMPH/AMPvjGdEn8VfDTx43hrWdV8NadNZ2Gp%2BZpenatb3ENvNPPJb5tdUt0eNppcSRyYYgjHCW3/BNXwk118Q38Q/tL/E7Wbf4k68dc1i31I6F5lnqUVxDPp9zbXUWlpdKbB7e3FpG80kUSwoGR%2Bc%2BsfAP4C6H8A/D2rabZeL9c8Sat4i1%2BbWvE/ijxK9sb/V76SOKHzphawQQLsggt4ESKKNFjgjULwSQDuqKKKAGXP2n7NJ9j2edsPlebnbuxxnHOM18QfFb9rn9tP4afETXPhtb23gPxnr3hi98NW%2BreOvBHwV1/Vo/DlvqzXj3thLpVnqU93czRQ2VjdExTp%2B7uoWlgQGJpPt67hkuLWW3hupIHkjZVniCl4yRgMu4FcjqMgj1Br57%2BDH7AXiD4CfDa4%2BGnw7/bq%2BMUUd1qz6nNrN5ZeE59Qlu5XlkuZ5pn0I/aZJ3l3SSTiR8xpsKAYIB6z8BPiHZfFb4O%2BH/iFYfEDRvFSanp4kfX/D%2BkzWFpdyAlZClrPNNLbFXVkaGSR3jZWVjuUgdfXJfAv4L%2BEv2ffhfp3wp8FXN/cWVhLdXE19qtyJrq%2Bu7q5lurq6mcKoaWa4nmlfaqrukO1VXCjraACqPieHxJc%2BG9Qt/Bup2Nlq8llKul3mp2D3VtBcFCI5JYY5YmmjVsFkWSMsAQHUncL1ZvjHQb/xR4Wv/Dul%2BLdS0G5vLV4oNa0cQG6sXI4miFxFLEXU8gSRuhx8ysMigD4e%2BG/7dv7Wvxg%2BKet/BL4W6b8Pk8Z6ba67fSeM/Ffwu1rQl1TTNItdFlSxl0S8vk1DT5Xu/EOxJp5nj8qGS4jhdZ0B%2BxvgF8WdN%2BPnwK8FfHXRtNlsrPxr4S03XrSznbc8EV5ax3CxsQBkqJACfUV4tq//AATI8D61rl98Rbv9pT4pp8QNWS8tdb%2BJNre6RDq1/pl1bWttNphRNNFnDbFLK0YeRbRTLJAsqyhyzH6D8F%2BD/DXw88HaT4A8GaTFp%2Bj6HpkGn6TYQ52W1tDGscUa55wqKqj6UAadFFFAHL/GnUfHGjfC3Wtb%2BHPiGx0vVrCzN1Dfah4PvfECJHGQ8oGnWM8FzeSNErqkUMgcuy4Vz8jfFvwl/wCCiPx%2B8SeNND1PxvceEfAngzUp518QeOLz4GeIprbWL%2BHX7rSES5lW%2BjTwzPJa2lr%2B41RpJYHlWN87AlfbfxM8Ga7498JTeHPDfxS1/wAG3kksbxa/4ZisXu4NrAlVW/trmBgwBUh4m4Jxg4I8Vuf%2BCc3hTUPB9x8NtV/aQ%2BJt34Y1zUJr/wAeeH5p9HEXjC7nvHuria%2BlXTRcReaWWJo7OW1iEMSRqijduAPomiiigAooooAKKKKACiiigAooooAKKKKACiiigAooooAKKKKACiiigAooooAKKKKACiiigAooooAKKKKACiiigAooooAKKKKACiiigAooooAKKKKACiiigAooooAKKKKACiiigAooooAKKKKACiiigAooooAKKKKACiiigAooooAKKKKACiiigAooooAKKKKACiiigAooooAKKKKACiiigAooooAKKKKACiiigAooooAKKKKACiiigAooooAKKKKACiiigAooooAKKKKACiiigAooooAKKKKACiiigAooooAKKKKACiiigAooooAKKKKACiiigD//2Q%3D%3D\">"
      ]
     },
     "metadata": {},
     "output_type": "display_data"
    }
   ],
   "source": [
    "s.run(tf.global_variables_initializer())\n",
    "\n",
    "BATCH_SIZE = 512\n",
    "EPOCHS = 40\n",
    "\n",
    "# for logging the progress right here in Jupyter (for those who don't have TensorBoard)\n",
    "simpleTrainingCurves = matplotlib_utils.SimpleTrainingCurves(\"cross-entropy\", \"accuracy\")\n",
    "\n",
    "for epoch in range(EPOCHS):  # we finish an epoch when we've looked at all training samples\n",
    "    \n",
    "    batch_losses = []\n",
    "    for batch_start in range(0, X_train_flat.shape[0], BATCH_SIZE):  # data is already shuffled\n",
    "        _, batch_loss = s.run([step, loss], {input_X: X_train_flat[batch_start:batch_start+BATCH_SIZE], \n",
    "                                             input_y: y_train_oh[batch_start:batch_start+BATCH_SIZE]})\n",
    "        # collect batch losses, this is almost free as we need a forward pass for backprop anyway\n",
    "        batch_losses.append(batch_loss)\n",
    "\n",
    "    train_loss = np.mean(batch_losses)\n",
    "    val_loss = s.run(loss, {input_X: X_val_flat, input_y: y_val_oh})  # this part is usually small\n",
    "    train_accuracy = accuracy_score(y_train, s.run(classes, {input_X: X_train_flat}))  # this is slow and usually skipped\n",
    "    valid_accuracy = accuracy_score(y_val, s.run(classes, {input_X: X_val_flat}))  \n",
    "    simpleTrainingCurves.add(train_loss, val_loss, train_accuracy, valid_accuracy)"
   ]
  },
  {
   "cell_type": "markdown",
   "metadata": {},
   "source": [
    "# Submit a linear model"
   ]
  },
  {
   "cell_type": "code",
   "execution_count": 88,
   "metadata": {},
   "outputs": [],
   "source": [
    "## GRADED PART, DO NOT CHANGE!\n",
    "# Testing shapes \n",
    "grader.set_answer(\"9XaAS\", grading_utils.get_tensors_shapes_string([W, b, input_X, input_y, logits, probas, classes]))\n",
    "# Validation loss\n",
    "grader.set_answer(\"vmogZ\", s.run(loss, {input_X: X_val_flat, input_y: y_val_oh}))\n",
    "# Validation accuracy\n",
    "grader.set_answer(\"RMv95\", accuracy_score(y_val, s.run(classes, {input_X: X_val_flat})))"
   ]
  },
  {
   "cell_type": "code",
   "execution_count": 89,
   "metadata": {},
   "outputs": [
    {
     "name": "stdout",
     "output_type": "stream",
     "text": [
      "Submitted to Coursera platform. See results on assignment page!\n"
     ]
    }
   ],
   "source": [
    "# you can make submission with answers so far to check yourself at this stage\n",
    "grader.submit(COURSERA_EMAIL, COURSERA_TOKEN)"
   ]
  },
  {
   "cell_type": "markdown",
   "metadata": {},
   "source": [
    "# Adding more layers"
   ]
  },
  {
   "cell_type": "markdown",
   "metadata": {},
   "source": [
    "Let's add a couple of hidden layers and see how that improves our validation accuracy.\n",
    "\n",
    "Previously we've coded a dense layer with matrix multiplication by hand. \n",
    "But this is not convinient, you have to create a lot of variables and your code becomes a mess. \n",
    "In TensorFlow there's an easier way to make a dense layer:\n",
    "```python\n",
    "hidden1 = tf.layers.dense(inputs, 256, activation=tf.nn.sigmoid)\n",
    "```\n",
    "\n",
    "That will create all the necessary variables automatically.\n",
    "Here you can also choose an activation function (rememeber that we need it for a hidden layer!).\n",
    "\n",
    "Now add 2 hidden layers to the code above and restart training.\n",
    "You're aiming for ~0.97 validation accuracy here."
   ]
  },
  {
   "cell_type": "code",
   "execution_count": 144,
   "metadata": {},
   "outputs": [],
   "source": [
    "# run this again if you remake your graph\n",
    "s = reset_tf_session()\n",
    "# Model parameters: W and b\n",
    "W = tf.get_variable(\"weights\", shape=(784,10), dtype=tf.float32, initializer = tf.contrib.layers.xavier_initializer()) # tf.get_variable(...) with shape[0] = 784\n",
    "b = tf.get_variable(\"bias\", shape=(10,), dtype=tf.float32, initializer = tf.contrib.layers.xavier_initializer()) # tf.get_variable(...)\n",
    "# Placeholders for the input data\n",
    "input_X = tf.placeholder(\"float32\", shape=(None, 784), name=\"input_x\") ### YOUR CODE HERE ### tf.placeholder(...) for flat X with shape[0] = None for any batch size\n",
    "input_y = tf.placeholder(\"float32\", shape=(None, 10), name=\"y_true\") ### YOUR CODE HERE ### tf.placeholder(...) for one-hot encoded true labels"
   ]
  },
  {
   "cell_type": "code",
   "execution_count": 145,
   "metadata": {},
   "outputs": [],
   "source": [
    "# you can write the code here to get a new `step` operation and then run cells with training loop above\n",
    "# name your variables in the same way (e.g. logits, probas, classes, etc) for safety\n",
    "hidden1 = tf.layers.dense(input_X, 256, activation=tf.nn.sigmoid)\n",
    "hidden2 = tf.layers.dense(hidden1, 256, activation=tf.nn.sigmoid)"
   ]
  },
  {
   "cell_type": "code",
   "execution_count": 147,
   "metadata": {},
   "outputs": [],
   "source": [
    "# logits = input_X @ W + b # logits for input_X, resulting shape should be [input_X.shape[0], 10]\n",
    "logits = tf.layers.dense(hidden2, 10) #tf.nn.softmax(logits) ### YOUR CODE HERE ### apply tf.nn.softmax to logits\n",
    "probas = tf.nn.softmax(logits) ### YOUR CODE HERE ### apply tf.nn.softmax to logits\n",
    "classes = tf.argmax(probas,1) ### YOUR CODE HERE ### apply tf.argmax to find a class index with highest probability\n",
    "\n",
    "# Loss should be a scalar number: average loss over all the objects with tf.reduce_mean().\n",
    "# Use tf.nn.softmax_cross_entropy_with_logits on top of one-hot encoded input_y and logits.\n",
    "# It is identical to calculating cross-entropy on top of probas, but is more numerically friendly (read the docs).\n",
    "loss = tf.reduce_mean(tf.nn.softmax_cross_entropy_with_logits(labels=input_y, logits=logits)) ### YOUR CODE HERE ### cross-entropy loss\n",
    "\n",
    "# Use a default tf.train.AdamOptimizer to get an SGD step\n",
    "optimizer = tf.train.AdamOptimizer()\n",
    "step = optimizer.minimize(loss) ### YOUR CODE HERE ### optimizer step that minimizes the loss"
   ]
  },
  {
   "cell_type": "code",
   "execution_count": 148,
   "metadata": {},
   "outputs": [
    {
     "name": "stdout",
     "output_type": "stream",
     "text": [
      "(?, 10)\n",
      "(?, 10)\n",
      "(?,)\n",
      "()\n"
     ]
    },
    {
     "data": {
      "text/plain": [
       "[<tf.Variable 'weights:0' shape=(784, 10) dtype=float32_ref>,\n",
       " <tf.Variable 'bias:0' shape=(10,) dtype=float32_ref>,\n",
       " <tf.Variable 'dense/kernel:0' shape=(784, 256) dtype=float32_ref>,\n",
       " <tf.Variable 'dense/bias:0' shape=(256,) dtype=float32_ref>,\n",
       " <tf.Variable 'dense_1/kernel:0' shape=(256, 256) dtype=float32_ref>,\n",
       " <tf.Variable 'dense_1/bias:0' shape=(256,) dtype=float32_ref>,\n",
       " <tf.Variable 'dense_2/kernel:0' shape=(256, 10) dtype=float32_ref>,\n",
       " <tf.Variable 'dense_2/bias:0' shape=(10,) dtype=float32_ref>]"
      ]
     },
     "execution_count": 148,
     "metadata": {},
     "output_type": "execute_result"
    }
   ],
   "source": [
    "print(logits.shape)\n",
    "print(probas.shape)\n",
    "print(classes.shape)\n",
    "print(loss.shape)\n",
    "tf.trainable_variables()"
   ]
  },
  {
   "cell_type": "markdown",
   "metadata": {},
   "source": [
    "## Now run cell above for training"
   ]
  },
  {
   "cell_type": "markdown",
   "metadata": {},
   "source": [
    "# Submit a 2-layer MLP\n",
    "Run these cells after training a 2-layer MLP"
   ]
  },
  {
   "cell_type": "code",
   "execution_count": 150,
   "metadata": {},
   "outputs": [],
   "source": [
    "## GRADED PART, DO NOT CHANGE!\n",
    "# Validation loss for MLP\n",
    "grader.set_answer(\"i8bgs\", s.run(loss, {input_X: X_val_flat, input_y: y_val_oh}))\n",
    "# Validation accuracy for MLP\n",
    "grader.set_answer(\"rE763\", accuracy_score(y_val, s.run(classes, {input_X: X_val_flat})))"
   ]
  },
  {
   "cell_type": "code",
   "execution_count": 151,
   "metadata": {},
   "outputs": [
    {
     "name": "stdout",
     "output_type": "stream",
     "text": [
      "Submitted to Coursera platform. See results on assignment page!\n"
     ]
    }
   ],
   "source": [
    "# you can make submission with answers so far to check yourself at this stage\n",
    "grader.submit(COURSERA_EMAIL, COURSERA_TOKEN)"
   ]
  },
  {
   "cell_type": "code",
   "execution_count": null,
   "metadata": {},
   "outputs": [],
   "source": []
  }
 ],
 "metadata": {
  "kernelspec": {
   "display_name": "Python 3",
   "language": "python",
   "name": "python3"
  },
  "language_info": {
   "codemirror_mode": {
    "name": "ipython",
    "version": 3
   },
   "file_extension": ".py",
   "mimetype": "text/x-python",
   "name": "python",
   "nbconvert_exporter": "python",
   "pygments_lexer": "ipython3",
   "version": "3.6.5"
  }
 },
 "nbformat": 4,
 "nbformat_minor": 1
}
