{
 "cells": [
  {
   "cell_type": "markdown",
   "metadata": {
    "slideshow": {
     "slide_type": "slide"
    }
   },
   "source": [
    "# Intro to TensorFlow\n",
    "\n",
    "This notebook covers the basics of TF and shows you an animation with gradient descent trajectory.\n",
    "<img src=\"images/gradient_descent.png\" style=\"width:50%\">"
   ]
  },
  {
   "cell_type": "markdown",
   "metadata": {},
   "source": [
    "# TensorBoard"
   ]
  },
  {
   "cell_type": "markdown",
   "metadata": {},
   "source": [
    "**Plase note that if you are running on the Coursera platform, you won't be able to access the tensorboard instance due to the network setup there.**\n",
    "\n",
    "Run `tensorboard --logdir=./tensorboard_logs --port=7007` in bash.\n",
    "\n",
    "If you run the notebook locally, you should be able to access TensorBoard on http://127.0.0.1:7007/"
   ]
  },
  {
   "cell_type": "code",
   "execution_count": 32,
   "metadata": {},
   "outputs": [
    {
     "name": "stdout",
     "output_type": "stream",
     "text": [
      "We're using TF 1.9.0\n"
     ]
    }
   ],
   "source": [
    "import tensorflow as tf\n",
    "import sys\n",
    "sys.path.append(\"../..\")\n",
    "from keras_utils import reset_tf_session\n",
    "# s = reset_tf_session()\n",
    "s = tf.Session(config=tf.ConfigProto(log_device_placement=True))\n",
    "print(\"We're using TF\", tf.__version__)"
   ]
  },
  {
   "cell_type": "code",
   "execution_count": 33,
   "metadata": {},
   "outputs": [
    {
     "name": "stdout",
     "output_type": "stream",
     "text": [
      "[name: \"/device:CPU:0\"\n",
      "device_type: \"CPU\"\n",
      "memory_limit: 268435456\n",
      "locality {\n",
      "}\n",
      "incarnation: 1574485244364139330\n",
      ", name: \"/device:GPU:0\"\n",
      "device_type: \"GPU\"\n",
      "memory_limit: 10312364852\n",
      "locality {\n",
      "  bus_id: 1\n",
      "  links {\n",
      "    link {\n",
      "      device_id: 1\n",
      "      type: \"StreamExecutor\"\n",
      "      strength: 1\n",
      "    }\n",
      "    link {\n",
      "      device_id: 2\n",
      "      type: \"StreamExecutor\"\n",
      "      strength: 1\n",
      "    }\n",
      "    link {\n",
      "      device_id: 3\n",
      "      type: \"StreamExecutor\"\n",
      "      strength: 1\n",
      "    }\n",
      "  }\n",
      "}\n",
      "incarnation: 6770739710215529794\n",
      "physical_device_desc: \"device: 0, name: Tesla K80, pci bus id: 0000:06:00.0, compute capability: 3.7\"\n",
      ", name: \"/device:GPU:1\"\n",
      "device_type: \"GPU\"\n",
      "memory_limit: 11285974221\n",
      "locality {\n",
      "  bus_id: 1\n",
      "  links {\n",
      "    link {\n",
      "      type: \"StreamExecutor\"\n",
      "      strength: 1\n",
      "    }\n",
      "    link {\n",
      "      device_id: 2\n",
      "      type: \"StreamExecutor\"\n",
      "      strength: 1\n",
      "    }\n",
      "    link {\n",
      "      device_id: 3\n",
      "      type: \"StreamExecutor\"\n",
      "      strength: 1\n",
      "    }\n",
      "  }\n",
      "}\n",
      "incarnation: 13896196200929150521\n",
      "physical_device_desc: \"device: 1, name: Tesla K80, pci bus id: 0000:07:00.0, compute capability: 3.7\"\n",
      ", name: \"/device:GPU:2\"\n",
      "device_type: \"GPU\"\n",
      "memory_limit: 11285974221\n",
      "locality {\n",
      "  bus_id: 1\n",
      "  links {\n",
      "    link {\n",
      "      type: \"StreamExecutor\"\n",
      "      strength: 1\n",
      "    }\n",
      "    link {\n",
      "      device_id: 1\n",
      "      type: \"StreamExecutor\"\n",
      "      strength: 1\n",
      "    }\n",
      "    link {\n",
      "      device_id: 3\n",
      "      type: \"StreamExecutor\"\n",
      "      strength: 1\n",
      "    }\n",
      "  }\n",
      "}\n",
      "incarnation: 12999965114428098030\n",
      "physical_device_desc: \"device: 2, name: Tesla K80, pci bus id: 0000:0c:00.0, compute capability: 3.7\"\n",
      ", name: \"/device:GPU:3\"\n",
      "device_type: \"GPU\"\n",
      "memory_limit: 11285974221\n",
      "locality {\n",
      "  bus_id: 1\n",
      "  links {\n",
      "    link {\n",
      "      type: \"StreamExecutor\"\n",
      "      strength: 1\n",
      "    }\n",
      "    link {\n",
      "      device_id: 1\n",
      "      type: \"StreamExecutor\"\n",
      "      strength: 1\n",
      "    }\n",
      "    link {\n",
      "      device_id: 2\n",
      "      type: \"StreamExecutor\"\n",
      "      strength: 1\n",
      "    }\n",
      "  }\n",
      "}\n",
      "incarnation: 13830296210110629723\n",
      "physical_device_desc: \"device: 3, name: Tesla K80, pci bus id: 0000:0d:00.0, compute capability: 3.7\"\n",
      "]\n"
     ]
    }
   ],
   "source": [
    "from tensorflow.python.client import device_lib\n",
    "print(device_lib.list_local_devices())"
   ]
  },
  {
   "cell_type": "markdown",
   "metadata": {},
   "source": [
    "# Warming up\n",
    "For starters, let's implement a python function that computes the sum of squares of numbers from 0 to N-1."
   ]
  },
  {
   "cell_type": "code",
   "execution_count": 34,
   "metadata": {},
   "outputs": [],
   "source": [
    "import numpy as np\n",
    "\n",
    "def sum_python(N):\n",
    "    return np.sum(np.arange(N)**2)"
   ]
  },
  {
   "cell_type": "code",
   "execution_count": 35,
   "metadata": {},
   "outputs": [
    {
     "name": "stdout",
     "output_type": "stream",
     "text": [
      "CPU times: user 1e+03 µs, sys: 0 ns, total: 1e+03 µs\n",
      "Wall time: 626 µs\n"
     ]
    },
    {
     "data": {
      "text/plain": [
       "333328333350000"
      ]
     },
     "execution_count": 35,
     "metadata": {},
     "output_type": "execute_result"
    }
   ],
   "source": [
    "%%time\n",
    "sum_python(10**5)"
   ]
  },
  {
   "cell_type": "markdown",
   "metadata": {},
   "source": [
    "# Tensoflow teaser\n",
    "\n",
    "Doing the very same thing"
   ]
  },
  {
   "cell_type": "code",
   "execution_count": 36,
   "metadata": {},
   "outputs": [],
   "source": [
    "# An integer parameter\n",
    "N = tf.placeholder('int64', name=\"input_to_your_function\")\n",
    "\n",
    "# A recipe on how to produce the same result\n",
    "result = tf.reduce_sum(tf.range(N)**2)"
   ]
  },
  {
   "cell_type": "code",
   "execution_count": 37,
   "metadata": {},
   "outputs": [
    {
     "data": {
      "text/plain": [
       "<tf.Tensor 'Sum_1:0' shape=() dtype=int64>"
      ]
     },
     "execution_count": 37,
     "metadata": {},
     "output_type": "execute_result"
    }
   ],
   "source": [
    "# just a graph definition\n",
    "result"
   ]
  },
  {
   "cell_type": "code",
   "execution_count": 38,
   "metadata": {},
   "outputs": [
    {
     "name": "stdout",
     "output_type": "stream",
     "text": [
      "CPU times: user 3 ms, sys: 3 ms, total: 6 ms\n",
      "Wall time: 3.42 ms\n"
     ]
    },
    {
     "data": {
      "text/plain": [
       "333328333350000"
      ]
     },
     "execution_count": 38,
     "metadata": {},
     "output_type": "execute_result"
    }
   ],
   "source": [
    "%%time\n",
    "# actually executing\n",
    "result.eval({N: 10**5})"
   ]
  },
  {
   "cell_type": "code",
   "execution_count": 30,
   "metadata": {},
   "outputs": [],
   "source": [
    "# logger for tensorboard\n",
    "writer = tf.summary.FileWriter(\"/share/fperez/tensorboard.data\", graph=s.graph)"
   ]
  },
  {
   "cell_type": "markdown",
   "metadata": {},
   "source": [
    "# How does it work?\n",
    "1. Define placeholders where you'll send inputs\n",
    "2. Make a symbolic graph: a recipe for mathematical transformation of those placeholders\n",
    "3. Compute outputs of your graph with particular values for each placeholder\n",
    "  * `output.eval({placeholder: value})`\n",
    "  * `s.run(output, {placeholder: value})`\n",
    "\n",
    "So far there are two main entities: \"placeholder\" and \"transformation\" (operation output)\n",
    "* Both can be numbers, vectors, matrices, tensors, etc.\n",
    "* Both can be int32/64, floats, booleans (uint8) of various size.\n",
    "\n",
    "* You can define new transformations as an arbitrary operation on placeholders and other transformations\n",
    " * `tf.reduce_sum(tf.arange(N)**2)` are 3 sequential transformations of placeholder `N`\n",
    " * There's a tensorflow symbolic version for every numpy function\n",
    "   * `a+b, a/b, a**b, ...` behave just like in numpy\n",
    "   * `np.mean` -> `tf.reduce_mean`\n",
    "   * `np.arange` -> `tf.range`\n",
    "   * `np.cumsum` -> `tf.cumsum`\n",
    "   * If you can't find the operation you need, see the [docs](https://www.tensorflow.org/versions/r1.3/api_docs/python).\n",
    "   \n",
    "`tf.contrib` has many high-level features, may be worth a look."
   ]
  },
  {
   "cell_type": "code",
   "execution_count": 39,
   "metadata": {},
   "outputs": [],
   "source": [
    "with tf.name_scope(\"Placeholders_examples\"):\n",
    "    # Default placeholder that can be arbitrary float32\n",
    "    # scalar, vertor, matrix, etc.\n",
    "    arbitrary_input = tf.placeholder('float32')\n",
    "\n",
    "    # Input vector of arbitrary length\n",
    "    input_vector = tf.placeholder('float32', shape=(None,))\n",
    "\n",
    "    # Input vector that _must_ have 10 elements and integer type\n",
    "    fixed_vector = tf.placeholder('int32', shape=(10,))\n",
    "\n",
    "    # Matrix of arbitrary n_rows and 15 columns\n",
    "    # (e.g. a minibatch of your data table)\n",
    "    input_matrix = tf.placeholder('float32', shape=(None, 15))\n",
    "    \n",
    "    # You can generally use None whenever you don't need a specific shape\n",
    "    input1 = tf.placeholder('float64', shape=(None, 100, None))\n",
    "    input2 = tf.placeholder('int32', shape=(None, None, 3, 224, 224))\n",
    "\n",
    "    # elementwise multiplication\n",
    "    double_the_vector = input_vector*2\n",
    "\n",
    "    # elementwise cosine\n",
    "    elementwise_cosine = tf.cos(input_vector)\n",
    "\n",
    "    # difference between squared vector and vector itself plus one\n",
    "    vector_squares = input_vector**2 - input_vector + 1"
   ]
  },
  {
   "cell_type": "code",
   "execution_count": 40,
   "metadata": {},
   "outputs": [],
   "source": [
    "my_vector =  tf.placeholder('float32', shape=(None,), name=\"VECTOR_1\")\n",
    "my_vector2 = tf.placeholder('float32', shape=(None,))\n",
    "my_transformation = my_vector * my_vector2 / (tf.sin(my_vector) + 1)"
   ]
  },
  {
   "cell_type": "code",
   "execution_count": 41,
   "metadata": {},
   "outputs": [
    {
     "name": "stdout",
     "output_type": "stream",
     "text": [
      "Tensor(\"truediv:0\", shape=(?,), dtype=float32)\n"
     ]
    }
   ],
   "source": [
    "print(my_transformation)"
   ]
  },
  {
   "cell_type": "code",
   "execution_count": 43,
   "metadata": {},
   "outputs": [
    {
     "name": "stdout",
     "output_type": "stream",
     "text": [
      "[ 0.  1.  2.  3.  4.]\n",
      "[ 4.  3.  2.  1.  0.]\n"
     ]
    },
    {
     "data": {
      "text/plain": [
       "array([ 0.        ,  1.62913239,  2.09501147,  2.62899613,  0.        ], dtype=float32)"
      ]
     },
     "execution_count": 43,
     "metadata": {},
     "output_type": "execute_result"
    }
   ],
   "source": [
    "dummy = np.arange(5).astype('float32')\n",
    "print(dummy)\n",
    "dummy2 = dummy[::-1]\n",
    "print(dummy2)\n",
    "my_transformation.eval({my_vector: dummy, my_vector2: dummy2})"
   ]
  },
  {
   "cell_type": "code",
   "execution_count": 44,
   "metadata": {},
   "outputs": [],
   "source": [
    "writer.add_graph(my_transformation.graph)\n",
    "writer.flush()"
   ]
  },
  {
   "cell_type": "markdown",
   "metadata": {},
   "source": [
    "TensorBoard allows writing scalars, images, audio, histogram. You can read more on tensorboard usage [here](https://www.tensorflow.org/get_started/graph_viz)."
   ]
  },
  {
   "cell_type": "markdown",
   "metadata": {},
   "source": [
    "# Summary\n",
    "* Tensorflow is based on computation graphs\n",
    "* A graph consists of placeholders and transformations"
   ]
  },
  {
   "cell_type": "markdown",
   "metadata": {},
   "source": [
    "# Loss function: Mean Squared Error\n",
    "\n",
    "Loss function must be a part of the graph as well, so that we can do backpropagation."
   ]
  },
  {
   "cell_type": "code",
   "execution_count": 59,
   "metadata": {},
   "outputs": [],
   "source": [
    "with tf.name_scope(\"MSE\"):\n",
    "    y_true = tf.placeholder(\"float32\", shape=(None,), name=\"y_true\")\n",
    "    y_predicted = tf.placeholder(\"float32\", shape=(None,), name=\"y_predicted\")\n",
    "    # Implement MSE(y_true, y_predicted), use tf.reduce_mean(...)\n",
    "    mse = tf.reduce_mean((y_true - y_predicted)**2)\n",
    "\n",
    "def compute_mse(vector1, vector2):\n",
    "    return mse.eval({y_true: vector1, y_predicted: vector2})"
   ]
  },
  {
   "cell_type": "code",
   "execution_count": 60,
   "metadata": {},
   "outputs": [],
   "source": [
    "writer.add_graph(mse.graph)\n",
    "writer.flush()"
   ]
  },
  {
   "cell_type": "code",
   "execution_count": 61,
   "metadata": {},
   "outputs": [],
   "source": [
    "# Rigorous local testing of MSE implementation\n",
    "import sklearn.metrics\n",
    "for n in [1, 5, 10, 10**3]:\n",
    "    elems = [np.arange(n), np.arange(n, 0, -1), np.zeros(n),\n",
    "             np.ones(n), np.random.random(n), np.random.randint(100, size=n)]\n",
    "    for el in elems:\n",
    "        for el_2 in elems:\n",
    "            true_mse = np.array(sklearn.metrics.mean_squared_error(el, el_2))\n",
    "            my_mse = compute_mse(el, el_2)\n",
    "            if not np.allclose(true_mse, my_mse):\n",
    "                print('mse(%s,%s)' % (el, el_2))\n",
    "                print(\"should be: %f, but your function returned %f\" % (true_mse, my_mse))\n",
    "                raise ValueError('Wrong result')"
   ]
  },
  {
   "cell_type": "markdown",
   "metadata": {},
   "source": [
    "# Variables\n",
    "\n",
    "Placeholder and transformation values are not stored in the graph once the execution is finished. This isn't too comfortable if you want your model to have parameters (e.g. network weights) that are always present, but can change their value over time.\n",
    "\n",
    "Tensorflow solves this with `tf.Variable` objects.\n",
    "* You can assign variable a value at any time in your graph\n",
    "* Unlike placeholders, there's no need to explicitly pass values to variables when `s.run(...)`-ing\n",
    "* You can use variables the same way you use transformations \n",
    " "
   ]
  },
  {
   "cell_type": "code",
   "execution_count": 71,
   "metadata": {},
   "outputs": [],
   "source": [
    "# Creating a shared variable\n",
    "shared_vector_1 = tf.Variable(initial_value=np.ones(5),\n",
    "                              name=\"example_variable\")"
   ]
  },
  {
   "cell_type": "code",
   "execution_count": 72,
   "metadata": {},
   "outputs": [
    {
     "name": "stdout",
     "output_type": "stream",
     "text": [
      "Initial value [ 1.  1.  1.  1.  1.]\n"
     ]
    }
   ],
   "source": [
    "# Initialize variable(s) with initial values\n",
    "s.run(tf.global_variables_initializer())\n",
    "\n",
    "# Evaluating the shared variable\n",
    "print(\"Initial value\", s.run(shared_vector_1))"
   ]
  },
  {
   "cell_type": "code",
   "execution_count": 73,
   "metadata": {},
   "outputs": [
    {
     "name": "stdout",
     "output_type": "stream",
     "text": [
      "[ 0.  0.  0.  0.  0.]\n"
     ]
    }
   ],
   "source": [
    "\n",
    "print(s.run(shared_vector_1.assign(np.zeros(5))))"
   ]
  },
  {
   "cell_type": "code",
   "execution_count": 74,
   "metadata": {},
   "outputs": [
    {
     "name": "stdout",
     "output_type": "stream",
     "text": [
      "New value [ 0.  1.  2.  3.  4.]\n"
     ]
    }
   ],
   "source": [
    "# Setting a new value\n",
    "s.run(shared_vector_1.assign(np.arange(5)))\n",
    "\n",
    "# Getting that new value\n",
    "print(\"New value\", s.run(shared_vector_1))"
   ]
  },
  {
   "cell_type": "markdown",
   "metadata": {},
   "source": [
    "# tf.gradients - why graphs matter\n",
    "* Tensorflow can compute derivatives and gradients automatically using the computation graph\n",
    "* True to its name it can manage matrix derivatives\n",
    "* Gradients are computed as a product of elementary derivatives via the chain rule:\n",
    "\n",
    "$$ {\\partial f(g(x)) \\over \\partial x} = {\\partial f(g(x)) \\over \\partial g(x)}\\cdot {\\partial g(x) \\over \\partial x} $$\n",
    "\n",
    "It can get you the derivative of any graph as long as it knows how to differentiate elementary operations"
   ]
  },
  {
   "cell_type": "code",
   "execution_count": 75,
   "metadata": {},
   "outputs": [],
   "source": [
    "my_scalar = tf.placeholder('float32')\n",
    "\n",
    "scalar_squared = my_scalar**2\n",
    "\n",
    "# A derivative of scalar_squared by my_scalar\n",
    "derivative = tf.gradients(scalar_squared, [my_scalar, ])"
   ]
  },
  {
   "cell_type": "code",
   "execution_count": 76,
   "metadata": {},
   "outputs": [
    {
     "data": {
      "text/plain": [
       "[<tf.Tensor 'gradients/pow_2_grad/Reshape:0' shape=<unknown> dtype=float32>]"
      ]
     },
     "execution_count": 76,
     "metadata": {},
     "output_type": "execute_result"
    }
   ],
   "source": [
    "derivative"
   ]
  },
  {
   "cell_type": "code",
   "execution_count": 79,
   "metadata": {},
   "outputs": [
    {
     "data": {
      "image/png": "[encoded data removed]",
      "text/plain": [
       "<Figure size 432x288 with 1 Axes>"
      ]
     },
     "metadata": {},
     "output_type": "display_data"
    }
   ],
   "source": [
    "import matplotlib.pyplot as plt\n",
    "%matplotlib inline\n",
    "\n",
    "x = np.linspace(-3, 3)\n",
    "x_squared, x_squared_der = s.run([scalar_squared, derivative[0]],\n",
    "                                 {my_scalar:x})\n",
    "\n",
    "plt.plot(x, x_squared,label=\"$x^2$\")\n",
    "plt.plot(x, x_squared_der, label=r\"$\\frac{dx^2}{dx}$\")\n",
    "plt.legend();"
   ]
  },
  {
   "cell_type": "markdown",
   "metadata": {},
   "source": [
    "# Why that rocks"
   ]
  },
  {
   "cell_type": "code",
   "execution_count": 80,
   "metadata": {},
   "outputs": [],
   "source": [
    "my_vector = tf.placeholder('float32', [None])\n",
    "# Compute the gradient of the next weird function over my_scalar and my_vector\n",
    "# Warning! Trying to understand the meaning of that function may result in permanent brain damage\n",
    "weird_psychotic_function = tf.reduce_mean(\n",
    "    (my_vector+my_scalar)**(1+tf.nn.moments(my_vector,[0])[1]) + \n",
    "    1./ tf.atan(my_scalar))/(my_scalar**2 + 1) + 0.01*tf.sin(\n",
    "    2*my_scalar**1.5)*(tf.reduce_sum(my_vector)* my_scalar**2\n",
    "                      )*tf.exp((my_scalar-4)**2)/(\n",
    "    1+tf.exp((my_scalar-4)**2))*(1.-(tf.exp(-(my_scalar-4)**2)\n",
    "                                    )/(1+tf.exp(-(my_scalar-4)**2)))**2\n",
    "\n",
    "der_by_scalar = tf.gradients(weird_psychotic_function, my_scalar)\n",
    "der_by_vector = tf.gradients(weird_psychotic_function, my_vector)"
   ]
  },
  {
   "cell_type": "code",
   "execution_count": 91,
   "metadata": {},
   "outputs": [
    {
     "data": {
      "image/png": "[encoded data removed]",
      "text/plain": [
       "<Figure size 432x288 with 1 Axes>"
      ]
     },
     "metadata": {},
     "output_type": "display_data"
    }
   ],
   "source": [
    "# Plotting the derivative\n",
    "scalar_space = np.linspace(1, 7, 100)\n",
    "\n",
    "y = [s.run(weird_psychotic_function, {my_scalar:x, my_vector:[1, 2, 3]})\n",
    "     for x in scalar_space]\n",
    "\n",
    "plt.plot(scalar_space, y, label='function')\n",
    "\n",
    "y_der_by_scalar = [s.run(der_by_scalar,\n",
    "                         {my_scalar:x, my_vector:[1, 2, 3]})\n",
    "                   for x in scalar_space]\n",
    "\n",
    "plt.plot(scalar_space, y_der_by_scalar, label='derivative')\n",
    "plt.grid()\n",
    "plt.legend();"
   ]
  },
  {
   "cell_type": "markdown",
   "metadata": {},
   "source": [
    "# Almost done - optimizers\n",
    "\n",
    "While you can perform gradient descent by hand with automatic gradients from above, tensorflow also has some optimization methods implemented for you. Recall momentum & rmsprop?"
   ]
  },
  {
   "cell_type": "code",
   "execution_count": 92,
   "metadata": {},
   "outputs": [],
   "source": [
    "y_guess = tf.Variable(np.zeros(2, dtype='float32'))\n",
    "y_true = tf.range(1, 3, dtype='float32')\n",
    "\n",
    "loss = tf.reduce_mean((y_guess - y_true + 0.5*tf.random_normal([2]))**2) \n",
    "\n",
    "step = tf.train.MomentumOptimizer(0.03, 0.5).minimize(loss, var_list=y_guess)"
   ]
  },
  {
   "cell_type": "markdown",
   "metadata": {},
   "source": [
    "Let's draw a trajectory of a gradient descent in 2D"
   ]
  },
  {
   "cell_type": "code",
   "execution_count": 96,
   "metadata": {},
   "outputs": [
    {
     "data": {
      "image/png": "[encoded data removed]",
      "text/plain": [
       "<Figure size 432x288 with 1 Axes>"
      ]
     },
     "metadata": {},
     "output_type": "display_data"
    }
   ],
   "source": [
    "from matplotlib import animation, rc\n",
    "import matplotlib_utils\n",
    "from IPython.display import HTML, display_html\n",
    "\n",
    "# nice figure settings\n",
    "fig, ax = plt.subplots()\n",
    "y_true_value = s.run(y_true)\n",
    "level_x = np.arange(0, 2, 0.02)\n",
    "level_y = np.arange(0, 3, 0.02)\n",
    "X, Y = np.meshgrid(level_x, level_y)\n",
    "Z = (X - y_true_value[0])**2 + (Y - y_true_value[1])**2\n",
    "ax.set_xlim(-0.02, 2)\n",
    "ax.set_ylim(-0.02, 3)\n",
    "s.run(tf.global_variables_initializer())\n",
    "ax.scatter(*s.run(y_true), c='red')\n",
    "contour = ax.contour(X, Y, Z, 10)\n",
    "ax.clabel(contour, inline=1, fontsize=10)\n",
    "line, = ax.plot([], [], lw=2)\n",
    "\n",
    "# start animation with empty trajectory\n",
    "def init():\n",
    "    line.set_data([], [])\n",
    "    return (line,)\n",
    "\n",
    "trajectory = [s.run(y_guess)]\n",
    "\n",
    "# one animation step (make one GD step)\n",
    "def animate(i):\n",
    "    s.run(step)\n",
    "    trajectory.append(s.run(y_guess))\n",
    "    line.set_data(*zip(*trajectory))\n",
    "    return (line,)\n",
    "\n",
    "anim = animation.FuncAnimation(fig, animate, init_func=init,\n",
    "                               frames=100, interval=20, blit=True)"
   ]
  },
  {
   "cell_type": "code",
   "execution_count": 97,
   "metadata": {},
   "outputs": [
    {
     "data": {
      "text/html": [
       "<img src=\"data:image/jpeg;base64,/9j/4AAQSkZJRgABAQEASABIAAD/2wBDAAIBAQEBAQIBAQECAgICAgQDAgICAgUEBAMEBgUGBgYFBgYGBwkIBgcJBwYGCAsICQoKCgoKBggLDAsKDAkKCgr/2wBDAQICAgICAgUDAwUKBwYHCgoKCgoKCgoKCgoKCgoKCgoKCgoKCgoKCgoKCgoKCgoKCgoKCgoKCgoKCgoKCgoKCgr/wAARCAEgAbADASIAAhEBAxEB/8QAHwAAAQUBAQEBAQEAAAAAAAAAAAECAwQFBgcICQoL/8QAtRAAAgEDAwIEAwUFBAQAAAF9AQIDAAQRBRIhMUEGE1FhByJxFDKBkaEII0KxwRVS0fAkM2JyggkKFhcYGRolJicoKSo0NTY3ODk6Q0RFRkdISUpTVFVWV1hZWmNkZWZnaGlqc3R1dnd4eXqDhIWGh4iJipKTlJWWl5iZmqKjpKWmp6ipqrKztLW2t7i5usLDxMXGx8jJytLT1NXW19jZ2uHi4%2BTl5ufo6erx8vP09fb3%2BPn6/8QAHwEAAwEBAQEBAQEBAQAAAAAAAAECAwQFBgcICQoL/8QAtREAAgECBAQDBAcFBAQAAQJ3AAECAxEEBSExBhJBUQdhcRMiMoEIFEKRobHBCSMzUvAVYnLRChYkNOEl8RcYGRomJygpKjU2Nzg5OkNERUZHSElKU1RVVldYWVpjZGVmZ2hpanN0dXZ3eHl6goOEhYaHiImKkpOUlZaXmJmaoqOkpaanqKmqsrO0tba3uLm6wsPExcbHyMnK0tPU1dbX2Nna4uPk5ebn6Onq8vP09fb3%2BPn6/9oADAMBAAIRAxEAPwD9/KKKKACiiigAooooAKKKKACiiigAooooAKKKKACiiigAooooAKKKKACiiigAooooAKKKKACiiigAooooAKKKKACiiigAooooAKKKKACiiigAooooAKKKKACiiigAooooAKKKKACiiigAooooAKKKKACiiigAorj/AAR%2B0J8A/iZ431n4Z/Dj44eD/EHiTw5JJH4h8P6J4ltbu%2B0t0kMTrcQRSNJAVkBQh1GGG088VZsPjb8GNV%2BKV78DdL%2BLvhi58babZLeaj4Pt9ftn1S1tiEImktA/nJGRJHh2UA7155FAHT0UUUAFFFFABRRRQAUUUUAFFFFABRRRQAUUUUAFFFFABRRRQAUUUUAFFFFABRRRQAUUUUAFFFFABRRRQAUUUUAFFFFABRRRQAUUUUAFFFFABRRRQAUUUUAFFFFABRRRQAUUUUAFFFFAHyM/iK78Sf8ABRXRvjLpWnfFnWdA8OeFNe0jVrLxH8LL/T9N8KS3FxpcStpco06CXVDdy2xaQ%2BZfIiIZkktohiTl/hp4A%2BIMH7T3hD4cXHwo8UW%2Bu%2BFP2lfG3jrxN4xuPDN1HpV34c1HS9bisfL1Joxb3UhGpaTam1SRpU%2BwMzIqwIT9w0UAeIftr%2BO/2nfhZ4W0Xxt8A/H3gPTba58X%2BHPD%2BoWPi/wHe6rI76rrtjpf2iOW21WzEYiS8MnllH3mMDegORZ/4Qf/AIKF/wDR0HwZ/wDDD6t/81FH7eH/ACRDQ/8Ass3w4/8AU10SvZqAPGf%2BEH/4KF/9HQfBn/ww%2Brf/ADUVW1nQP28/DmkXXiDxD%2B1t8ELCwsrd5729vfgdqkUNvEgLNI7t4pCooAJJJAAGa7b4c/HXS/iD8QvEvwzufBeuaBqfh0xyJFrsUMf9p2byTRLeW4jlctCZYJUywVuFJUB1J8J8Y%2BGPjJ4e0nxP8PPjbo1/rGmfETxRL4atPGUvjN57hUvHkNhJDpUcKw2sELMkLmNhKQjTsCqkjrpYRznyzdnpp1afbWzsrv8Ap2xnVSjdK%2B/9feZ3iT47ft2anB4Xj%2BAH7SfwE8d3Piq8vYrJYvhPqlnCBaQ%2BdOvmnxJJ%2B%2B2lQsJUFt24lUVnHcfCjUv27vi94B0/4geHv2mvhBDBerIktrd/ATVlmtZ4pGhngkH/AAlPDxyxyRsOmUNY/hn4NfFz4x/Eq58Y%2BK/Bep/D7WNLsNLun15mtZobjxHavKj3FvFFKfOtpLSWWJywjLR3LJ95cp7n8FfhhcfCjwZJoOp%2BIxq%2BpXuq3mp6vqaWItkuLq5neaQpCGby0Bbaq7mICjLMck6YqnhaVNRg/e9b736rTa1rWflrpNKVWUrvb%2BvmeDeBx/wWR8RfFHWNF8XeKPgJ4e8H2FxPDpniCf4dapc32qbWxHMlnF4gKRRuAW/eThxkZTOcegf8IP8A8FC/%2BjoPgz/4YfVv/mor2aiuOclN3UUvS/6tm0U0tXc8Z/4Qf/goX/0dB8Gf/DD6t/8ANRR/wg//AAUL/wCjoPgz/wCGH1b/AOaivZqw/iF8T/ht8JPDsni/4qfEDRPDWlQ/63Ute1SGzgXjODJKyrn8amMZSdoq7K3PNf8AhB/%2BChf/AEdB8Gf/AAw%2Brf8AzUUf8IP/AMFC/wDo6D4M/wDhh9W/%2BaiuQn/4Kh/BjxncPpn7Lfwu%2BInxlulcx/afAPhOX%2BzEkzgB9SvDBaBf9pZH78HFNHiv/gqv8XOfD3wo%2BFXwe0%2BX5Wl8V65ceJtVjH98QWQgtVb2M7jPr1rs/s/ER/i2h/iaT%2B7WX/kpfJLrodj/AMIP/wAFC/8Ao6D4M/8Ahh9W/wDmorK8XH9tXwBpZ1vx5%2B2j8BNEsl%2B9eav8F9Stoh/wOTxUB%2BtYn/DB3xr%2BIH779or/AIKJfFfXc8PpvgZ7TwnYsvdStjGbgj63BODyTWt4R/4JZ/sB%2BE9UGv3H7NOh%2BItT6vqnjiWfX7h267i%2BoyTHOeeMY7Yo9lgYfHVcv8Mf1k1%2BQWgup4x4q/4KMP4T1I6Kf%2BCo37O2tXwyBZeD/gRrmuzE%2BgTTvEs5J7YxWb/w3d%2B3rr//ACSnwjrXi1H/AOPe8tP2O9a022l9CJdT8W2w2%2B/P0r7m8K%2BCvBvgTTRovgjwlpmjWa/dtNKsI7eIf8BjUD9K06Pa4CPw0pP1lb8Ix/ULw7HwPH8av%2BDgjxA4bwj%2BzN8I7OBz8k3jHRfsJx6lLTxNeMv0IzXffCy1/wCC7ev%2BI7T/AIW94p/ZT8N6I%2B77ZLo/hPxHqd9F8jbdsTalBE3z7QcyjAJPJAB%2BuqKieIpSjaNKK/8AAm/xl%2BgnJdjxn/hB/wDgoX/0dB8Gf/DD6t/81FH/AAg//BQv/o6D4M/%2BGH1b/wCaivZqK5STxn/hB/8AgoX/ANHQfBn/AMMPq3/zUUf8IP8A8FC/%2BjoPgz/4YfVv/mor2aigDxn/AIQf/goX/wBHQfBn/wAMPq3/AM1FH/CD/wDBQv8A6Og%2BDP8A4YfVv/mor2aigDxn/hB/%2BChf/R0HwZ/8MPq3/wA1FH/CD/8ABQvt%2B1B8Gf8Aww%2Brf/NRXs1FAHxJ4k1P/g4i8P7pdK0j9kfX0H3E0%2Bw8RW8jD3E96qg/8CNYI/aJ/wCC63hg%2Bd8Sv2XvBot1/wBZP4J8CQ6wf%2BAxyeMLaRv%2B%2BRX3zRXZHE0bWlRi/wDwJflJ/kVzLsfK/wCz98Sv%2BChPx%2B0zUr9/GnhvwRNpk8cU1j8Qf2YtX06WYspO6EjxY6TKMYLIxAJA71pfEvxF/wAFBvh74t8EeC7f9oL4M6he%2BNvEj6Xbr/wpTVYRaxRWNzeTXJ/4qZt4VLbbs%2BXLSKNwr6Wrzbx/%2BzPoHjv4y6D8dU%2BI/jDSdb8O288NhbafrKyaeVmiaKQtZ3EcsIYqeXRVf5R83XMU5Yd13Jq0bOy1lrZ27PfW/QFy3PBf2g/jh/wUO%2BCWpXmmaH8V/hH4kfQPDMniXxhJD8GdStk0nR42kDT5fxOTNKfJmKQqAWELfMOM61j8cv2qtQ%2BKkHwitv2sPhYdRubsWMV8f2bdeFgdQNoLz7B9q/4SbyhdfZj5piLbtobupA7f4xfsl%2BOviR4rvrnSPitZ2mj%2BLfD%2Bn6N4%2BS70Uve3dvaTSS7raRJUjhMyyPDIrRsoViyYbOfPfEX7On7TEMWv%2BGPDPhextbLw9rXiTxV4Z1yLWVMmtalcQyLpduIwN8BjWRo5pH4JRSgIchOynRwFSkk5JO3e2/e/Z9F01flSUGjsfA3iP9rf4nXWpWXw4/bp/Z71%2BfRrn7Pq8OjfB3ULl7KXn5Jlj8VkxscHAbGcZFdD/wAIP/wUL/6Og%2BDP/hh9W/8Amormv2OfBt2fGEHi3w/4F13w14W8N/DXR/B2lWviLRJtNur%2BS2BleQ286rIqRGQxq7ABmkmKllIY9x8S/wBtr9lT4MfFW3%2BC3xg%2BNmj%2BFfEF3Zx3NnF4jZ7K2uEcsFCXcyrbs%2BVOUEm8ZGQNwzy1cLL27p0U5WV9rvz2vt%2BF/Ilx1sjM/wCEH/4KF/8AR0HwZ/8ADD6t/wDNRR/wg/8AwUL/AOjoPgz/AOGH1b/5qK9f0vVdM1zTodX0XUoLy0uYxJb3VrMskcqHoyspIYH1FT1ybEnjP/CD/wDBQv8A6Og%2BDP8A4YfVv/morz/wGP8AgshqPxS1Xwf8S/FHwE0nw5BbyzaN4v0f4dapfR3mJVVIZbaTxBDLBKUYucB4xsYbz8ufqairjNRTTinf1081r%2BdyWm2tT5n%2BPHiL/gof8FfhxceNbD47/BfXdRe6t7HRtCPwa1e0bUb64lWG3gWQeI5dpaR1BOw4Xcx4U1f%2BIniP9sD4QaPaa98WP22vgJ4ds729js4LvVvgpqkMLXD52pvfxSAM4PJwOO1egfFb4Bar8Qfid4X%2BK2l/E3UrSXwrdm6tvDN9BHc6PdzfZ7iFZpItqypMouWKyJIANqkoxAxwv7TUPxJ8QeJvDS%2BF/hX4sbxdoN5BJ4c1jSngm0C5Nz5dvfx3gkLFIkgknyZYkcqMwsXO0ddGlQqqEL923s12WullbfXd6aGU51Iczt2t/SNm08Jf8FAL%2B1iv7D9qr4KzwTxrJDND8CtVZJEIyGUjxTggg5BFSf8ACD/8FC/%2BjoPgz/4YfVv/AJqK801T4y654d1/S/i3D8S7rQvDdv4u1Gy0/wAH2NrDHp8PhnSxPFf3U0ITfvLwO6uCNoSMJwxDeyfBX48eL/iL4qn8HfED4Wf8Irfv4bste060bWBdTGzuWkQR3CeUn2e4R4yrRgyLyMOSGCzVwVWlDn3X5f52ur20HCtGTscXqXjH9s34S/Gn4VeGvij8W/hh4l8P%2BPPGt3oOp2mgfC7UdIvLcR%2BH9X1OOaK4m1y7QHzdOjRlaE5WRsFSAa%2Bga8Z/ag/5Lf8As4/9lmvv/UK8UV7NXGbBRRRQAUUUUAFFFFABRRRQAUUUUAeM/t4f8kQ0P/ss3w4/9TXRK6fwD%2B0p8OPih8W/EXwg8BwaxqNz4UDR69rUejyrpdteK6q1iLpgEkuV3bmRN20A5IIxXMft4f8AJEND/wCyzfDj/wBTXRK9lREjBEaBQSSQBjk8k1cXTUXzK76a2t/n6aEtSbVmeXfF34PfFDxf8avB3xM%2BGPjHSPDn9h2d7aa7qN1YPeXN/ZTmJjZpDuSNRviWQTOzbHQYjYM2ertPg78Pk8T2Hj3WfD1tq/iPTLVrey8RarbRy3kKMzFgj7QI87iDsC5GAeAK6eirdeq4qN7WVtNNPN7vf/gCVOKbfcKraxrOkeHtKude1/VbaxsbOBpry9vJ1iigjUZZ3diAqgAkknAAqn43HjVvCOor8OJdLTXTasNKfWopHtFmx8plWNldkHcKyk9MjrXiR1vxV%2B09%2ByR43%2BF/xFvtJ0rxvo73fh7xRiMwWA1OAo8MoWRmZLa5ja2mUFmIjudu4suadKj7Rczel0n3V%2Btu36miVzoPiJ%2B13o9na%2BHH/Z/8OWnxMl8S2mo3tidB8RQJbyW1lDHLMsc4DpJcN50Sxw5XfuZiyqjGvG5v2mfG9/4p8afHjw58W9Uks/Dl3pWoaf4Gu1t47C/8LXHkRSuiGISpepdJfRtIXYK6xqTsdVF/wh8G/iV8Yfjjr3xC0nwbrvwzv7WHT9Tlv9W0xHt/%2BEnidre5aFFkC3lrc2UUCSspQELGVfeXCevfD/8AY%2B%2BFWj%2BDdD0j4seFfD/jTWdE1e91W21jUfDsYS3u7q8lu5Ps0UjSm3hWWX93F5j%2BWEjwxKKR6V8DhI2au9L7N66%2Bceyumn1NPcieh%2BOfDd3408Far4T0/wAV6noM%2Bp6dNbQ63ozol3YM6FRPCZEdBIhO5dysMgZB6V4x8Pf%2BCZ37IngzxFH498YeA7r4ieK05bxb8UtVl8QX5bsym7LRwkdvJjjA7CvfaK82nicRRg405NJ720v81r8r28jNSkloMt7eC0gS1tYEjijQLHHGoVVUDAAA6AU%2BiisBBRRXP/Ej4r/C34N%2BG5PGXxd%2BJOgeFdIiz5uqeI9YgsbdOM8yTMqj86ajKTsldjScnZLU6CivlW8/4LDfso%2BJbyXSP2aPDfxG%2BN99C5SWL4Q%2BALzU7VGHHzX8qw2IGeM%2Bfgd%2B1MH7RH/BVv4r/u/hN/wT88HfD21k%2BaDV/jH8Ukll2di1jo0NyVbHO1p1PY4611fUcSvjSj/iaj%2BDd/wOn6liF8aUf8TS/Bu/4H1bRXymP2dP%2BCsHxF/0v4kf8FGfB3gZJOJdL%2BFXwchk2DuFutYubo59/JHrS/8ADrIeJP3nxf8A%2BChH7THixpObm2HxROjWsnqPJ0iC1wv%2BySfrR9Xw8firL5KT/SKD2FCPxVV8lJ/okfVTukal3YKoGSScACuR8S/tBfAXwYzJ4w%2BN3hDSSn3xqXiW1gK/XfIMV4Kn/BFH/gmpdsJvF37Pl14pmzmSfxn441rWWkb1IvLyRfyAFdd4a/4JX/8ABNPwkqjRP2BvhAGT7st18PdPuJB/wOWJm/WjlwC%2B1J/9uxX5yYcuCX2pP5JfnJm1qv8AwUO/YB0Jimt/ty/B6zK/eF18TNKjI/76uBWPN/wVL/4JoQNtf/goJ8Fyf9j4m6W38p67DSv2Nf2QdCULon7Knw2swv3Ra%2BBtPjx/3zCK2If2d/2f7ddkHwM8HIPRPDNoP5R0Xy/tP/yT/IP9h7T/APJf8jzq2/4Kif8ABNS7YJD/AMFBPgrk9A/xQ0pf/QrgVvaN%2B3p%2Bwz4iYJ4f/bP%2BE98W%2B6LP4i6ZLn/vmc10l1%2Bzf%2BzversvfgJ4LmB6iXwtaMP1jrB1j9hz9inxCpTX/wBj74W3wb7wvPh/psuf%2B%2BoTR/wn/wB//wAkD/Yf7/8A5Kdn4X%2BK3wu8blV8F/EnQNXLfdGl6xBcZ%2Bnlsa36%2BdPFH/BIn/gl74vDDVv2B/hVFu6nS/BtrYn8DbIhFYB/4Iv/ALBGknz/AIa%2BD/G3ga5H%2BruvA3xZ8Q6YY/8AdSK%2B8sf98UcmAe05L1in%2BUg5cE9pyXrFP8pH1VRXyp/w7X%2BLPg7/AEr4I/8ABUf9ojQrhf8AVQ%2BJ9f07xPar6ZTU7KWRvxlpP%2BFW/wDBY74Z/wDIm/tY/Bf4oQdfI%2BIPw3vNBuSPT7Rpd1LGD/tfZ8f7NP6tRl8FaPzUo/mmvxD6vRl8NVfNSj%2Baa/E%2BrKK%2BUT%2B2h%2B338Kv%2BTh/%2BCXWv6pYw/LPrvwV8d6f4hVz/AHlsrv7FdAewVzx3OBWt4H/4K8/sF%2BJfEMPgbx58Xbj4Z%2BJZjtPhn4vaBeeF7tX6bAdRjiikbJA/du/JxSeBxVrxjzL%2B61L8m3%2BAPB4m14x5l/dal%2BTb/A%2BmKKraRrGkeINMg1vQdVtr6yuYxJbXdnOssUqHoyupIYe4NWa5Njl2Cs3xZ4N8IePtCn8LeOvCum61plyuLnTtWsY7mCUejRyAq34itKimm4u6A%2Ba9T/4Je/A3wrqVx4o/ZU8aeMPglrM8hmkk%2BHGuNDps8nUedpdwJbKRAf4REv1FV28af8FL/wBnH/kffh14Z%2BPfhuD7%2BseCGXQPEiRjlnfT7l2tLlsdFhmiJ7L2P05RXasfWnpWSqL%2B9q//AAJWl%2BLL5299Txv4E/t6/s0fH/xG/wAPNA8ZT6B40gH%2Bm/D/AMa6fJpGuW7YyR9kuQrSgd3i8xP9qvZK4T48fsxfAD9p3w4nhb48/CjSPEltCd1nLfW%2BLmyf/npb3CFZbd/9uN1b3rxZ/gh%2B3H%2ByT/p/7MnxUf4v%2BDoOW%2BGvxR1TZq9vGP4NP1vblj0Cx3iuoAx5o60eywmI/hS5JdpbfKf/AMkl6haMttD6korxz9nj9uH4M/tA%2BIbn4ZFNU8HfEHTYt%2BsfDfxrZfYNYtVHWRI2JW6h4yJoGkjIIORnFex1y1aNWhPkqKz/AK%2B9eabXmS007M828ffspfBrxh4a8X6XongrSdA1Pxnb7dX13S9JhW4mlDiRZZMrib94qsytkSYw2c1pfCP4P3nw/wBT1nxp4v8AGD%2BIvFHiJoBrGsmyFtGYYA4gt4YQzCKFPMlYKWYlpXJYk129FU8RWdNwcrp/8DrvbRabaLsZ%2BzgpXSPGP2nWL/G39nIlCv8Axee/GD7eCvFHNez14z%2B1B/yW/wDZx/7LNff%2BoV4or2asSwooooAKKKKACiiigAooooA8H8KfGb9oLQ/2z7f9nT4heIPA/iTS9Z8I6r4iWLwr4cvLG%2B8K20F7bQWK30s17cR3QuhNcKjrHakvYzFEkVZDFhfCz9qf4u67%2B2l4q%2BBvxY8TaJ4Z0W38T3Om%2BANAv/hPrdpc%2BJ7aLS7e7Nxa69PdjT7uRXa7LW8EDSCO1ckAIzjovhN%2BxLefBz4heN/iN4c/ay%2BJt3dePtcn1XW4NWtvDs4Wd2QRLHN/ZAuPKt4UW3hieV0ji4Clvnrfvv2WoPEXxy0X41%2BPfjf418RQ%2BFtaudX8I%2BDtSOmR6Tot9NZ3Fk08X2ayiupittd3UaC5uJlUTsQNyoygHGf8FC/i58KPDXg/wZ8KPEfxO8Paf4p8QfGH4ey6D4avdagi1DUkj8Z6M0jW9uziSYKqsWKKQApJxg19D14z%2B3h/yRDQ/wDss3w4/wDU10SvZqACuJ%2BPv7Q/wh/Zj%2BHs3xM%2BM/i%2BHStNSVYLWPY0tzf3L8R21tCgL3EznhY0BY8noCRj/tT/ALUngz9lrwPa65q%2BkXuveItdvl03wX4L0YB9Q8Q6i4%2BS2gXsB955W%2BSNAWbsDwn7O37IvjPU/iDB%2B1r%2B2nqtl4l%2BKLxMNB0i2JfR/Ats/W005G4acjAlvG/eSEYUqnDdlHDwVP21d2h0S3k%2By7JdZPRbK70VKKtd7Hon7NPxQ%2BMXxh8E3Xj34t/A2b4fR3uos3hrQtT1NZ9SOnbE8uW%2BjRdlrOzbyYA7lFKqxDAik0b9lr4UaZ8add%2BP2pW%2Boat4k14QJLJquoNJa2sUKqsUcNqu2BSu3IlZGm5IMhHFejUVi60lOTp%2B6paWV9u2uvT5/gK%2BugUUUViIKKK8D/ag/wCCgPw9%2BAvjS2%2BAvw18Gat8Ufi/qtsJtI%2BF/g0o12kRwBdX87nydMtMlczzkZB%2BRXIIrSlSqVp8sFd/1q%2BiXm7I0p0qlaXLBXf9b9l5s96lligiaaaRURFLO7HAUDqSewr5h8f/APBVT4KXHi%2B9%2BEv7I3gbxL8fvG1lJ5N3pPwwtkn03TZj0W%2B1eVksbQZyCDKzqRylYFp%2BwV8f/wBsCRfFP/BTr4zfbtEmYSW3wI%2BG1/PYeGbZeqx6jdKUutZkGFLB2jt9wOIipr6l%2BHvw4%2BH3wl8IWXw/%2BFvgfSPDmhadF5dho%2Bh6dHaWtuvokUSqq/gK6eXCUPifPLstI/fu/kkvM35cLQ%2BJ877LSP37v5JLzPmVfhD/AMFU/wBpv/SPjP8AtD%2BGfgF4auPveFPhFZLrOvtE3WObWdQj8iGQf3ra1Ps9dF8Nv%2BCS/wCw14F8SR/EHxj8KZviX4uXmTxl8XdXn8T6i75zvVr9pI4T6eSkYHYV9JUVMsbiLcsHyLtHT72tX85CeMr2tB8q7R0/Fav5sisrKy02zi0/TrSK3t4UCQwQRhEjUDAVVHAAHYVLRRXIcoUUUUAFFFFABRRRQAUUUUAFFFFABRRRQAVkeOPh94C%2BJ3h2bwh8SvBGkeIdJuBi40vXNNiu7eX/AHo5VZW/EVr0U03F3Q02ndHytrP/AASG/Zp8M6nP4q/ZK8W%2BOPgHrk0hle4%2BEniaSy0%2BeTqPO0qYS2EqZ6r5C5HccEU38Sf8Faf2Wxu8V%2BEvBv7S3haD/Wah4YCeFfFkcfUu1pM76feMB/DHLbsx6LyBX1rRXWsbWlpVtNf3tX/4FpL8WdKxlWWlW01/e1f36S/FnhP7Ov8AwUc/Zb/aP8Wv8KtJ8U6h4R%2BINumb74ZfETSpNE8QW/BJxaXGDcLgZ8yBpY8fxV7tXnX7R37JX7OH7W/hNPBf7RXwg0fxRaQP5lhPewFLvT5cgiW1uYys1rICB88To3vXgM3w5/4KCfsCj%2B0/gr4s1T9oz4WWozceA/GGoRp400aAcn%2Bz9TfbHqqqMkW93tmIVVWZiafssNX/AIT5ZdpPT5S0%2B6SXqP2eHr/w3yvtJ6fKX/ySXqfYdFeZfsuftf8AwH/bC8GXHi/4KeLXuJtMufsniPw9qlo9nq2g3gzutL6zlAltpVIYYYYbaSpZea9NrlnTnSm4zVmujOacJ05OMlZoKKKKgk85/aM/ZR%2BB37U/h620T4u%2BEBPd6bL5%2Bg%2BIdOuGtNV0W4GCs9ndxESwOCAflO07QGDDivFR8bf2kv2AZ00j9re/vPiP8JUcR2fxk07T/wDia%2BH484VdctIRiWIDj7dAuOMyxqW3V9YUy4t7e7t3tbqBJYpUKSRyKGV1IwQQeCCO1ddHFuEPZVVzQ7Pp5xe8X%2BD6p7lKVlZ7FXw34l8O%2BMdAsvFfhLXbPVNL1G2S40/UdPuVmguYXGVkjdCVdSCCCCQau18keMfhJ8RP%2BCcmvXvxq/ZX8N32v/CC7uXvPH3wcsF8yXQwx3TapoSH7uOXlsRhHG4x7WwB9NfDH4m%2BAfjN4A0n4p/C7xTaa34f1yyS60rVLKTdHPE3cdwQcgqQGVgVIBBFLEYdU4qpTfNB7Pqn2kuj/BrVO2xKNtVsebftQf8AJb/2cf8Ass19/wCoV4or2avGf2oP%2BS3/ALOP/ZZr7/1CvFFezVykhRRRQAUUUUAFFFFABRRRQAUUUUAeM/t4f8kQ0P8A7LN8OP8A1NdEr0L4w/FvwH8B/hdr3xj%2BJ%2BuJp2geHNNlvtUu3GSsaDO1R1Z2OFVRyzMqjkivPf28P%2BSIaH/2Wb4cf%2BprolcH%2B0PbD9q79tnwd%2ByXJ%2B/8GfDmxt/H3xKgHMV9eec0ei6dL2K%2BbFPePGwIYW0WetdOFoxrVff0ik3L0W9vN6Jeb8ioq71L37HHwW8efEXxpcft6ftR6C9t468TWRh8FeFbv5l8DeH3O6KzRTwLyZdslzLgMWYRDaqEH6UooqcRXliKnM9Fsktklsl5L8dW9WxSbkwooorAQUUV84/8FCv2gPih4Q0zwn%2Byr%2BzHqMVt8W/jHqM2l%2BGNSki8xPDenQoH1LXZU6MtrCw2KT888sK4bJFa0aUq9RQj1%2B5Ldt%2BSWppSpSrVFBf8Murfklqc7%2B0B%2B1B8bf2ivjJqv7Ef/BP7V7aw1bRGWH4sfGO5tRc2HgdXGfsVrGfkvNXZDkRE%2BXACGl5O0evfsp/sd/BD9jrwVceFPhLolzLf6tc/bPFPi3XLo3ms%2BI745L3d/dv89xKxLHnCruIRVXitL9l/9mj4W/sjfBXR/gZ8I9Mli0zS0Z7m9vJfNu9UvJDvuL66lPM1xNIWd3PUnAwAAPQK2rV48vsqOkPxk%2B7/AEWy83dm1avHl9lS0h%2BMvN/otl5u7CiiiuQ5QooooAKKKKACiiigAooooAKKKKACivgn/goV/wAFE/i9pvj3Wf2Vf2dfCer6PLDaSWmveOptC1CSaKV0BEenLaruEgDcTt8uc7cYVz2//BMv/go/4Z/aN8I6J8CPinPqVj8TtK0%2BW1vhqdqwTWGtFUSSpIes%2Bwq8sbbWDb2A29PoKvDWaUsqWPcbx0bS1kotXUmlsn960bsmfO0uKcpq5u8vUrS1SbVouSdnBN7tfc9UrtH1/RRRXz59EFFFFABRRRQAUUUUAFFFFAHzx%2B1h%2BwXp3xf8ZQftK/s7%2BNn%2BGXxw0W28vR/H2l24aLVYVwRp2r2wwuoWTbQNr/vIsBo2UjBt/saftoX/AMd9V1z4CfHnwMngP41eB4oz4z8EtcmSC5t2O2LVtMlbButPmI%2BVx80THy5AGALe%2BV88/t9fso%2BLfjLoGj/H39nO9t9G%2BN3wwkk1L4da3J8sd%2BCP9I0W8OR5lleIDE4JGxykikFDntpVY14qjWf%2BGX8vk/7vdfZ3XVPspVY1oqlVfpL%2BXyf93y6brqn9DUV5t%2ByJ%2B0x4R/a%2B/Z48N/H7wfp9xp6a1asup6LejFzpGoQu0N3YzggESwTxyRNkDOzI4Ir0muScJ05uElZrRnLOEqc3GSs1oFFFFSSFfI/iuw/4drfH1fib4eX7P8CPidr8cHjLS14t/BPiG5cJFqkQ6RWV1IVjnXhY5WSQEBmWvrisH4ofDTwZ8ZPhzrnwo%2BIuix6joXiLS5tP1WylHEsEqFGAP8LYOQw5BAI5ArqwtdUZuM1eEtJLy7rzW6ffTZsqLs9djzf9qD/kt37OP/ZZr7/1CvFFezV8vz/DTx98G7X9kv4U/Ez4jDxbq/h74qXthJ4iNoYXvYYvBnipYGkUsxMohEau%2BfndWbA3YH1BWFSMYTcYu6T37%2BfzE9GFFFFQIKKKKACiiigAooooA5DwL%2B0J8A/ih4y1n4dfDP44eEPEXiHw67J4g0LQvEtrd3mmMrmNluIIpGeAhwVIcDDDHWrFr8bfgzffFO5%2BBdl8XPDE3jezsBe3ng6LX7dtVgtSFIne0D%2BcsZDp85Xb8y88ivmv4a/FfTPix%2B2/q3xT8WfCT4i%2BEtJ%2BFmk614X8C6bcfBrxDD/bX2q8szqOrNdCw%2BzvBJLaQJawRSMzxrNcuDvjEPM%2BDfh/8QYv2pPD3w3m%2BFHiiLXtB/ad8SePda8Zy%2BGrpNKm8O3mhanb20iamY/s08hW9sNP%2ByrIZl%2BzMxjEcKvQB73%2B3h/yRDQ/%2ByzfDj/1NdErkP8AgndF/wAJt4h%2BOf7RV%2BPNu/GXxp1WwtLr%2B9pmjhNKtUH%2ByDbTuPeU1e/4KF6b8V5/B/gzUfDnjTw9a%2BFofjD8PRr2jXvhie41C8c%2BM9G8tre8W9jjtgrbSwe2mLAEApkEV/8AgljNHF%2By/qPh17ZIbzRfil4ysNSiQsdtwniC%2BZs7iTuIdWPPfgAYFdtHTA1murgvleT/ADSLXwP5H0fRRRXEQFFFFABXyX%2ByLZt8df8Agol%2B0P8AtTaywuLbwRfaf8KfBG8c2cNpbQ6jqxX/AK63t7EpbqRaKM8YH1pXyp/wS3ZbDUP2kvCl38t/p37UviqW7jbhtl0lneQOR6GGePB/2fauzD%2B7hq0lvaK%2BTlr%2BSR1UPdw9WS3sl8nLX8kj6rooorjOUKKKKACiiigAooooAKKKKACiiigAoor86/8Ag4z8H/HrxJ%2Bzt4O1H4d61ND4Ns9enj8cWcN0YxNJKsQspJFH340ZZwRyN0sZweCOfF1MXToN4WjKtUdlGEd5NtJJffr5XPoeFMpynPM/o4PNMfTwOHlzOpXq/BTjCEpttK121Hlirq8ml1V%2B/wD21P8AgoV%2B1h%2ByX4gFt4j%2BDfgHQ9C1XXrmz8L%2BIde8RXN2b23jJIne1s0MsYCGMsOcGRRyTXwd%2Bzt%2B1740%2BFn7QXgJ4fDdr8Q9I%2BG%2Bu63qtnL4GsLuOe8/teFIrn5rmFZWRJGQASRIxOV3kFGHHN/wTs/bOf8AZ08JfHK08Car4n0nXfk03TtEjn1G/gh2DZcSwQowiicIADuLDaA4X5c/cHwt/wCDfT4VnwBYz/Fz41%2BJP%2BEnf95eN4dEEVlEDyqIs8BkJHdiVyf4VxX7TgqnCuTZJB4qUeequWagnJqSjaSdpOSceaUW1ZNtuKatb%2BfM4w3FWacTVqWB55UqE26c52gpQ524SScbWqKMJqLvKKtGTTTv9nfspftOeDP2t/hBb/F7wToup6ZC99cWV7pesQCO4tLmF9rxttJU/wALAgnhgDhgyj0modOszp%2BnwWDXc1wYIVjM9wwaSTaANzEAZY4yTjqamr8kxEqM68pUY8sW3ZXvZdr2V/uP1zDxrww8Y1pc00ldpWu%2B9ru3pcKKKKxNgooooAKKKKACiiigAooooA%2BTf2YLVfgB/wAFMvjr%2BzXp48rQPiBoWlfFbw9ZR/6u2vLiSXTdYx7yXFrazkf3rhj/ABV9ZV8qTsuqf8FvbT7Cd39ifsr3K6mV/hN74ktzbhvcixuSB9a%2Bq67MZrOEnu4Rb9bNfkkdWL1lCT3cYt/c1%2BSQUUUVxnKFFFFAHjP7UH/Jb/2cf%2ByzX3/qFeKK9mrxn9qD/kt/7OP/AGWa%2B/8AUK8UV7NQAUUUUAFFFFABRRRQAUUUUAFFFFAHjP7eH/JEND/7LN8OP/U10SuM/ZOmHwb/AGz/AI7fsyaj%2B6h1/WLb4l%2BEw/W5tdRiS21Db7R39qxI/wCnpT/FXZ/t4f8AJEND/wCyzfDj/wBTXRK5f9v3wJ408JHwp%2B298G9Bn1LxX8Ibme41XRbNf3uv%2BGrhVXU7BR/HKERLmEHOJbcAAl67cE1OUqEnbnVl/iTvH8dP%2B3i4a6dz6OorE%2BG3xG8F/F7wBo/xR%2BHPiCDVdC1/Tor7StQtmyk8Eihlb1BwcEHkEEEAgituuOUZRk4tWaI2CiiikAV8eSRx/sa/8FYr/wAUa1e3Efgr9qnRrG0jurm4Y22n%2BNNGtmiitwDhIftunAbf4pJbHbzlQPsOvNv2s/2YfAX7X/wM1f4IePrm6skvDFdaNrumyeXe6HqUDiW01C1kHMc8Mqq6kHnBU5VmB6cLVhTm4z%2BGSs/Tv8mk/vXU6MNUjCbjP4ZKz/z%2BTSf3rqek0V80/sTftc%2BO9f8AFN9%2Bxf8AtiwWujfHLwbZCS6aJPKsvG2lqdkevaZnAeOTA86Ffmt5dyMqjbX0tWdajOhU5Zf8Bro13T/rW6WdWlOjPll/wGujXk/66oKKKKyMwooooAKKKKACiiigAooooAKq61omjeJNJudA8Q6TbX9jeQtFd2V7AssU8bDBR0YEMpHUEYNP1LUtO0bTp9X1i/htLS1haa6urmUJHDGoJZ2ZiAqgAkk8ACvlbWv2rvjz%2B2P4iuPhz%2BwDaR6T4YtLhrfXvjVr%2BnF7ONlOHi023cD7XIP77DYPYMsh7sFgcRi25QajGPxTbtGPa779kryfRdVwY7H4bBpQmnKUtIwSvKXey7d27RS3fR537MHhWw%2BAH/BR3x9%2BzZ8Di%2BmfD6TwRa%2BItS8L3zt5Vnqkkqp5mnKxJ8lkYeZj5Q/y8bUA%2Bwa8a/Zp/Yp%2BH/7OviPUfiddeL/EXjHx3rdkLXXPGvirU3nuriHermFEzshi3KpCAEgKo3EAV7LW%2Bc4qji8Wp05OVoxi5NWcpRVnJ31101etkrnPkmEr4PBuFWKjec5KKd1GMndRVtNNdFom3YKKKK8o9cKKKKACiiigAooooAKKKKACoNV1TTND0y51vWtQgtLOzgee7u7mUJHDEilmd2PCqACSTwAKnr4r%2BP3jfWP%2BCn3xW1P9h74D6xcx/B7w3qQt/wBoD4iadMUi1RkIZvCmnzL/AKySTgXkqHEMRMW7fIVrfD0HWlq7RWrfZf5vZLq/nbehRdaWrtFat9l/n0S6v526H/gmVDqXx28T/FT/AIKNa7YzQW/xk1%2B3tfh7BdRFHj8IaUkltp021hujN1I93eFe63EZ6Yr6zqroWhaL4X0Sz8NeHNKt7DTtOtI7WwsbSERxW8MahEjRV4VVUAADgAAVapYir7es5pWWyXZLRL7l99xV6vtqrklZdF2S0S%2B5fmFFFFYmIUUV5F%2B2n%2B0nc/s1/B1tU8H6Ous%2BOfEt9HoXw58NKcvqutXGVgQjtFHzNKxICxROSRxWlGlOvVVOC1f9fd1b6JNjSbdkVv2oP%2BS3/s4/9lmvv/UK8UV7NXy9P8KPEnwPtf2S/hf4z%2BIOpeK9b0v4qXo1vxFq15JPNf3sngzxVLPIGkJZY/NdwidEjCIMBRX1DSqRjGbUXdJ79/P5g9GFFFFQIKKKKACiiigAooooAKK8X/Y5%2BLvxw%2BJV18UvB3x%2BvfCl3rPw/wDiY3h62vvB%2Bi3Nha3Fq2jaVqSForm6uXMitqDxlw4VxGrBEyRXJfsUftT/ABd%2BM/xC8R%2BCPj34m0TR9dtbnWJdJ%2BH5%2BE%2Bt%2BH9QTTbXVpLSG/jvtRu5IdXgaH7Kzy2kKxq91Hll3qpAOv8A28P%2BSIaH/wBlm%2BHH/qa6JXs1fPH/AAUL%2BLnwo8NeD/Bnwo8R/E7w9p/inxB8Yfh7LoPhq91qCLUNSSPxnozSNb27OJJgqqxYopACknGDX0PQB8hX8l5/wS5%2BKd5rwtpX/Zy8b6y1xqAhjLL8NtZuJPnm2j7mlXMjZbHy28zk4VH5%2BuLK9s9Ss4dR067iuLe4iWSCeCQOkiMMqysOCCCCCOCDUetaLo/iTR7rw94h0q2v7C%2Btnt72yvIFlhuInUq8bowIZWUkEEYIOK%2BTm8L/ABj/AOCY93Jf/DLQNZ8f/s%2BNK0l34Tsw93rfw%2BUklpLFSS99pq5Ja3yZYB8yb1DLXo%2B7mC1dqv4T%2BfSfrpLupfFfx%2Bv5/wDBPrqiud%2BFPxb%2BGnxy8Baf8UPhD4207xD4f1WHzLHVNMuBJHIO4PdWB4ZGAZSCGAIIroq4JRlCTjJWaI2CiiipA8k/a5/Y2%2BF37YHhHT9N8XXeo6D4m8N3h1DwN4%2B8N3H2fWPDN/jAuLWYDgEACSJsxyr8rqcAjxzwP%2B3T8WP2SPEtj8Cf%2BCpFhY6QLm4Wz8K/HzRrUxeFvEpJxGl91Gi3zD70Up8h2DmKTGFr6%2BrO8W%2BEfCnj7wzfeC/HXhnT9Z0fU7ZrfUtK1WzS4trqJhho5I5AVdT3BBBrqpYhKHsqq5o9O6/wv809H5PU6addKHs6q5o/ivR/mno/J6l21urW%2BtY72yuY5oZow8M0ThldSMhgRwQRyCKkr5Ck/YK/aF/ZCuZPEH/BMj422%2Bm%2BHxIZZ/gX8TZri%2B8Mtk5ZdOulLXejk5YhEMsG5h%2B6AFafhL/gqv8ADXwb4htPhr%2B3f8LfEH7Pfiu6lEFu/jnZN4d1GX/py12DNnKOnErQyc8oKp4NzXNQfOuy%2BJesd/muZFPCuavQfOu32l6x3%2Bauj6qoqvpOr6Tr%2BmW%2Bt6Fqdve2V1Estrd2k6yRTIRkMjqSGUjkEHBqxXHscmwUUUUAFFZ/inxb4V8DaFP4o8beJtP0fTLVd1zqOqXiW8EI9WkkIVfxNfO3in/gp58LNe1mbwL%2Byd8PfEnxk8SRtsa38JWLR6dbN2NxfyqIo0P99Q689a7MLl%2BNxt3RptpbvaK9ZO0V82cWLzLA4Gyr1Em9lvJ%2BkVeT%2BUT6Zrxz49ft6/svfs6a1/wh3jv4iLd%2BJHwIPCnh%2B1kv9RkcjKp5MIPlsRyPMKZrzt/g/wD8FKP2i4W/4XF8etB%2BEOg3SkSeHfhxZm71QxH%2BCS/mOIZB/fgyPavXf2d/2R/gL%2By5ojaZ8JfBEMF5cEtqWv3x%2B0alqEh5Z57h/nYkknaMICThRmu36rlmDV8TU9pL%2BWm9P%2B3qjVvlCMn5o4frea412w1L2Uf56i1/7dpqV/nOUV5M8I0D4K/HD/golqmoeO/2oL/xZ4G%2BFQ1PZ4Z%2BEYi/s681a2jCkXGqOp8zDtk%2BRnjGVIwHf6z8M%2BGPDvgvw9ZeE/COh2umaZp1usFhYWMCxQ28SjCoiqAFAHYVeorlxuYVcZaCSjTj8MFsunq5PrKV5PulouvA5dRwV5tudSXxTfxS627Rir6RjaK7N3bKKKK4D0AooooAKKKKACiiigAoorm/it8Y/hL8CfB1x8QvjT8S9C8J6Faj9/q3iHVYrO3U4zt3ysoLHHCjk9gacYyk7RV2NRlJ2SuzpK534rfFz4YfAvwFqPxS%2BMnj7SfDPh3SoTLqGs61fJb28K9gWcgFieAoyWJAAJIFfM83/BRL41ftPk6H/wAE0P2ZL/xbYzHYvxe%2BJUNxoPhGAf8APWASIL3VQCCMW8SoeD5uOa2Phh/wTT0nXvHunfHv9u/4sXvxx8f6bN9o0aPXLFLXw14bl7HTNHQmGN14H2iYyznaG3qa7PqsaOuIly/3VrL7to/9vP8A7dOr6tGlrXfL5LWX3bL/ALefyONvvGn7T3/BVBT4f%2BESeJPg5%2Bz1dcal48vLd7HxV48tj1i0uBwH0uxkXreSgTyKy%2BWiAs1fV3wc%2BDXwu/Z8%2BGej/Bz4L%2BCLDw54Z0G0FtpWkabFsihQEknuXdmJZnYlnZmZiWJJ6aisq2IdSKhFcsFsv1b6vzfokkZ1a7qRUIrliun6t9X5/ckgooornMAoorzL9pj9rT4SfsseH7O88d3l3qGua1Mbbwr4M0C2N3rGv3XaC0tl%2BZznG5zhEyCzKKunSqVpqEFdvoNJt2R0Pxw%2BOHww/Zy%2BGGq/GD4weKYdI0LSId9zcy5Z5GJwkMSD5pZXYhUjUFmYgAc14r%2Byz8IPid8afiyf28v2p/DE2j65NYSWXws8AXpDN4N0eXG%2BWYdBqV0ApmYcxoFhB4YU34O/syfFr46/EzS/2rP27ra0XVtImNz8PPhRY3QuNL8HEj5bmdx8t9qe04M%2BPLiJIiHRh9MV2znTwlN0qbvN6Sktkv5Yvr/el12Wl3Km1FWW54z%2B1B/yW/8AZx/7LNff%2BoV4or2avGf2oP8Akt/7OP8A2Wa%2B/wDUK8UV7NXnkBRRRQAUUUUAFFFFABRRRQB4v8Cf2PNY%2BBPjTxf41tP2sviV4jk8ceK4fEGvWPiG08OiB7tLW3syE%2ByaRA6Rvb2ltEwD5xCGUq7Ozanw/wD2WoPCfxoX48%2BNvjf418da9ZaHfaN4d/4So6ZHBoljeXFtcXUNvHp9la7zI9lZgyXBmkC26gONz7/VKKAPGf28P%2BSIaH/2Wb4cf%2BprolezV4z%2B3h/yRDQ/%2ByzfDj/1NdErU8M/tgfBrWvjTqP7PPiK9v8Awt4wtLuSPTdI8V2RsjrkKnAudPkY%2BXdxNzgIxcYO5FxWkKVSqm4K9tXbou/9fOxMpxja7tc9SooorMo%2Bcfih%2Bw54h8HePdQ/aB/YT8f2vw48bajN9o8Q%2BHrq1abwx4sk7m/s0IMMzdPtdvtlGWLCTNS/C/8A4KCeHLfxnafBD9r/AMB3Xwd%2BIN0/lWFl4gulk0bXnHG7TNTAENxnK/uXMcwLBTGSM19E1gfEz4V/Db4z%2BDbv4efFrwJpXiPQ79Nt3pWs2KXEEnodrggMOoYYIPIINd0cXCrFQxK5rbSXxL57SXlL5SRfMnpI36K%2BXV/ZA/aa/Zd/0z9hH49C88OQ8r8I/ixcz6hpkSD/AJZ2GogteWAAGFRzPHk8qAKvaF/wUp8D%2BB9Wt/BX7a3ws8QfA7XZ5RDDeeLFW48PXkh7W2s2%2BbZhjnExhcZ5UUPAyqK%2BHl7RdlpJesXr/wCA8yDkv8Op9KUVV0TXNE8TaTb6/wCG9YtdQsLuISWt7Y3CywzIejI6kqwPqDirVcLTTsyArP8AFPhTwt458P3fhLxt4a0/WNKv4TFfaZqtmlxb3EZ6pJHICrr7EEVoUU02ndAm07o%2BbvBH/BLr9nv4J/FPTfih%2By54p8a/CiG21dL7WPBngfxPJF4b1sB8vDcaXOJbaNWGVzbrC4zkMDXWftzeLdc8PfCDS/DWg%2BKbzQW8X%2BNtF8O3evafKYptOtbu7RJ5UkH%2BqYxhkD8bTICCDij9q/8Aav1D4A6h4a%2BGvw5%2BFl/428f%2BOJLqPwn4bs7hIIn%2BzorzTXEznEUSK4JOOcHoAWHmFx%2BwB8Yf2qNMkvP%2BChPx/wBR1jT9QYPcfC7wRMbHQIUyCIJmwZbwAjO5iCD0YgAn26OHnUjDFY6qow%2Bzf3pys2tIrVpP7UmldWu9TirZ3VljVSp05VpwtzapRjfVc05KzdmmopTla17Jnl2n/wDBRn4P/s5fs0/FDRfAHx4m8S6zp3irU7T4SaRJqlx4i1Ka3CQrAgeWSSSWNZjN5fny8hNu7btAzfhr/wAFMv28/i3pOifDb4B/AzTPEuv67qd9Y2Xjb4laO/hO3tTZQ77o3mnRXV3KrRnALIyjMkY8rnNfVnh3/gnt%2Byt8PPCMvhT4K%2BAJfh/JI0DJrfgnUprHUYzCpVB9oDF3XaSGR9yOPvK2BjnfGX7Alxp%2Bi6NB%2Bz38YZvCurWdr4gt9a17xBpTazdaqdZ8k3t8zefBsvhJCskUp3xJudTAyEKvSsbkcb8lJyk%2BtTa9t%2BWFlbyber1OiEMVi2/rNVQTle0Iu9rWtKbu99W4Ri277J3Xzl8PLr4R/GbWPBXxX/b5%2BIXi74oaprGlaRqh8N2/h3yPDHgZdTnktbMX8MT7C8lxFNAHbcT5ZMiBcPX6F%2BGvC3hnwZo0Phzwf4dsNK0%2B2Xbb2Gm2iQQxD0VEAVfwFfKeo/sNfErR/GeufB7wToujp8MvFuqeH7nU/EU%2BtP8A2jY6bpdrEjaULXycSNNPC8v2jzQAL2YGMFF3fRXx30X46a98N7vTv2cfHXh3w54rM0T2Op%2BKdBl1KyVA4MiPBFPC53LlQwcbSc4OMVxZljJY2UI%2B093otoxXS0YpKPW%2Bjel222VSyvK8DJPCqzlvJtyk/wDFJ3lpta9klsjsaK%2BVftv/AAW28OfNNoH7L3i2NPvfZ9R8Q6HLIPZWjvVB%2BrYqS1/aO/4KtaTIbbxJ/wAEzPBephI3Y3fhv4/w4kYKSFEd1psRGSABlsc84Ari%2Bpzfwzg/%2B3l%2Btjt%2BqSe04v8A7eX62PqaivlX/htH/goXYn/ic/8ABHjxmyjq%2BlfF7wtcD8A95G36Uv8Aw3v%2B2BCMXf8AwSD%2BMSt3EPizwvIPzGp0fUcR05f/AAKH/wAkH1Ov5f8AgUf/AJI%2BqaK%2BVv8AhvH9sy4%2BXTv%2BCQHxcZuwufGnhaEfmdSNJ/w2L/wUevv%2BQV/wR98QQg/dbWfjX4agH4%2BTNMR%2BVH1Gv15f/A4f/JB9Tr9bf%2BBR/wDkj6qor5VPx3/4K8%2BJ/wBz4f8A%2BCevws8Mk8LP4p%2BPEt0B7lLLSW/IMaP7J/4LZ%2BKP3F740/Zj8GxP9%2BXTtE8Qa7NGP9kyzWaE/VaPqcl8U4L/ALeT/JMPqjXxTiv%2B3k/yTPqqivlP/hjH/goX4z/c/Ff/AIK0%2BIbW1k/19n8NfhRouikD0Se7W9lXHru98UH/AII%2B/s3eLef2hvi58afi2P8An3%2BIfxe1SW1z/wBelnJbW%2BD/AHfL2%2B1P2GFj8VW/%2BGMn%2BfKg9jho/FV%2B6Lf58qPUPjn%2B3z%2BxP%2BzRHN/wvf8Aap8CeGbiD7%2Bnaj4kt/tpPcLbKxmc%2Byoa8r/4eo2/xRH2X9jH9i/4yfFtpuLLXU8KHw3oMp9TqGtG2BX3jjk9gcjPrvwR/Yd/Y4/Zs8qT4Dfsu%2BA/ClxEPlv9G8L20N03u1wE81z7sxNep0c%2BBp/DBy/xOy%2B6Ov8A5MPnwcPhg5ersvujr%2BJ8mnwT/wAFeP2hznxr8W/hv%2Bz5oM/zHTvAunP4q8QhDwY3vr5IbKFsfxR20uOoPp0Pwr/4JUfskeBfGNv8VviZout/FzxzbcxeN/jHrcniC9hOcgwRz/6NaYPT7PDHjoOgr6RopSxte3LC0F2irfe9385CeLrW5YWiv7qt973fzYiqqqFUAADAA7UtFFchyhRXm/jD9rX4A%2BE9C8X6ra/EXTdcu/A9nJceIdD8P38NzfQFCoMflBxh9zoh3FQrOoYrnNea%2BNP2rPit441/w78I/hvoyfDzxbqOvXWna9F4z0yLUDp00enyXtrEot7pYnS5CMFnV3A8t12bmUjqp4PEVOll3enS/rt5PoUoyZ9JVS8R%2BJPDvg/QrvxR4t16y0vTLCBpr7UdRukggt4x1d5HIVFHckgVzPwB%2BKl18Y/hjaeMdV0dNO1JLu6sdX0%2BOQssF3bXEkEoUnkoWjLKe6stea%2BJf%2BCf3gD4wfFe8%2BJ/7UfxB8QfE2zj1Vrrwv4H8QyxxeHtDj3ZjUWECrHdyKDt86580kY4B5qYUqUako15ctuyu35Lp827eoJK%2BpzGo/tp/GD9qe8m8Gf8E6PAMOpaX5jQah8a/GNpLD4cssHa5sIvlm1eZcMB5e2AMF3SkHFd9%2Bzd%2BxT8P/gL4gvPiv4m8Ran49%2BJuswCPX/iT4rKyX86dTb26qPLsbUEnbbwhVAxuLkA17DZWVnptnFp2nWkVvbwRrHBBBGESNFGAqqOAABgAdKlrSpi7QdOjHki9%2Brf%2BKX6K0fJg5aWWgUUUy5ubayt5Ly8uEihiQvLLK4VUUDJJJ4AA71xknjn7UH/ACW/9nH/ALLNff8AqFeKK9mrwr48eKvDHjf4ofs0eK/BniKx1bS734x372eo6ZdpPBOv/CF%2BKRuSRCVYZBGQe1e602mnZgmmFFFFIAooooAKKKKACiiigAormfhZ8afg58c9Eu/E3wT%2BLPhnxjpthqUmnX2oeFtet9Qgt7yMK0lvJJA7qkqh0LRkhgHUkcik8HfG34M/ETxfrvw9%2BH/xc8Ma7r/hacQ%2BJtD0fX7e6vNIkJYBLqGN2e3YlWAEgU5U%2BhoA4D9vD/kiGh/9lm%2BHH/qa6JXc/Gb4EfCD9oXwfJ4D%2BM/w/wBO8QaY7b44b2L57eTtLDIpDwyDtJGysOxrhv28P%2BSIaH/2Wb4cf%2BprolezVUJzpyUouzXVCaUlZrQ%2BbF%2BF/wC2p%2Byp%2B9%2BBnjT/AIXF4Lh%2B74I8eamLfXrKP%2B5Z6qRsuQO0d2ucKB51dh8G/wBub4EfFvxOPhnqd/qHgrxyoHn%2BA/HlidM1QE/88kkOy6U4yHgeRSOc17HXJfGL4DfBn9oLwwfB3xq%2BGmkeJdPBLRQ6pZq7QMf44pPvwv8A7aFWHrXZ9Zo1/wCPHX%2BaNk/mvhf/AJK/Mx9nOH8N6dnt8nuvxR1tFfOK/srftOfAX9/%2ByJ%2B03PfaTF/qvh/8XfN1axVegjt9QQi9tlA4UMZ1H93HFPH7eutfCY/Yf2zf2bvFfw5WPiTxVpkJ17w8w6BzeWamS3B64nhjwOp4JpfUpVNaElPyWkv/AAF6/c5D9so/xFy/l96/Wx9F1V1vQ9E8S6TcaB4j0e11Cwu4jHdWV7brLDMh6q6MCrA%2BhGKx/hn8XvhV8Z/D6%2BK/hJ8R9E8S6a2P9N0PU4rqNSf4WMbHa3%2BycEdxXRVySjOnKzTTXyf6Gqaauj5t1r/gmT8IfC%2Br3Hi/9kz4g%2BLfgfrU8hmkHw81MJpFzL2M%2Bk3CyWUij0WND/tVXHin/gqL8CD5Pij4b%2BBPjrosPyjUfCl%2BfDOulR1d7S7aSzlbH8Mc8WfQd/pqiutY%2BtJWrJVF/eV3/wCBK0vxZpzvrqfN%2Bk/8FTP2YNL1KHw5%2B0Bb%2BLfg5q877I7H4r%2BF59Khc9yl7h7N191nOfzr3vwb468EfEXQ4/E/w%2B8ZaVrumzf6nUNG1GK6gf6SRsyn8DV3VdI0rXtOm0fXNMt720uEKXFrdwrJHKp6hlYEMPY18jftSfswf8EoPgjNJ8RfiNa6P8KNelQyW2qfDvXrrw/qsh5%2BeODS3RpznPJjcZOTWtGjhcbUVOlCak9lFc/4aS/MyrV8Lh6bqVpKEVu20kvm2jov%2BCiXw11Dwha2X7dPgb4123g7xR8MdHuUtRrlmLnTNSt5jh7SSPG9ZJWIjV48sSwAGcMvsn7MfxL8e/GP4B%2BF/ih8Tvh8fC2t63pi3V7oZmL%2BRuY7G5AKh0CyBG%2BZA%2B1slSa%2BDvh7%2Byp%2B1R%2B2dq8uveGP2iPHcHwt8I6za6l8P4Pj9oKatLrt8i5aWSGL7JLJaLnCNM8pOe%2B6RV%2Bl/wDhP/8Agq18OefFP7PHwi%2BJVuOBL4K8bXeg3RHqYNQgmiz7efj3FevmOHhTwNLByqQlVg3q3yuEXqqd3o9W5SvJ8r91P4jw8qpPE4%2BtjaLcaM9Ende0krXq2a91WSjG1uZLmaty3%2BlaK%2Ba/%2BHg/jfwj/o/xr/4J8/HTw5Mn/Hxc6J4atvEVmg7kS6XczOQPXyxxU1h/wVp/4J/yXaaZ4n%2BPa%2BFbxztaz8b%2BHdR0R0b%2B6ft1vEvHsSPevD/s7HfZpt/4bS/9Jcj6Hkn2Po6ivPfBn7W/7KnxGCH4f/tMfD/XC/3V0nxjZXBPtiOUnPtXf29zb3kC3NpcJLG4ykkbhlYeoI61yzp1KbtOLXqmvzSJaa3H0UUVAgooooAKKKKACiiigAoqprGvaH4dtDqHiDWrSxgXrPeXKxIPxYgV5l42/bx/Yl%2BHIceN/wBrj4b6dIn3refxpZed%2BEYlLn8BWlOjWqu1OLfom/yTGk3sesUV82N/wVl/Yv1gm3%2BF3ibxZ4/uj/q7XwB8OtZ1Uyf7skNqYj/33SH9uH9ozxr8vwR/4JpfFS/H/P1471DS/DMH1xPcyT4/7Y7v9mun%2Bzsavihy/wCJqP8A6U1%2BRXJLsfSlFfNW/wD4Kz/En7tv8EfhZZT93fUvFGo24%2BgFlblv%2B%2BgfakP7A3xZ%2BIX7z9pH/goN8WfEytxLpXhC5tfCmnyL3Rk06MXDL25uCcdSaPqlKH8StFel5P8ABJfiHKluz6UEsbSNEsillALKDyM9M/lXi3wr8V/ED4XfHvxf8H/jR8WLzxDY32jQeKfCmtazaWlqILYSG1vbIGCKKMRwP9kcFgXIvPmZjXUfs%2BfsqfAP9ljSdR0f4FfD9NFTWLhJ9XuJNQuLu5vpUUqsk09zJJLKwBIyzHrWh4k/Z4%2BCXjP4p6d8a/Gfw203WPE%2BjWhttF1XVojcnTUJJY2ySlkt3bPzSRqrsAAzEAARGeHhKcdXFrR2V76W6u2t767CTirnzJ/wovxN4w8R%2BFPgvceANWvLCz8Sa/MfHlgUOm33hXVftNy/%2BkqSBdG5FjJ5e07pIQ%2BNrFh6T4M/Y28W%2BJ7rV9T/AGkvGenaley6Xoljo2oeEY57G4hm0x5ZYtVMjszR3bvIoZVJjCwqvzBnB%2BhenSitamY15K0dPz3u/S/ZaDc2c/8AC74Z%2BF/hB4JtfAXhAXbWltJNK8%2BoXr3NxczzSvNNPLLIS0kkksjuzHuxwAMAdBRXnnxr/ax/Zw/Z1jUfGX4xaJol1Lj7PpUlz5t/cZ6CK0iDTyk%2BiIeorljGtiKlopyk%2B2r/AAM5TjFXk7HodR3V1bWNtJe3txHDDEheWWVwqooGSxJ4AA7187t%2B1F%2B1X8cB9l/ZW/ZRu9I06XiPxv8AGOR9ItAOzxadHuvbhSORvEAPqOtOtv2B7n4rXMet/ts/HXXvijIriRfCsY/sjw1AwOVA0%2B2bNxtPG65klyOoFdH1SNLWvNR8l70vuTsvnL5GPtnL%2BHG/nsvx1fyRZ8U/8FAfB/iPXrn4efsieANU%2BMfia2kMV03hiVYtE06T/p71aT/R4%2B/yxmWTjGzNZ8H7HHxY/aJuI9e/b0%2BK8etadvEkPwq8EvNZeHYSDkC6kJFxqZBAP70pFkH91g19BeGPCvhjwToNt4V8GeHLDSNMsoxHZ6dplmkEECf3UjQBVHsBV%2Bn9bjR0w0eX%2B89ZfftH/t1X/vB7Jz/iO/lsv%2BD8/uPDPj94c8PeEPil%2BzP4Y8J6FZ6Zptj8YL2Gy0/T7ZIYLeMeCfFGEREAVVHoABXudeM/tQf8lv8A2cf%2ByzX3/qFeKK9mribbd2b7BRRRSAKKKKACiiigAooooA%2BVf2Fvil4ah%2BLPx206H4X/ABF0K08QfGW3vvDb638HvEOk2t1ZN4d0SxWaOS6sIoxGLixuUJyAgjDNhHRm4j9hT4f/ABB0v4w/Cnwxq3wo8UaHqPwn%2BGfjHQfiVr2s%2BGrqys9T1O/1nS5oWtbqaNYtTW5ezu77zrd5VjDjzCkkxWvuGigD54/4KF6b8V5/B/gzUfDnjTw9a%2BFofjD8PRr2jXvhie41C8c%2BM9G8tre8W9jjtgrbSwe2mLAEApkEbXjlP25/hl4x1LxZ8P5fC/xO8L3d288PhHUANF1bToyeIba7XdBcKo/57qjHpv71P%2B3h/wAkQ0P/ALLN8OP/AFNdEr2atKVT2b2TT6Nf8M18mY16PtopKTi1s07f5p%2BjTR4l4N/b5%2BBWp6/D4F%2BLB1b4Y%2BJ5jtTQPiNYHTTM3T9xcsTbXAJ4BjlYn0GcV7XDNDcQrcW8qvG6hkdGyGB6EEdRWb4x8EeDPiHoM3hXx94S0zW9MuBifTtXsY7mCT/eSQFT%2BVeLS/sE6H4AmfUv2UfjT4u%2BFc%2B4uuk6Ve/2jojOepbTrzfGoP8A0yMXsRW1sJV2bg/P3l9695fczmvmFDdKovL3Zfc7xfycT32ggEYIyD1FeAj4h/t9fCD938Qvgl4Z%2BKOlxddY%2BHuqf2ZqQQdWewvmMbuRziO4%2Bg7Vf8N/8FC/2ZL7V4vC3xE8S6j8OtclOBovxK0ebRZc%2BiyXAEEme2yRs9uooeDrtXguZf3Xf8Fr%2BA1mOFTtUbg%2B01y/i/dfykWPiV/wT%2B/ZW%2BJPiBvHMPw5PhbxQclPFvgO/m0TUlc/xmazaPzT/wBdA49uK50fA39vT4QjPwV/ay0rx3p0fEOgfGHw%2BDOE9BqenCOQt7yQSe%2Ba%2BgdK1bStd0%2BLVtE1O3vLWdN0FzazLJHIvqrKSCPpXnP7S37W/wAIv2WdEs7rx7d3l/rOrzCDw94T0G2%2B1apq8xIASCAEFuSAWJCgkDOSAd8NWzDEVI0IL2jeii1zfnqrf4kl1sViJYPDUXXqSUIrd3t%2BW9%2Bmjb6XOFH7Y3x/%2BG37n9o39hXxrZRLw2u/De6h8T2TAdZDHD5d3GvfBgJHv1rtfjX%2B2Z%2Bz7%2Bz94C03x58TPGL2Z1u0jn0PQVtHOq6j5igpHFZkCXcSwU7goRjhiteU/wBof8FMP2pfl0vTtF%2BAPhOf/l5vQur%2BI54z3EfENvkdmxIhPBOK7v4EfsD/AAU%2BBms3XxCW71jxV48vYyLn4geMr0ahqisVxuiaVSkOMnAVc44YsK76uGyvD2lipLmW8KUnK/k5O8IefK5vseZHG5ni/dwdNqL%2B3VXKl5xhpOXlzKC76Hivwy8Yf8FAf2/ta8S2d/4s/wCFF%2BBtC1s2D2%2BlaYT4lvVeGK5SKV5XZbN1gnhLMmGDORtPIHT/ALKHwT/Y6%2BHmr638QdJ%2BBfiFrjR7i/e9%2BLvxIltr8XrWUrw3Fyl008hgw0T5YxwZCMccV698E/gd8Tvgpba9BJ8WrTxU2u%2BILvWLm61jw8lrdPPNEqhXktnWIgNHGMiEEINuOAa8q8Y/sw/FyXw54%2B1zSvhZ4S8Pp4g0ext73wV4F1Iyw67MmoC4vb12lt7VPtElu0sKIy/MzNvlwwI1lmKq89ClJUqTskoe7fa/M9Jze/xSt3SKhlVGE416ydWqus/et/hWsYf9uxv5s9%2B8F/G/4UfEHwrdeNvC3jezk0uxujb311dbrUW0vy4WRZwjRkh0I3Abg6kZDAnqI5I5o1mhkV0dQVZTkEHoQa%2BQfHNpLa/ETTPjT%2B0R8P77TPBfiLxXqGpah4e1HSxesZLbTPsOmx3cEIlVpJlknkAbcqtBbqW3bQPfP2V/DPifwH%2Bzn4W8PeNrF7S%2Bs9K3S6eQS1jGzs8drgZP7qNkix/0zryMThadKmpxe78n6q63ae/TVHrUqspy5Wv6/wCCeiVDf6fYapaPYanYw3MEgxJDPEHRh6EHg14HF/wVG/YotJFtfGXxQ1Dwnc5w9t4y8IappRQ%2Bha5tkT8mNdv4T/bO/ZD8dhR4O/ai%2BH2ou/SG18YWTSD2KeZuB9iKzlgsbTV5U5L5P80n%2BZSr0ZPSS%2B9EPjP9iH9jP4iF38dfsn/DfVpH%2B9PfeCrGSXPqHMW4H3Brgbj/AIJG/wDBO15nudK/ZsstGkc5L%2BGtd1HSjn2%2Bx3EWPwr6F0nW9F161F7oer2t7Cek1pcLIp/FSRVqnDG46krRqyX/AG9L8r/obqcraM%2Bbf%2BHXPwM03jwN8Zfjd4YUfdTQvjbrqKv0Ety/60f8O5b%2B240f/goF%2B0lZgdB/wsaC5x/4FWcufxr6Soqv7Rx3Wd/VRf5xY%2Befc%2Bbf%2BGDPjNacaR/wU1%2BOyAdPts%2BhXB/NtMGaP%2BGJv2m04g/4KifFoD/ppoPh5j%2Bf9nV9JUUf2hiu6/8AAYf/ACAc8v6t/kfNv/DEf7SkvF3/AMFQvi6w7%2BTovh6M/mNOo/4YC%2BKV6Ma3/wAFL/2gZPUWOq6JbZ/750s4r6Soo/tDF9Gv/AYf/IBzy/q3%2BR82n/gm9Bdf8hv9uz9pK9B%2B8P8Ahaz2uf8AwEhix%2BGKP%2BHVP7Luqf8AI%2BeJfir4qz97/hIvjP4hlDfUJeIDX0lRR/aOO6VGvSy/KKDnn3PnfR/%2BCTf/AATl0e7F%2B37JXhfUpx/y28QJNqbH6m7kkz%2BNem%2BCf2XP2ZvhoyN8Of2dvAugGP8A1baL4Ss7Ur9DFEtd3WX4j8c%2BCfB8Rn8W%2BMNK0tAMl9R1COAY%2BrsKieLxtfSVSUvK8n%2BF/wBCXOVtWagAUBVAAA4AoryLxd%2B39%2BxB4GDDxL%2B1p8PYZE%2B/bweK7WeUf9s4nZ/0rmD/AMFOf2W9Y/d/DIeOfHM38MPgv4a6xfbvpILYRn8HojgcbNXVOVvRpfe7L8TF16CdnJff/wAOfQlFfPf/AA2R%2B0B4t4%2BEf/BO34mXg/5%2BPGeo6X4fi%2BuJrmSXH/bPPtSHV/8AgqJ46%2Bew8G/Bn4e20vBGp6tqPiG8hHrthjtISR/vke1V9Rqx%2BOUY%2Bso/kuZi9vB/Cm/RP9bH0LVLxB4k8O%2BE9Lk1zxVr1lpllCMzXmoXSQxIPd3IA/E14P8A8Mi/tNeOOPjV/wAFCvG0sB5Nh8PNA0/w7GD3HmhJ7jH/AG1B9CKuaB/wTQ/Y20/VI/EXjH4WS%2BONWQ5bVviNrV3r8zt/eIvpZIwf91AKPY4OHx1b/wCGL/OXKvwDnrS2jb1f%2BVxfEv8AwUq/Y/0vVZPDPgj4kT%2BPtaThdE%2BGujXOvzu393dZI8an/edRWef2hf24visfK%2BB/7GEPhSyl/wBT4g%2BMPiaO0Kj1OnWHnzk%2BzvH%2BHb3nw34W8M%2BDtJj0Hwh4csNKsYRiKy02zSCJPoiAAfgKv0/b4Sn/AA6V/OTv%2BEeVfiw5Ksvilb0X6u7PnY/siftG/Ff99%2B03%2B2x4kltJPmk8L/C2xTw3YjP3o2uFaW9mTHH%2BuTPp1z6F8Ff2Q/2aP2eJGvPg/wDBrRdIv5c/aNaNubjUJyepku5i88mefvOep9a9Hrzy/wDjhr%2BifFLTvBHiT4T6jp%2Bj6zrEmlaP4hn1G2b7Vdrby3H/AB7oxdYmSCXa5O4lDlFGDSeJxdeLgnaPZWivuVr/ADuRJYeg1KW7dru7/HW34HodZHjTx14V%2BH3hu78W%2BLNU%2Bz2NjtFw8UEkz7mYKqLHErO7sWUKiqWYsAAc14d8R/iz8TfC3xF8XeM4/iFNBp3g/wAR6TZXPhOe2gNpLpN5Fbo93vEYm8xZp/M3%2BZtVYWTb1J8s8M/D570WPwf%2BE9nDp/jm00KeTxbp0kQiU6zpN4l1p2o3eAMvc3Bz9qwTKpf5mCYF08EmuactP6evbda6rU4q2ZuMnGnDXVa9XdpWS31T0unZH2H4F8feE/iT4ej8UeDNXF3ZvI0bExPHJFIpw8UkbgPFIp4KOAw7ivNPid%2B1Z4i0bxxf/CX4H/s8eLvHnibTmRL6RLX%2BzNHsndFkUTajdBYydjq2IVlODjGeK2fgJ4f8aW/ifxt448UeCLvwzB4j1m3ubLRb69t5pA0drHFLcMbeSRF8x14G7cVjQsqsSo9KrB%2Byo1Xdcy9fztvbbRo6l9YxGHVpcj6u2ttVopbX0eqdux4D8Ybjx5dePP2Ybn4n6Zpdnr7/ABevTqlrol3JPaxS/wDCFeKfljkkRGYYxyVHOa9%2Brxn9qD/kt/7OP/ZZr7/1CvFFezVg3d3OuK5YpXuFFFFIYUUUUAFFFFABRRRQAUUUUAeM/t4f8kQ0P/ss3w4/9TXRKm8ZWv7bHgjxXqHiP4f6n4N8d%2BH7i6ea38MaxDJo%2BoWcRPEEN3H5sUuB/FLGpPdvWH9vD/kiGh/9lm%2BHH/qa6JXskcsUoJikVtrFTtOcEdR9auE%2BR7J%2BpzYrDLExS55Qa1Ti7P8AJpryaaPEYf26fA/hGVdO/aN%2BGvi74Y3W4I114k0gz6Y7%2BiahaebAR7uyfTpXrXg3x54H%2BImjp4h8AeMdL1ywk%2B5e6RqEdzEf%2BBxsRWpNDFcRNBPEro6lXR1yGB6gg9RXkvjH9hr9mfxXrD%2BKtL%2BH/wDwi2utkrr/AIHvptGvFb%2B8XtGQOf8AfDVd6Et04/ivxs/xZxcmc4f4ZQqr%2B8vZy%2B%2BPNB/OMT1yqPiPwv4Z8Y6RLoHi7w7Y6rYTjE1lqVok8Mg/2kcFT%2BIrxz/hSH7Xfw4%2Bb4RftXReIrOP/U6L8UfDyXZI9DfWZgm/Flf8e/kN7%2B03%2B1/%2B1d4s1b9lD4I6b4d8L6tod61r8Rvij4f1SXUNP0mHAHk2LSRRM16x8xSnPlbPvhtzRdeEy%2Bpi5t05pRjrKTbSiu70v5JK7bskm9sK%2BdRoJU6%2BHmpy0jG0Zc77KUZOPm%2BZRSV27Lflf2nPAPwG8NfFOT4Cf8E9fh/rOn/GW8/eX8nw48UXOkaT4diOM3GpLC/2YAZB8ny9zcA43Ir9Z8Lf%2BCfX7V/wO%2BIMv7Q2i/tAeDPiD8QtSsUh1S9%2BJHhm7cwALhorS6huS9vHyV4h5HUYO0dlp37P/gf9k7SNE%2BGX7LviTW4vGF3ewS31qhiun1rdOn2m/wBWeSMkIIzKQ%2B6PBO2IFiFPpXxq%2BM3jXwH8R/C3gfwra6HHHrUM73F74iW7jt2kWSGOK2S4hjdIpXMjECQchDgZr06%2BaThS%2Br4N3g0%2BaU17811v1jDtBP8AxOT28elgsKqs8Tjo8soSjyxpv3IOW1rWTqK/vSkla/uqKavyo/aQ/a38A/L8YP2HdS1K3i4l1b4ZeKrTVVf/AGltbn7NOB7AMf5VLaf8FH/2WLO5TTPiX4j13wBfuwU2PxB8J32kFT7yzxCE/g5rtU/aF0Q/EVPAbeEtVa2OsjRpfEUXktZJqf2YXP2bmQSn92ceYI9m/wCQkNxWr4J%2BLfwt%2BML32i%2BFNWGprbwpJcR3GmzRxXEEhZUmiMyKlxCxRwJIy6Haea8hui1edK3nFtfg%2BZHu060nPko4lN3atOKbuuzXI362a31di14F%2BL/wm%2BKFuLv4afE/w94hiK7hJoetQXYx65idq6KvJ/HX7Cn7HPxIuDfeK/2bfCL3Zbcb%2Bx0eOzuSfXzrcJJn33Vzv/Dv7wNoHy/Cf4%2BfF7wVEv8AqrTRPiJdXNsh/wCuN/8AaEx%2BFRyYOW02vWN/xi/0Or2mYw%2BKnGX%2BGTX4Sj%2Bp71RXgw%2BAP7bHhnnwX%2B3gupxR/wCqtPGvw3sbrcPRprN7Z/xwTR9v/wCCmPhz57nw58FPFcSdVs9S1XR5pB7CSO5QH/gWKPq0X8NSL%2BbX5r9Q%2Buzj8dGa9Epf%2Bky/Q93lijmjaGaNXRhhlYZBHoRXEeLP2Yv2a/HpY%2BOf2e/A%2Bsl/vnVfCdncE/jJGa8//wCGiv2zNF58Vf8ABPu%2BuY1/1k3hb4k6XefiEuPszn6Yo/4bm1DTvk8WfsW/HPTWX/WND4Ij1BB9DZXExI/Crhh8XB3pv/wGS/SSE8wwTXv3X%2BKEl%2BcGGrf8EwP2AdWuTe/8MteGbGY9JdEil09h9DavHj8Kq/8ADsr9mXTufBmp/Ebw2R0Og/FrXodv0DXbAfgKt/8ADx/9mew%2BTxevjnw6/ePXvhhrcG36kWjKPxNSWv8AwUv/AGEbqYW8v7S3h%2B0kP/LPU/OtGH1E0akV0c%2Bdpbzf3v8A%2BSMvreTX%2BOC%2BaX58pQH/AAT6tLXjRf2zv2grID7oHxQlucf%2BBUUv60f8MP8AxOsf%2BQH/AMFEPjhF6C%2Bv9Husf996cK6/Tf25/wBi3VwPsP7Wfw4JPRZPGllGx/B5Qa27L9p/9mrUgDp37Q3gafPTyfFtm2fylqHiMzXxJ/OC/WmbRqZdL4Zx%2BU1/8mebf8Mj/tP2/Gnf8FJ/iKoHT7T4W8PzfzsRSf8ADLP7Yy8Rf8FMvGAH%2B38O/Djf%2B2deuQfG34MXQza/F3wxIP8Apnr9sf5PVhfit8LnGV%2BJOgH6axB/8VUfW8Yt4r/wCP8A8gaKOFe0v/Jv/tjxv/hlb9sGTi4/4KY%2BMyP%2Bmfw/8Op/Kzpf%2BGP/ANpC641T/gpH8TnB6/ZNB0GD%2BVgcV7E/xa%2BFcQzJ8TPD6j1bWYB/7PVS5%2BO/wPswTefGXwpEB1MniK2X%2Bb0LFY17RX/gEf8A5AGsKt5f%2BTf/AGx5P/wwr44vPm1v/goN8eZz3W11/S7VT/3604EfnR/w7x8NXnHiD9rD4%2B6mp%2B9HP8W72FG%2Bq23lCvRL79q79lvSwTqX7SfgC3A6%2Bf4xsUx%2BctYWqft9fsRaQCbv9rP4etjqLbxZazH/AMhu1Wq%2BaS%2BFP5QX6UzKVXLYfFUj85r/AOTOY/4dffsf33z%2BK/Dfi3xBIfvP4g%2BJeu3W76q15sP/AHzWp4c/4Jr/ALA3heUTad%2ByP4FncHO/VNBjvmJ9SbgPk1Xf/gpp%2BwwXMdh%2B0BYaiwONuj6Xe3p/AQQvmm/8PE/gdqXHgjwL8UfExP3f7C%2BFGsvu%2BhktkFW5Z01ZuaXq1%2BsTJYvJ09JwfpZ/kpHqfhH4K/BvwAVPgP4S%2BGdEKfcOkaDb2236eWgxXTV4Mf21PHWsfuvBH7Cfxnv5D9xtU0aw0uI/Vrq8Vh%2BK0f8AC8P27td/deHv2F9L0jf9248VfFS0XZ7tHZQXGfoGrmlhsTJ3m185L/5Js1WYYRK0FJ%2BkJv8A9tSPeaK8G/s3/gph4l/dXfij4LeE4n6vY6ZqmsTxj2MklshP1Wk/4Ze/ak8UfuviT/wUD8VeQ337fwT4R0vR8f7sjx3Eo/77NT9Xpr4qsV6Xf5L9R/XKsvgoTfryx/OV/wAD3quE%2BIn7UP7N3wkEg%2BJnx48I6HJHndbaj4gt45ifQRl97H2AJrgP%2BHc/wC1z5/ix4k%2BIHj5/%2Bpz%2BIepXMf8A35jljhx7bMe1d38O/wBlP9mb4SmOT4a/AHwfos0eNt1YeHrdJ8juZdm9j7kmjlwcd5Sl6JL82/yDnzKe0Ix9ZOT%2B6KS/E4M/8FE/gx4j%2BT4K%2BAfiL8R26CTwZ4EvHt89s3NysMGP9rzMe9H/AAtv9vr4hfu/h/8Asp%2BGPBVu3MepfEfxoLiTb6m001JMH2My%2BhxXvdFHtqEfgpr/ALebf4e6g%2BrYup/ErP0ilH8XzM4b4I%2BFvj74es9Quvj78WdF8S3t7LG9nbaB4ZOnW2mqA2%2BNC00skwYkHc5BG3pzWV8TvhX8X/GPxu8N%2BOvCvjLw5pui%2BH9LuEjj1LRp7y6F3PIiyyxhZ4o1P2dDGrtv2%2BbIdhyK7Dxz8VPhj8MbP%2B0PiR8RdD0CDbuEus6tDaqR7GRhmvL5/wBv34FaxK1n8ItN8W/EW5RirReBPCd1eRA%2B9yypbge5kxSg68pupGO/lp28l%2BJhicTleFgqFesk007Od5uzvsuab/8AATu9Y%2BAvw38Waxpfifx3ow1vV9Il8y01S8xHIcSCVFdYAiSojqrKrqwUqD15rs8AdB1rw8/E39uT4h/J4B/Zz8N%2BCLVuU1H4h%2BJvtU5U9/senhsN7NOvvikP7LPxn8f/ALz49ftf%2BK76FuW0XwLbReHrPB6ozxb7mRe3Mwz%2BlKUG0vaTWnz/AAWn4mcMe5N/VMNOV%2BrSpp%2BrnaT/APAGeh/FL4%2B/BP4J2f234s/FPQ9ABXdHDqOook0v/XOLO%2BQ%2ByqTXnX/DX3jb4jfuP2aP2ZfFniiJ/wDVeIfEkX9gaSVPSRZLtfPmX2jhOfX07D4Xfsnfs5fBm8/tb4efCHR7TUi259ZuYDdX7t3LXU5eYn6vXodTzUI7Jv10/Bf5l%2BxzjEfxKsaS7QXNL/wOei%2BUDwT40SeN5fiD%2BzHJ8SLXS4Ndb4v3p1OLRJpJLRJf%2BEK8U5ETSqrsuMcsAa97rxn9qD/kt/7OP/ZZr7/1CvFFezVk3d3PUhHkgo3bt1e79dtfkFFFFIoKKKKACiiigAooooA%2BXfgN%2B2N8bfiD8YvC0njbTPCy%2BA/iZrXi3TPBVnpem3Meq6XJot3LFDJeXD3LxXS3dvbXMxWOGA27eXHmfJkFz4NftT/F3xN%2B2F4r%2BCnxe8T6J4b0y38S6hp/gPw3e/CfW7G68RWlvawzfabbXbi7%2BwXrjdOzwW8BdUhYnaFZq6Pwd%2BwZ4G8BfEuT4keF/i743gFre6vd%2BFdAkn06TT/DE%2Bq3yXupvZI9kZCbiRXX/SHn8mOeVLfyFbA35f2WoNa%2BOej/ABu8ffG/xr4lXwxq95qng7wnqp0yPS9CvLm0nsnmh%2By2UNzMy2t1dQp9pnmCrcPgbtrKAcZ/wUL%2BLnwo8NeD/Bnwo8R/E7w9p/inxB8Yfh7LoPhq91qCLUNSSPxnozSNb27OJJgqqxYopACknGDXa%2BL/ANkP4U%2BIfEt7468L3/iHwf4g1Cdpr7WvB%2BvzWUlxIeS0keWhlJPXfGc96y/28P8AkiGh/wDZZvhx/wCproldN4i%2BK3xP8H67dxaz8A9V1HRo52FpqvhrUIbuV48/Kz2zGORTjqF3/jWVavToJOd7eSb%2B%2BydvuPNzKll1WlFYynzRT0fLJ8rtvePvR06prtc5z/hC/wBtD4fc%2BEvi94Y8d2a9LPxlo7afdhR/CLqyyjN7tD9fWj/hqHx94O/d/Gr9lrxnoyr9/UvDaR67ZKvdi1qfOUf70I966LRP2o/gdq96ukX/AI2j0TUDw2neJbaTTplPpi4VAT9Ca7W58QaFZ6HN4mudYtk063tnuJ74zr5SRKpZnL5wFABJPTAoo16GI/hSUvR3/Df8DgoYanKLlgMbJJdHKNWK9VP31/4Gj5M/a8/bX8L/ABW0Pwx%2BzX%2Byx8YobTxV8R/EC6XqGrIr21x4f0xV33lyyzKjxSeX8qAhWOW2kMoNfRvwE%2BBHwy/Zv%2BF%2Bm/Cf4TaEllpNhHncSGlu5SBvuJnx%2B8kcjJb6AAAAD5w/ZP8Ahj4a/bc%2BJXjX9uT42eAbHVfD/iEf8I/8MdG13TllWDRLWVt13skB2yTzBmB4ZcOAdrCvYG/Yj%2BE%2BiEy/CnxP4y8CPnO3wl4ruIoCf%2BveYyQ49tmK9/M5PB0oZfB/BrUt1qPdPvyK0F2fP11POy2Wc1qssylThV5tIWk6bUE3rGMlOK9o/ffvJtct3ayOyvvgT8Mbvx5cfFG20O4sPEN5GiX2q6TqlxaSXaomxBMIZFWcKvCiQMBgEcgVm/Eb4F6l8SUh0HVvitrK%2BHHFqNU0BrW1dbzyHSQfvzF5qF2jXf8AMQRuAC5zXP8A/CsP2wfCHz%2BDP2l9G8RxJxHZeOPCCBsehuLGSIk%2B5jP40f8AC0f2wPCn7rxf%2BzDpHiBE5kvfBXjSMEj1EF9HCfw3k15CqTTTvsd88VhFCUMRhKlNSd3aDlFvrd0pSvfreOvW5ma/%2Bzf8VdVuNd0u38U6TDpZ1HWda0C5TzDdyaleRsLfz12qiR27O2CrMZAsedpU7tj4BeAfFlr4mtvFniTwJc%2BFrPQvBdl4Z0XRLu8t5pSkRDzTM1vI8ezKxInzZwjEhd2Ki/4bP8GaL/yUv4S/Efwkq/6y41jwVcTQKf8ArrZiZD9c1s%2BFv2wP2XPGUgg0L49eFzMTgW15q0drNn08uYo%2BfbFW685R5WY4etw4sVGUMSlL%2BWUlFvVtaTUJWTbsl872KvxG%2BPnxV%2BHPjK80sfsm%2BMfEXh%2BHy/sniHwtf6fctcZjVn/0WS4jlTaxZehztyOtYf8Aw378EdH%2BX4k%2BGPH/AIMb/qaPh5qUKD/tpHDJHj33Y969m03VdL1m1W/0fUre7gf7s1tMsiH6FSRVikp0rWcPub/4J60sPmLk50cTo9UpQjJeicZRdu2/qzy7wt%2B23%2ByD4yYR6D%2B0p4MaRjhYLrX4LeUn02TMrZ/CvQtC8U%2BGPFEH2rw14jsNRixnzLG8SZcfVCRVLxT8MPhr44DL41%2BHmh6wGGGGqaTDcZ%2BvmKa89139gT9jDxBP9quv2bfCtrLnIl0nThYsD6g2xQj8Kf8As77r7n/kTfPIdKU/nUg/ymj16ivEh%2BwF8DdM58D%2BJfiF4YPb/hH/AIl6vEB9A9w4H0xij/hjrxTp3z%2BF/wBtH4x2bD7q3mv2d8g%2BoubR2P8A31RyUXtP70/0bD61m0fiwqf%2BGrH/ANujFnttRXdlZ38Rt760imjPVJYww/I14v8A8M/ftZ2Hy6N%2B3rqzoPurrHw%2B0m4x9TGkRP50f8Kx/by0zmw/at8FanjoNT%2BGDxZ%2Bphv/AOlHsodJr8f8g/tHFL4sJU%2BXs3%2BVRHpOpfBz4RaySdX%2BFfhu6J6/adDt3z/30hrEvf2Uf2W9SJOo/s2eALgnr53g6xfP5xVyP9l/8FGbT5YvGnwXvgOjTeHdWgY/983bj9KPP/4KOQ/8wv4JXH/b/rEOf/IT1ovax2qr/wACZjLG0JfHhKn/AIKi/wD25m5P%2BxB%2BxhcndN%2ByR8MyT1I8C6eD%2BkNV2/YM/Ylc5P7JPw5/DwdZj%2BUdZf8Abf8AwUXh/wBZ8OPg1N/1y8Xaqv8A6FY0f8JT/wAFDF4Pwb%2BE7e6%2BONQH87Cr58Uv%2BX3/AJO/8zN4jLnvg5/%2BCDVj/YP/AGJozlf2Sfhwf97wZZH%2BcdW7b9in9jezO61/ZM%2BGkZH8S%2BBNPB/Pya5//hJ/%2BChz8L8H/hKnu/jfUT/Kwo/tb/gozN9zwH8FoP8Arp4p1Zz%2BlkP50OeKe9b/AMnf%2BYLEZetsHP8A8EI7Sx/Zh/Zq0sg6b%2Bzz4Gt8dPI8JWaY/KKt3TPhj8NtEIOjfD3Q7QjobXSYY8f98qK8u3f8FHZv%2BWPwStv%2B2usT4/8AHUo/sH/gonf/AC3PxM%2BD2ng/xWfhHU52H/fy9UH8qhqpL4qi/wDAmzWONox%2BDCVP/BcV/wC3o9sSNIkEcaBVAwFUYApa8S/4VH%2B3NqHzX/7Y/hqwz1TS/hWjY%2BjTXrfyo/4Zw/aZ1P5PEv7e3ioxnqmjeD9Gs/yY28jD8zWfsodZr8f8jX%2B0MW/hwlT5umvzmz22ivEj%2BxbcXvPiT9rv41agW%2B8q%2BNkslP0FnBEQPxqnF%2Bwt%2ByNq%2Bo3OmeKJdb8T39mge%2Bi1/wCI2qXkkSnODJG11tAODyy84o5KC3n9y/zZLxeauyWHjG/81WP/ALbBnrvib4m/DfwUrN4y%2BIOh6SF%2B8dT1aGDH13sK88179vv9jTw9c/Yrj9ovw1ez5wINEvDqLk%2BgW1EhJ9hUHwu/ZY/YMvrA6z8LPgp8ONWggnMRv7TS7S/2SL1XzWDkMM%2Buea9X0Hwr4X8K232Pwv4bsNNhxjyrCzSFfyQAUf7Ou7%2B5f5ihPOcRBShKiovZrnn%2BN4xZ5B/w3V4J1nn4b/A/4r%2BLUb/V3Gj/AA9uoIW/7a3ogQfiaP8AheX7Yfij5fBH7FY0uKT/AFV7428e2dttHq0Noty/4ZBr26s3xF4x8IeELf7X4s8VabpcWM%2BbqN9HAuPq5Ao9pSW0Pvbf%2BQ54XHcvNXxbiv7sacF98ud/ieRf8Ih/wUD8YjZr3xm%2BHHgqI848MeFbnVZx7eZeTRp%2BPlfgaP8AhjLVPFH7z4xftV/FHxOX/wCPiyttfTRrOUenk6dHCcexc1t63%2B27%2Bylol3/Z4%2BNukalc9rbw%2BZNTkY%2BgW0WQmqX/AA1rf6/%2B7%2BGf7M/xM15n/wBRcz%2BH10u2f382%2BkiOPcKaPb1F8Nl6Jf8ABZ5UqvDTly1MQ6z7e0nV/wDJad1%2BBoeB/wBij9lD4d3n9qeGvgN4ea%2B3bv7S1Sz%2B33W718%2B6MkmffdXp8MMNvEsFvEqIihURFwFA6AAdK8g/4S79uDxb/wAgH4OeBvCEX/PTxN4nm1KbHr5VnEiZ9vN/Gk/4UR%2B0Z4t/5KT%2B13qlrA/Mlh4G8O2umBfYTzCeXHuCKzlOc3eTb9Tsw%2BLo0IcmAwU7eUI0o/fNxf8A5K2euahqWnaRZyajqt/Da28S5lnuJQiIPUsSAK8x8Q/tqfs2aJqLaFpfxHi8RamOF0rwhaTatOzf3cWiyBT/ALxFUrD9i79mhdZik8caNdeMdXCmRZvHGv3GqyuBwW8qeRo8fRAK7r4c6x8KCtz4U%2BGEWl2senNiax0yyFvGg3FdyqFVWXcrLuXIyCM1k6kFJRbV2aOtnVaSi3So32u3Ul9y9nC/3nB/8L0/aL8dDZ8Jv2Vr%2Bwgk4j1b4iaxFpiIfU20PnTkexVD/Kg/Bb9pr4gfP8WP2mm0W1k/1mj/AA30dLLHt9suTLMfqoT/AA9V1/xN4b8K2R1LxR4gsdNth1uL%2B7SFB/wJyBXCXP7Vnwou53sfAf8AbHi%2B6RsNB4T0aa8UfWUAQge5esquKw1B2qTSfa%2Bv3av8DCvhcJTdswxcpt/Z5lBP0hStJ/fI5D44eFrPwV8R/wBmXwpp%2BoX93DY/GC9jS51S%2Be5uJP8AiivFB3SSyEs7HPUmveK8L%2BPerXuu/FD9mjWNR0C60ue4%2BMN88mn3rIZYD/whXij5W2My5%2BhNe6VvGSlFNdT36SpxpRVNWjZW32tpvrt317hRRRTNAooooAKKKKACiiigAooooA8Z/bw/5Ihof/ZZvhx/6muiV6lZeN/B2o6rNoVj4p0%2BW%2Bt5TFPZpdp5qODggpnP6V5b%2B3h/yRDQ/wDss3w4/wDU10SvTfEvw78CeMAf%2BEo8IadfMR/rbi0UuPo%2BNw/A1xY3%2B0VBPB8jd9VPmSa8nC7Tv1aa8iZc3Qu634e0DxNZNpniPQ7PULZvvW99bJKh%2BqsCK%2BHv2lvA/wAOf2kPjBJ%2Bxf8AsfeGZdNmW7jHxg8Y%2BHb%2BW207RdNJIlsfLRhDNdSgFPL2kLgqf%2BWhj6T9pjXPFfiH41W37Gf7HHxE1bw3q5sPtvxG8UDWZpbLwppjgBVVHY4u5Qw2KGUqCp4Db4/XvgD%2BzT4k/ZQ%2BHVt8Nvghe%2BHL7So3aed9VsZILu9nbBeeaeNn82RuPmK8AAABQAN6WM/saFPF5hgubE/FThTcKrhH7NaSvTmouSfs48rbceaXupKXzGOowz2u6CpL2cHadSybbVr04PR%2BU5J%2B6m4pczbjo%2BF/gN8WvhL4bsPCPwd%2BOSjRtIs47XS9E8TeHYLiKGGNQqRiW38lwAoA79Kv/wDCZftReG/l1/4NaB4hQdbjwz4kNu%2BP%2BuV2ijPt5la3/CxviLpH/I0/BXUWQcGfQtQhvAfcIxjf9KWP4/fDWFxBr9/e6LMTgxa3pc9tj/gTpt/WvnHneSKTc8VOjJ/8/eeGr/6/Q5f/ACc9OOBoUklRqzppbLmbS%2BU1JW9GjI/4ad0LSePH3wv8b%2BHAvElxfeGpLiBT/wBdbXzVx78Vq%2BHP2kfgJ4rcQ6L8XNBaYnAt7jUEglz6eXKVb9K6TRfGXhHxIAfD3inTr7PT7HepJ/6CTTPEfgTwR4wjMXi3wdpWqKRgrqOnxzjH/A1NevRniK1NToVoVI97K3/gUJNGip5pBe5VhNf3otfjCX6Gja3drewLdWVzHNE4yskThlP0I61leKfh18PvHEZh8a%2BBNG1hCMFdU0uK4BHpiRTXI3X7JXwBedrzSfAp0edjkT6BqVxYMp9QIJFH5io/%2BGedd0r954P/AGiPHtgy/cjvdTh1CIf8BuYnY/8AfVa%2B1x0fipJ/4ZL8pJfmTUnjpQ5a2HjNeU4tfdOKKOpfsMfsoX921/afBqw0q4b/AJb%2BHrmfTWH0NrJHioP%2BGPrHTP8AkS/2iPitoar/AKqCDxm93EnsEvEmGPatX/hCP2odG%2BfSPjroOr46Ra74P8vP1e2nT9FFH9tftbaR8974D8C60o7adr11Zu34SwOB/wB9Gj6418dKa%2BV//SZP8jy3gMmTvLASg%2B8YW/GjUj%2BRlf8ACkv2o9J%2BXw3%2B2bdTxr9yLxF4FsLrj0LweQx%2BuaP7M/bz0j93beLPhTraL0e80fUbCRvqY5plH4LWr/wuD416d83iD9lvWNg%2B8%2Bj%2BIrC7/JWkjY/lS/8ADStvbf8AIa%2BB3xHsQPvM/hRp1X8bd5BR/aGFXxNr1jJf%2B2i9llMPhr1qf/b9Zf8ApcJoyf8AhPv22NF%2BXVP2dPBms46vovxAkgz9BcWY/Uij/hfn7RWn/Nr/AOxP4iCDq%2Bk%2BLNKuvyBmjY/kK1v%2BGt/gbB8ur65qumv3TU/DF/Bj6loMfrVmx/au/Zu1A7YfjT4fQ%2BlzfrDj6%2BZjFNZhgG7e1j/4El%2BbQ1PDXtTzNrylKi//AEqEWYH/AA1lq9r8usfsm/Fy2I%2B8YvDdtcr%2BBguXJ/Kl/wCGzvBNv/yGvhB8U9OHc3nw21HA/FI2B/Cu3sfjd8GNTwdO%2BLvhi4z08nX7dv5PWtaeM/B9/g2PivTZs9PKvo2z%2BRreNehP4Zp%2BjT/JnVCGPn/Dx8Zf9w6T/wDSaiPMv%2BG6f2dYeNT1bxLYt3W88A6wmPx%2BykUf8N6fsoL/AK/4ptD/ANfOgX8X/ocAr12KeGdd8EyuPVGBp1am3sM96Yim/wDuE/0qnj//AA31%2Bx8Pv/HXSk/66wzr/OMUo/b5/Y4P/NwWgfjK4/8AZa9fpCqnqAfrQHsc/wD%2Bf1L/AMFz/wDlp5Cf2%2Bv2OB0/aB0E%2ByySH%2BS0f8N8fshH/V/G7TpP%2BuVpcP8A%2BgxmvXwAOgooD2Of/wDP6l/4Ln/8tPIP%2BG8/2Vm/1HxIup/%2BvbwxqUv/AKBbmj/huT4DT/8AIIXxfqB7Cy%2BHurtn/vq2Fev1FcX1laDN1eRRD1kkC/zobS3B0M9triaa9KT/AFqnN/Cz4taN8W9OutU0Twx4j02K1mEZHiPw9cae0uRndGs6qXX3HGeK4j45WV74X%2BJXhr4iaRqUkMI1u0h1jy/E10Z5EkbyVgisCTbsjbgXYbX%2BUkAnmvSbz4geA9Pz9v8AG2kQY6%2BdqUS4/Nq5PV/iH%2BypB4lj8aa3418Af21AgSHVJ9QsjdoozhVkJ3gDJ4B7n1rGWIw8Piml6tL9TPGxjVwUaVWvDnTT5m1DZ3ukpP0tez1u1c8z%2BO95oZ8fa3r19c2kviCS00iX4Y3SOhmnZLj/AEm3s27uzHDqhyUk%2Bb5RxQ1DwZe694ou/h/o3h6dPFL3XiSLX7z7A0aXFldxM8cjzEBXSRvKRBklTkAAKceqt%2B1d%2BzJpSrZWvxY0VhGu2OHTy02B6ARKf0pP%2BGsPhHdfLoEXiXV27Lpng7UJM/QmEA/nWLzHAf8AP2Pyaf5XPFrYPKa1eU54uHvO7Ss3rq9U5Pm%2BypWuoe60yj8AYNY1Hxjqfih/CWp6Lav4e0uzvYNT02W1M1/FGVk2rIq%2BYI1Cx%2BauUYY2MwGa3/in8KPG3xF1a2m0T4%2BeJvCmnxW3l3Fh4dt7MNO%2B4nzPOmgkdTggYHHGcZzWd/w0XqF58uhfs8/Ea7Y/dM2hR2qn6m4mQj8qT/haP7Qmof8AIH/ZhkgVvuyaz4wtIce5WESn8KX1/DP4W36Rk/8A21Hp0pZasF9WlKdRXu3GNRXd7/YUbLyUrPW%2B5lf8MW%2BAdU%2BXx58UviT4nQ/eh1nx9erEf%2BAWzRKPwArR8PfsW/speGJ/ten/AAE8Nzz5z9o1SwF7Jn133G9s%2B%2Bc1J9o/a91T5otN%2BHmjI3QTXN7fSL%2BCrCpP40f8K1/aM1X5tc/aShslb78OgeELePA9A9w8p/HAo%2Btzl8FGb%2BSj/wClS/QzhgcpUuanl7k%2B8oRv99Wc2d/onh3w/wCGrQWHhzQrPT4B0hsrVIkH4KAKt7l3bNw3EZAzzivNf%2BGabLUf%2BRv%2BMvxA1lW/1kM3iZ7aJ/bZarEMVv8Aw/8Agb8K/hdqU2teB/CSWl7cweTcXslzLPNJHuDbWkldmIyAevarhUxc5rmpqK85Xf3JW/E9ihUxrko%2BxjCH%2BNNpeSjG34opfGvxB8QPCGlR%2BJ/CF4zw25HnafDohuTIRlmaWQPmKIIpyVQtnGCchar/ABP0LxD4lvdI8Y%2BHb22u9KtrOSW6tLnxLc2FtIDsdJf3IIlxjgSYXBOTV34rS6bqeoaR4O1G%2B1eKHUp2juxpd4IQYmxGBKcFirMwXCkHJ64rL8cafodgbvTB4M0e90nw9YQajc2Gq2ZuCVw6Aw72KxbEibnaclccZzXjY7McLSdfmk2ouKaV24y5XPbtyJylvpF6N6GGIw9WrUqK/uvltq9JLXSyenddbbHH3up2uua9D4zi0C7g1zX7rRtU8MSyWbGZYpIxDNAXAIURJ5hkQkAglsEtz03w48HeK9H8U6Fot34ZubS38L2l/aPqhePyLu2eX/RY48MWb92FZsqAjIRzmrlz4g8YRPPc6frchS71C90u209beMC1dI3MDR4XduAQk7iwPGABV74W38J1L7Fo%2Bqy3dldaLbX7ia7acwzP8pG5yWG7axKk8EHpmvOwmZ4etmMKXLK8nu%2BVdW07K7fM4ttppxVlJdsaGWxjWU5Su7p6JK%2Bt9d95a3VmlZHQeJvh74E8a3lnqHjDwdpmqzadvNi%2Bo2STeQX27iu8HBO1efYVqQw2mn2ohgijghiXCoihVRR7DgCsbxhoXiLxHNBZ6B8QZ9FSNWN4lnaQySyg424aQHy8c8gHOe2OcdPgL4Hu3E3i261bxDIDkNrmqyzKP%2B2YKx/%2BO17VfFZisTKODwql3nKpCMW7doxnUdttUtfLU9bkUKjlGCTe70V/XS7%2BZxf7TFxb3fxo/ZvubWdJY3%2BMt8UkjYMrD/hCvFHQjrXtNeJftHaZpujfGD9m3S9IsIbW2g%2BMl8sNvbxBEQf8IV4o4CjgV7bXr0/aezXtLc1le17X62vra%2B19e5srhRRRVgFFFFABRRRQAUUUUAcx4c%2BNvwY8Y/EHWfhJ4R%2BLvhjVfFfhxFfxD4Z03X7afUNLVsbWuLZHMkAO5cF1Gcj1osPjb8GNV%2BKV78DdL%2BLvhi58babZLeaj4Pt9ftn1S1tiEImktA/nJGRJHh2UA7155FfHH7PHh7xn4L%2BNngDQPEHwg8a6dqfw08VfEe88feJj4H1FrTUbfWdZd7T7NdJAU1H7Y89restu0vkLaMbjyWjAq78NPAHxBg/ae8IfDi4%2BFHii313wp%2B0r428deJvGNx4Zuo9Ku/Dmo6XrcVj5epNGLe6kI1LSbU2qSNKn2BmZFWBCQD3v9vD/AJIhof8A2Wb4cf8Aqa6JWL%2B1v%2B05b/s%2B3sHw8%2BD2nXvir4s%2BNY3h8I%2BDILoyxo7ZzfXCk4gt4yCSxKhtrAYAd00P22fg/wDtP/GHwpoul/ADxV4CW20nxh4b13UPDnjDTb2F9VbS9esdTMceqW0sgsQyWhXLWF1uYgfIG3L4N%2Bwv4P8A2udIj8XfHzTP2dPhr4l8X6/428QaRrvi7xb8dNR%2B3yf2ZrF3prW8Qi8MFIrYPZkoqbdyhCVTCxx7UMLlFWtHE42HPKi%2BanHVXnqrtpq0UviWvMvdS3a4cc8xnBUMK%2BVTupT092P91PeT2i9o/E72SftP7OP7I%2Bqfs7fCuWy1DVovEfjDxLcnUfHevXO8y6lqkzfPIHA5ijDMqKQABufAZjXrXjOTTLixtpZ7yzU2ytMtjdZBnwpG1eVOQenB5xxXn/8AwnH/AAUL/wCjX/gz/wCH41b/AOZekfxr/wAFB5MCT9lz4MNg5GfjvqxwfX/kVq%2BTzrh15visbipVbzxSipc95RXI7x5UrNJe7aGsEoqPKouSfp4GVLAYalQpRtGntbfXe7e7erb3bbd7nf3Wo3ouDPa3c0C2s9tBBZhgQ5YB3D5ySdjYHPGM1b0vW7/Ub2AXvkva6gkzQwiLlFRsKSckMGXk8DBIryx9f/b2k1JdXf8AZR%2BCpuVGFm/4Xvq2Rxj/AKFfrgkZ96i0rVf2%2B9InM9v%2BzF8HnITZEsvx71YiFM52IP8AhFuB/gPSvLoZHxDhsxjNVr03O7tJpWT0bi00%2BaF6fs4WhG0Za2TOqVfDTpNcutu36%2But3q9j1LWvhB8LfELGTV/h/pMrnrMtkiSf99KA361m/wDCifC1l/yLPiLxHow7JpviCfZ/3xIzr%2BGK8Ym%2BOX7dnjL4y638Drb9mj4Z2Oq%2BGPDGk67dXlr8ftUjglg1K41K3hRT/wAIwSzq2lTlgygASR4LEsF6/TPFn/BRCwsY7Of9m74P3TIDmef48arvfknnHhYD26dq9SeS5dicynGrl0FG11VTgnJ6XTUFTqRe%2Brk07eaOGVGg4KV1ftZr8djuP%2BFffFDTuND%2BN926D7ser6Nb3H5sgjb9aNv7Qun8CTwhqar3Zbm0dvy8wZrjv%2BE4/wCChf8A0a/8Gf8Aw/Grf/MvR/wnH/BQv/o1/wCDP/h%2BNW/%2BZeuj/V7DQ/gVq1P/AA1ptfdP2iMvZro39/8Aw52P/CcfF6y/5CXwSMwH3n0zxDBJn3CyiM0f8LlktuNX%2BE/jG1I%2B8y6OJ1H4wu9cd/wnH/BQv/o1/wCDP/h%2BNW/%2BZeuX1b9o79u3R/jPoHwOuP2UPhI2qeIvC%2Br67Z3KfHXVPIjg065023mRyfDG4OzapAVAUghJMlSFDH9l5tT/AIWPn/2/Toz/ACVNhyz6S/I9a/4aC%2BF0Xy6nq17YN3XUNGuocfUtHj9a2vCnxE8DeOWlTwh4ps9QaFQ0yW0wZkB6EjqK8z/4Tj/goX/0a/8ABn/w/Grf/MvTE8X/APBQKKVp4/2V/gsruPmdfjrqoJ%2Bp/wCEWrfDUc9p117evTnDranKMvk1UlH70NKonq193/BPQ/HvjbUvDskFj4f0%2BO6uDNAbvzQ2yGGSURgnH8TEkKPbniq/xA1%2B3tLqWxi8K6fqLWemvf6h9vwAlupIwvyNuc7WwDgcckV5R4u0v9tjxrNFd63%2ByH8EHuY5on%2B1/wDC8NU81ljcMELf8ItnacYI9CcYqDxJa/8ABRTxAd4%2BAPwbga509rDU3Hxt1Qm5tmJO0f8AFMDy2AZgGGcbjx0rzcdS4i5sS6bupOPJytaJKd1aSsm3yOTvJNKVraJxOM5Jp6r%2Bu56Be6X8JNX1iOK9%2BCfh2502S7jtJL%2B5023Z1mePeB5ZjIKjozFgQegI5qj4f%2BE37OnjTUPsl1%2Bzt4ds0uLY3NhMdGt1%2B0xbtpbCKChzg7T2INeR/GD4jft3fB3TbTxp4k/Zn%2BEVxod5440OwTS7H416oZhe6pf2ukQMZG8NqPIWa8SVwF3gKxUtgIet8Jp/wUV8PXdrc6h%2Bz38F7z7Dpi2VoE%2BNurRELuyzsf8AhGW3McL0wODxzxzUMLncsbH29OLhza3jStbVPpzKNrOH2ua/NocssDhakvfpQfrGH/yJ6DL%2ByF%2BzTK2//hTukIfWGNo//QWFN/4ZB/Z2H%2Bq%2BHnl/9cdWu0/9BlFcX4uu/wDgoh4sigjh%2BBnwx0kwMx36R%2B0DqkZkzjht3hRsgY4%2BprD/AOEc/wCCk0f%2Bo8F%2BCB/10/aAvW/n4Pr0MVSnRruNLLo1I/zKVGN/%2B3ZJNW23IllOWX0w0P8AwGK/RHqH/DIvwCH3PCmoJ/1z8Uaiv8rij/hkb4E9vD%2BsD6eMNU/%2BSa8v/sb/AIKdL/q/CHw9H%2B98c7tv/dQrl/jb8Qv%2BCk3wH%2BDHi744%2BKfAngO60vwZ4Yv9d1K1sPjTcNcTW9pbSXEiRh/CaqXKxkKGZRkjJA5rn5q//Qqf/gdD/wCSRP8AZWW/9A0fuie8f8MjfAjv4d1c/Xxfqh/9uaP%2BGRPgB0fwfev/ANdPEuoN/OevL/7K/wCCoZ%2B94T%2BHP4fG26H/ALqNH9if8FNm/wBb4P8Ah%2Bf9z463a/8AuoUc1d7ZU/8AwOh/8kw/srLf%2BgaP3RPUP%2BGQP2cm/wBb8NIZf%2Bu%2BoXMn/oUpqW3/AGSP2abU5j%2BDGhsf%2Bmtrv/8AQia8q/4Rn/gpC/M/gjwU3sn7Qt8n8vCFH/CI/wDBQt/9f8NfBr/93K6sn/oHhQUL650yqPzqUP8A5BjWVZatsLD/AMBh/wDIs9ms/wBnL9n6wwbb4I%2BFAR0ZvD9ux/MoTWvY/DD4aaXj%2BzPh5oVvjp5GkQpj8lrwL/hBv265P%2BP34IeBbn1E/wC1B4g/p4ZFcv8ABG9/ab%2BPfwY8IfHLQf2O/hoNN8Z%2BF9P13TrfWf2k9faeK3u7aO4jSVV8PMgcLIAwUsMg4JHNbRlnK/h4ClH1qx/9soM3hhMPT%2BCjBeiivygfXSJpWjw7UW3tYx2AVF/pVC9%2BIHgPTc/2j420i3x18/Uokx%2BbV8/wfDb9qOB/MH7DXwIkb1uPjpq8p/8AH/DBrTstG/a/07BsP2HP2fYSO8fxj1AH8/8AhFa2U%2BJ5bU6EPWdWX5QgdK9olZJL7z1a8%2BPXwasm2SfEjSpD2FvciUn6bM5qA/HzwBccaNFrWpN2XT/D13Jn6HywD%2BdcPZ%2BJv2%2BdPXbYfsn/AASgHpD8c9VX%2BXhap/8AhOP%2BChf/AEa/8Gf/AA/Grf8AzL0fV%2BJanxYilH/DSlL8Z1V%2BKC1Xuvu/4J2P/C3NavPk0T4M%2BLJ2PQ3VrDaqfxllBH5Uf8JZ8bdQ%2BTT/AIR2FlnpJqniNTj6rDG/868m8A/tHft2/ETxX438IaP%2Byh8JIbjwH4oi0LVZLn466oEnnk0rT9TDxbfDBJTydRhUlgp3o4xgBm6j/hOP%2BChf/Rr/AMGf/D8at/8AMvR/ZWZ1P4uPqf8AbkKUP/bJv8Q5JPeX5HY/2f8AtA6l8l14l8LaUp72emz3Tj8ZJEB/Ktfwj4a8YaNdy3fin4iXGs%2BZHtSBtOht44jnO4BBuJ7csa83/wCE4/4KF/8ARr/wZ/8AD8at/wDMvR/wnH/BQv8A6Nf%2BDP8A4fjVv/mXrfD5Lh6FaNaVWrOS256s2v8AwFcsH84sagk73f3ne%2BN/hjH4vu31KHxLqNnOwt8Jb3G2L9zIXUkKA2QWbGGGCc1F4/8ACI1Cwe7N/P8AbbiJrNktdqLdwEs3kyBg%2BVCl8sMNgtyMmvPr3xT/AMFEbu5t54/2cvhBAsDlnih%2BPGqbZvZs%2BFScfTHWuWHx0/bb8ZfGPXPgTc/sk/CVtS8NeGtI1%2B5uX%2BPOrLbvBqNxqdtCiFfDO4uraZOXBULiSPBYlgvm5nkixeGxkMPRUalSyUnPSTt8aS5uVx5ppXjq%2Bji2ntThQjUjKeq6rX/Nfh0Pa9S8L2V1PYeMtB0udbuUxvMbSRc7TFt3hJT5e8Lhd5G7HGarTJpMUk%2Bo6aDYEWkkwMYETSXMUhEpkCYEj8AHOeDx1rz3T9S/b907Sk0a3/Zm%2BECwIoVVi%2BPurxkck5BTwsCCc881Yj139vSK0jsf%2BGTvgo8UTbo1l%2BO2rPhs53ZbwuTnPfrXh1%2BFs0x0ed8tOU4wc1duKqqKi3Dk5ZRTbc5O65pRhpozshXw1F%2B6r2btok7Pve%2BvT0uehWg2a3Hutymoyal5hcRnL27orNlu6jlRzwVArptVs7q/sXtLTU5bSRsYuIVUsozzjcCORx%2BNeQ/8Jx/wUK/6Nf8Agz/4fjVv/mXo/wCE4/4KF/8ARr/wZ/8AD8at/wDMvX0eVcPU8uwtfDzm5RqvW14OzTTd4yT53zPmmnFu0equY1sS6s4ySs18/wA%2BnkQ/tI2jWPxi/ZttHu5rgx/GS%2BBmnYF3/wCKK8UckgAZ/CvbK%2BV/if4l/at1f9pP9nS1%2BNfwX%2BHvh/Rx8XNRaO%2B8LfE6%2B1i5M/8Awhfibahgn0WyUIQWJfzSQQBsOSV%2BqK96lShRpRpwVlFJLd6JWWrbb9W2%2B7b1Odtyd2FFFFaCCiiigAooooAKKKKACqPijxDYeEfDWo%2BK9VD/AGXTLGa7ufKXLeXGhdsDucKavVHd2lrf2stje26TQzRtHNFKoZXUjBUg8EEcYoA%2Bb/2Nf2pfj58VPGGjeFvj/pvhJH8b/CfTviB4XXwnp9zb/wBl29xKEn0y6ae4mF1JCJrTbdxiBZS8v7iLYN3k2j/8FHfjj4L%2BF%2Bm/FLWfAXgefS/ir8L9V8dfCbRdG025sn02b%2B1tKtre11WZriVbprhtfsp5Z4YoNjR3Q2OSjn379n/9hfwh%2BznrFrrXhP4y%2BOtUk0zRdP0DQ08QXOnXA0zw/ZGYwaNCVskY2%2B6YFppC95J5EIe5YRgVg6T/AMExvgRaaNrfhXXfGfjLWtEvfCWo%2BGPC2j6jqVskXg3Sb26iu57bS3t7aOZP39tZuklxJPJH9ht1R1WPaQDsP2Xfi58V/GPiX4h/CD45XPh6%2B8T/AA88S2tjLrfhXSJ9PsdUtLrTbW%2BhmW1nubmS3dTPLCyGeUHyBICBJsT12vP/AIA/s%2BaR8BbPxBcnx94h8Xa94s1wat4m8V%2BK2tPt2o3C2sFpFuWyt7e3iSO3toI1SKFF%2BQsQXd3b0CgAr5d%2BA37Y3xt%2BIPxi8LSeNtM8LL4D%2BJmteLdM8FWel6bcx6rpcmi3csUMl5cPcvFdLd29tczFY4YDbt5ceZ8mQfUVeGeDv2DPA3gL4lyfEjwv8XfG8Atb3V7vwroEk%2BnSaf4Yn1W%2BS91N7JHsjITcSK6/6Q8/kxzypb%2BQrYABTvfip8cvAf7bXhr4VeIdR8A69pnj611WVdM8P%2BF7q11vw/pFhG0lvfXt495LHdwGeZbbaLe32zXy7C4WTOT/AME1/wBqf4u/tLfC%2B31D9ovxNolp8QD4U0TVvEfw9tfhPrfhK%2B8MTXlu7SxSxavdzyXsPnJLDHdRLHEzWsuC5yE6v4f/ALGJ%2BHX7QnjP9ofS/wBpj4iXl546uzLrWh6lFoUtpHEkDw2tpBN/ZgvYba13tJDCLnYJHkdxI00xk2/gx%2BzHa/Cn4g6z8W/FPxl8YeP/ABXrWj2mkSa94x/s2OS20%2B2lnmjtoYdNs7SBF824ldnMZkclQzlURVAPT6KKKAPl39pr9sb42/Cz4p%2BMW%2BHmmeFm8G/CbRfDep%2BO7bWdNuZtR1iPVL64imjsZo7mOO0a2tYPPDSRXAnklEWIQpkM37XH7S3xM%2BCX7THhPSV1jw94S8CN4UuLrXfiD4i%2BEWs6/b2kzX9tF9jk1Cxu7e30eKSMeYZromPMSE8Jiu2%2BM/7EPw4%2BN3xSPxM1zxz4q0uLUbXSLXxf4a0a6tU07xTBpd7Je2MV8stvJMFjmmlz9nlgMschimMsYVBL8cP2Rp/2g/BzfDT4h/tJ/EJvCupaLJpPi/w3YposNv4ntJGYTRXcg03z4hJE7Qv9klt8xnHDfNQB59/w2N8bP%2BGgfM/szwt/wrH/AIXP/wAK0%2Bwf2bc/239s/s3z/wC1PtX2nyPK%2B2/6L9l%2Bz7vL/f8An5/c19RV4z/wxD8OP%2BF//wDC9v8AhOfFX2f/AISv/hKv%2BEE%2B1Wv9if2//Zv9m/2ps%2Bz/AGnzfs3/ACy%2B0fZ/N/f%2BT537yvZqACvnr9rz9on9oDwH8QIfhd%2Bzha%2BEV1PT/hrrvjfWbjxlptzdQ3UFhJaxQ6bCLe4gMElw9xJm6YyrAIB%2B4mMmF%2Bha8j/aX/Y88H/tM6hZa1qPxJ8X%2BEdQt/D%2Bp%2BH77UfBt5awzalouoeQbzT5jc204WORraFhLEI7iIoTFNHvfcAcn%2B1V8fPHtj%2BxP/w158I/E3hLSdLsPBa%2BLpdK8a%2BArnXZNQxbx3dlbW8dvqVl5VyZvLVCTITI0e0KQCeU1L9qv9qL4fftK%2BDvhF8e/EXhDwboVx4A8G3Ov69/wqLXr/TdZ8UajfalaajpdrrEd%2BtlpIV7WxW3S786Rm1CMZlJVT7V43/Zh8F/EL4eaR8KfE3iTWX8PaJ4t0rXLHS7cWkMWzTbyG8stOYJbjdZxy28B2n94yxBXkYFt1T41/stQfHvxNZ3Hjf43%2BNY/Clvfade3nw7sDpkek6jPZXSXULzSmya%2Bx50ULPHHdJG4iCspVnVwD1SiiigDxf/AIKC/F344fs/fsj%2BNPj18Ar3wpHrHgnQrvXLqDxhotzfW13aWttLM9uiW11bMkrsiKJC5VAWJR%2BBV39sH4n%2BLvAng7w14F%2BHumaDca98R/GVr4U02XxVpsl7plqs8M9xczXNtHLC1yi2lrc4hEsfmOUUuoJI1P2sf2cbL9rT4Ea9%2Bz7rXxV8U%2BEdJ8T2Utjrl/4QXTvtdzZSxPFNbbr%2B0uo0R1flkRZAVG115zneN/2VpPiV8OrPwR48/aC8dajqek6np2qaB4xMWjwanpOpWZJW8hEGnJbM8gZ1kSWCSFkkdPLCsVIB8%2B3v7fn7Vfibw1qGgfDnQvAEHi74f%2BGvGmr/ABAk1fSb2Sw1d9A1iTTIrWwRLtHshfGCafzpXufsg2IYrkksPsXwL4u034geCNG8e6NHKlnrelW9/aJMuHWOaJZFDAdDhhn3rwXxH/wTJ%2BEOueB9O8Gab8WPiBos0ek6/pfifXtI1OyS/wDFdlrd59u1aG/eS0dAbi63S%2BbapbywGRxbvArFa%2BiNM03T9G0230fSbKO2tbSBIba3hQKkUagKqKBwAAAAPagCeua%2BMUnxNh%2BGWsT/AAc1rQdO8SxWu/TL3xNpU19YxFWBcywQT28ko8sPhVlj%2BYrlsZrpawviZ4O1T4g%2BA9T8F6N8QdZ8K3Go2/kp4g8Pw2cl5ZgkFmiW9t7i3JIBU%2BZC4wxwAcEAHBfAT4o/GD9ob9iP4f8Axr8P3PhrR/Gvjj4caJrjS3mlXFxpdneXllBcSn7Mtwk0kSmR9sfnqxAUGTq1eA3v7Zn7Ueg/BzT18BaR4VuoNH%2BOd34E1Dx54O%2BDWu69o8mhWeiXVy%2Bo2miabetdRrFqMKaS5FzLEksErZwVC%2Bw%2BEv2Gp/Bn7JafseaT%2B1v8V10G18EJ4V0rX4Z9EttY02xjRIonguLbS41WZIEEKylCdpLnMuJRo%2BD/ANkbxN8PfghpPwN8A/tefEbRLXQrhF0nV9L0TwrDcWtglusEempCuifY1tk2h1It/ODHHm7MIAD0L4O%2BN9N%2BJXwn8NfEDSPHGkeJrfWdDtbtPEPh%2B0a3sdSLxKxuIInllaGNySyxtJIyAhWdiCT0lcv8FfhD4N%2BAfwp0H4OfD%2BK5XSPD2npaWbX1y008oGS0ssjcvI7FnZu7MTgdK6igArxf9jn4u/HD4lXXxS8HfH698KXes/D/AOJjeHra%2B8H6Lc2FrcWraNpWpIWiubq5cyK2oPGXDhXEasETJFe0V4v8Cf2PNY%2BBPjTxf41tP2sviV4jk8ceK4fEGvWPiG08OiB7tLW3syE%2ByaRA6Rvb2ltEwD5xCGUq7OzAHhngj9v/AOKvgz4b/GL4ifF6Hw1beLvDel%2BINY0T4YN8KNa8M31/HZag%2Bn2V42pX91JFqtvJGunrJc2sOyL7TFkgbEPvP7Mnxc%2BMfiPx94/%2BBfx/u/DOoeJvAt1pky654Q0a406x1Cxv7TzYm%2BzXFzcvDKksVzEw85wyxxyDZvMaZmufsEeBviJqviDVfj18YPHPxDOueCdX8JWkHiSfTrZNF0nU5IHvYbT%2BzbK1PmObS0xPMZZk%2BzJtdSXLdj8AP2c9K%2BAx8Q6xcfEjxN408ReK9Rhu/EHizxhJZm%2Bu/Ito7aCLbZW1tbxxRxRgKscS5Z5Hbc8jswB6JRRRQB4v8Ffi78cNa/a4%2BLPwF%2BKl74UutH8MaF4e1zwhP4f0W5tbmK01K51mH7PePNdTLcSoumRN5kaQLmVxsOAa5/xJ8RP2lvCv7fngv4QaZ4q%2BHOq%2BHPF2kaxrHiGzg%2BH15b6zpeg6ciRW%2B/Uf7VeKWQ6hqNuqq1oqsjXRVVKk10Gi/seaxoH7RfjD9pLTv2sviUNQ8Z6VZaZe6E9p4dOn2dpZz3U1pFAP7I88eUb26UNJNIzLMd5cqhXtNL%2BBfhXS/jh4l/aBTVtTm1/xJ4Y03QG8%2BaMw6dZWUt3Mi2yiMFGeW9leRmL7ykQ4EagAHj3/AATi/an%2BLv7R/gXzf2i/E2iWXjv/AIRnSNV1n4eW/wAJ9b8KX3hxrqOUyLIur3cz6hAZUeKO6gSOItbS8uThPpWvLvg3%2By/bfC34i6p8X/Fvxp8ZfEHxTqWiW%2BjJrfjI6bG9np8Mskwt4YtNsrSBQ0srO7tG0jEIC%2B1FUeo0AFeD/ta/Gb9oL4DeJPC/i7wZ4g8D3vh7WvF2heHbbwLfeHLyTXNcub2%2BWG5a0vY71YoTBatJdbGtJh5dpMzvGgLx%2B8V4z8Sf2OV%2BIn7TuiftTW/7R3xA0LVfD%2BhjStM0DTIdEuNLggebzblo0vtMuJoZbkCOOaWKVHaOGNFZAOQDhf22P2ofjN8LfGXiCz%2BDXhzwddJ8J/hRdfErxMPFmlT3U2owq11DFp9hJFcQixnlhtdQU3bidU3Rr5Lq7kVdI/bZ%2BMWt/Gy112x07wufhVd/F9Ph1DYtpdyNcNy2li5GqG5%2B0%2BQIvth%2BzfZPs%2B7y/wB/5%2Bf3Ndx8dP2EfBX7QbRTeNvjB44tprvwvd%2BGPF8%2BkXGnQN4r0K5mEsmmXw%2BxFVi%2B%2BiyWwt50SaULKPMcm1H%2Bw58NIfj2vxwh8a%2BKEtE8UjxQvgJbm0Ghrrw03%2BzRqYT7N9p837Nx5X2j7P5n77yfO/eUAe0UUUUAFFFFABRRRQAUUUUAFFFFABRRRQAUUUUAFFFFABRRRQAUUUUAFFFFABRRRQAUUUUAFFFFABRRRQAUUUUAFFFFABRRRQAUUUUAFFFFABRRRQAUUUUAFFFFABRRRQAUUUUAFFFFABRRRQAUUUUAFFFFAH//2Q%3D%3D\">"
      ]
     },
     "metadata": {},
     "output_type": "display_data"
    }
   ],
   "source": [
    "try:\n",
    "    display_html(HTML(anim.to_html5_video()))\n",
    "except (RuntimeError, KeyError):\n",
    "    # In case the build-in renderers are unaviable, fall back to\n",
    "    # a custom one, that doesn't require external libraries\n",
    "    anim.save(None, writer=matplotlib_utils.SimpleMovieWriter(0.001))"
   ]
  },
  {
   "cell_type": "code",
   "execution_count": null,
   "metadata": {},
   "outputs": [],
   "source": []
  }
 ],
 "metadata": {
  "kernelspec": {
   "display_name": "Python 3",
   "language": "python",
   "name": "python3"
  },
  "language_info": {
   "codemirror_mode": {
    "name": "ipython",
    "version": 3
   },
   "file_extension": ".py",
   "mimetype": "text/x-python",
   "name": "python",
   "nbconvert_exporter": "python",
   "pygments_lexer": "ipython3",
   "version": "3.6.5"
  }
 },
 "nbformat": 4,
 "nbformat_minor": 1
}
